{
 "cells": [
  {
   "cell_type": "markdown",
   "id": "0bcde846",
   "metadata": {},
   "source": [
    "### Sol 1"
   ]
  },
  {
   "cell_type": "code",
   "execution_count": 46,
   "id": "b54fec37",
   "metadata": {},
   "outputs": [
    {
     "data": {
      "text/plain": [
       "515"
      ]
     },
     "execution_count": 46,
     "metadata": {},
     "output_type": "execute_result"
    }
   ],
   "source": [
    "def meme_sum(n1,n2):\n",
    "    s1,s2=str(n1),str(n2)\n",
    "    if len(s1)<len(s2):\n",
    "        s1=\"0\"+s1\n",
    "    if len(s2)<len(s1):\n",
    "        s2=\"0\"+s2\n",
    "    y=[]\n",
    "    for i in range(0,len(s1)):\n",
    "        y.append(int(s1[i])+int(s2[i]))\n",
    "        re=\"\".join([str(i) for i in y])\n",
    "    return(int(re))\n",
    "\n",
    "meme_sum(26,39)"
   ]
  },
  {
   "cell_type": "code",
   "execution_count": 48,
   "id": "7f24c870",
   "metadata": {},
   "outputs": [
    {
     "data": {
      "text/plain": [
       "31499"
      ]
     },
     "execution_count": 48,
     "metadata": {},
     "output_type": "execute_result"
    }
   ],
   "source": [
    "meme_sum(1222, 30277)"
   ]
  },
  {
   "cell_type": "code",
   "execution_count": 49,
   "id": "31372743",
   "metadata": {},
   "outputs": [
    {
     "data": {
      "text/plain": [
       "1103"
      ]
     },
     "execution_count": 49,
     "metadata": {},
     "output_type": "execute_result"
    }
   ],
   "source": [
    "meme_sum(122, 81)"
   ]
  },
  {
   "cell_type": "markdown",
   "id": "04b4c9d0",
   "metadata": {},
   "source": [
    "### Sol 2"
   ]
  },
  {
   "cell_type": "code",
   "execution_count": 7,
   "id": "401bf091",
   "metadata": {},
   "outputs": [
    {
     "name": "stdout",
     "output_type": "stream",
     "text": [
      "13\n"
     ]
    }
   ],
   "source": [
    "def next_prime(n):\n",
    "    c=0\n",
    "    for i in range(2,n+1):\n",
    "        if n%i==0:\n",
    "            c+=1\n",
    "    if c==1:\n",
    "        print(n)\n",
    "    else:\n",
    "        n=n+1\n",
    "        return(next_prime(n))\n",
    "    \n",
    "next_prime(12)          "
   ]
  },
  {
   "cell_type": "code",
   "execution_count": 8,
   "id": "4c497dc5",
   "metadata": {},
   "outputs": [
    {
     "name": "stdout",
     "output_type": "stream",
     "text": [
      "29\n"
     ]
    }
   ],
   "source": [
    "next_prime(24)"
   ]
  },
  {
   "cell_type": "code",
   "execution_count": 9,
   "id": "6eb402a9",
   "metadata": {},
   "outputs": [
    {
     "name": "stdout",
     "output_type": "stream",
     "text": [
      "11\n"
     ]
    }
   ],
   "source": [
    "next_prime(11)"
   ]
  },
  {
   "cell_type": "markdown",
   "id": "89c6a788",
   "metadata": {},
   "source": [
    "### Sol 3"
   ]
  },
  {
   "cell_type": "code",
   "execution_count": 9,
   "id": "ab6a81be",
   "metadata": {},
   "outputs": [
    {
     "data": {
      "text/plain": [
       "30.0"
      ]
     },
     "execution_count": 9,
     "metadata": {},
     "output_type": "execute_result"
    }
   ],
   "source": [
    "def avg_speed(time,su,sd):\n",
    "    dis=(time/60)*su\n",
    "    tot_dis=2*dis\n",
    "    t1=dis/sd\n",
    "    tot_time=(time/60)+t1\n",
    "    average_speed= tot_dis/tot_time\n",
    "    \n",
    "    return(average_speed)\n",
    "\n",
    "avg_speed(18,20,60)"
   ]
  },
  {
   "cell_type": "code",
   "execution_count": 10,
   "id": "20583685",
   "metadata": {},
   "outputs": [
    {
     "data": {
      "text/plain": [
       "53.33333333333333"
      ]
     },
     "execution_count": 10,
     "metadata": {},
     "output_type": "execute_result"
    }
   ],
   "source": [
    "avg_speed(20,40,80)"
   ]
  },
  {
   "cell_type": "code",
   "execution_count": 14,
   "id": "a6173d08",
   "metadata": {},
   "outputs": [
    {
     "data": {
      "text/plain": [
       "12.0"
      ]
     },
     "execution_count": 14,
     "metadata": {},
     "output_type": "execute_result"
    }
   ],
   "source": [
    "avg_speed(30,8,24)"
   ]
  },
  {
   "cell_type": "markdown",
   "id": "a49c6b5f",
   "metadata": {},
   "source": [
    "### Sol 4"
   ]
  },
  {
   "cell_type": "code",
   "execution_count": 15,
   "id": "55ba7827",
   "metadata": {},
   "outputs": [
    {
     "data": {
      "text/plain": [
       "3"
      ]
     },
     "execution_count": 15,
     "metadata": {},
     "output_type": "execute_result"
    }
   ],
   "source": [
    "def kempner(n):\n",
    "    def fact(n):\n",
    "        if(n==0 or n==1):\n",
    "            return n\n",
    "        else:\n",
    "            return n*fact(n-1)\n",
    "        \n",
    "    for i in range(1,n+1):\n",
    "        if fact(i)%n==0:\n",
    "            return(i)\n",
    "kempner(6)"
   ]
  },
  {
   "cell_type": "code",
   "execution_count": 16,
   "id": "60a08958",
   "metadata": {},
   "outputs": [
    {
     "data": {
      "text/plain": [
       "5"
      ]
     },
     "execution_count": 16,
     "metadata": {},
     "output_type": "execute_result"
    }
   ],
   "source": [
    "kempner(5)"
   ]
  },
  {
   "cell_type": "code",
   "execution_count": 17,
   "id": "9711032a",
   "metadata": {},
   "outputs": [
    {
     "data": {
      "text/plain": [
       "5"
      ]
     },
     "execution_count": 17,
     "metadata": {},
     "output_type": "execute_result"
    }
   ],
   "source": [
    "kempner(10)"
   ]
  },
  {
   "cell_type": "code",
   "execution_count": null,
   "id": "c2ea5b2c",
   "metadata": {},
   "outputs": [],
   "source": []
  }
 ],
 "metadata": {
  "kernelspec": {
   "display_name": "Python 3",
   "language": "python",
   "name": "python3"
  },
  "language_info": {
   "codemirror_mode": {
    "name": "ipython",
    "version": 3
   },
   "file_extension": ".py",
   "mimetype": "text/x-python",
   "name": "python",
   "nbconvert_exporter": "python",
   "pygments_lexer": "ipython3",
   "version": "3.8.8"
  }
 },
 "nbformat": 4,
 "nbformat_minor": 5
}
