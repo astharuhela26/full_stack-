{
 "cells": [
  {
   "cell_type": "markdown",
   "id": "48764a86",
   "metadata": {},
   "source": [
    "### Sol 1"
   ]
  },
  {
   "cell_type": "code",
   "execution_count": 16,
   "id": "72c6cc71",
   "metadata": {},
   "outputs": [
    {
     "data": {
      "text/plain": [
       "[['####'], ['#    #'], ['#    #'], ['#    #'], ['####']]"
      ]
     },
     "execution_count": 16,
     "metadata": {},
     "output_type": "execute_result"
    }
   ],
   "source": [
    "def get_frame(w,r,c):\n",
    "    l=[]\n",
    "    if w>2:\n",
    "        for i in range(r):\n",
    "            if i==0 or i==(r-1):\n",
    "                l.append([c*w])\n",
    "            else:\n",
    "                l.append([c+((\" \")*w)+c])\n",
    "        return(l)\n",
    "    else:\n",
    "        return(\"invalid\")\n",
    "    \n",
    "    \n",
    "get_frame(4,5,\"#\")"
   ]
  },
  {
   "cell_type": "code",
   "execution_count": 17,
   "id": "aafc458c",
   "metadata": {},
   "outputs": [
    {
     "data": {
      "text/plain": [
       "[['**********'], ['*          *'], ['**********']]"
      ]
     },
     "execution_count": 17,
     "metadata": {},
     "output_type": "execute_result"
    }
   ],
   "source": [
    "get_frame(10,3,\"*\")"
   ]
  },
  {
   "cell_type": "code",
   "execution_count": 18,
   "id": "68c0a95f",
   "metadata": {},
   "outputs": [
    {
     "data": {
      "text/plain": [
       "'invalid'"
      ]
     },
     "execution_count": 18,
     "metadata": {},
     "output_type": "execute_result"
    }
   ],
   "source": [
    "get_frame(2, 5, \"0\")"
   ]
  },
  {
   "cell_type": "markdown",
   "id": "bff11b29",
   "metadata": {},
   "source": [
    "### Sol 2"
   ]
  },
  {
   "cell_type": "code",
   "execution_count": 30,
   "id": "c3caf848",
   "metadata": {},
   "outputs": [
    {
     "data": {
      "text/plain": [
       "False"
      ]
     },
     "execution_count": 30,
     "metadata": {},
     "output_type": "execute_result"
    }
   ],
   "source": [
    "import functools\n",
    "from functools import reduce\n",
    "l=[True,True,False,True]\n",
    "def boolean_and(a,b):\n",
    "    return(bool(a*b))\n",
    "reduce(boolean_and,l)"
   ]
  },
  {
   "cell_type": "code",
   "execution_count": 27,
   "id": "2e4a436d",
   "metadata": {},
   "outputs": [
    {
     "data": {
      "text/plain": [
       "True"
      ]
     },
     "execution_count": 27,
     "metadata": {},
     "output_type": "execute_result"
    }
   ],
   "source": [
    "l1=[True,True,False,False]\n",
    "def boolean_or(a,b):\n",
    "    return(bool(a+b))\n",
    "\n",
    "reduce(boolean_or,l1)"
   ]
  },
  {
   "cell_type": "code",
   "execution_count": 28,
   "id": "779a2f56",
   "metadata": {},
   "outputs": [
    {
     "data": {
      "text/plain": [
       "False"
      ]
     },
     "execution_count": 28,
     "metadata": {},
     "output_type": "execute_result"
    }
   ],
   "source": [
    "l2=[True,True,False,False]\n",
    "def boolean_xor(a,b):\n",
    "    return(bool(not(a+b)))\n",
    "\n",
    "reduce(boolean_xor,l2)"
   ]
  },
  {
   "cell_type": "markdown",
   "id": "a5fedc42",
   "metadata": {},
   "source": [
    "### Sol 3"
   ]
  },
  {
   "cell_type": "code",
   "execution_count": 38,
   "id": "7ab8a432",
   "metadata": {},
   "outputs": [
    {
     "data": {
      "text/plain": [
       "['#####', '# #', '# #', '# #', '#####']"
      ]
     },
     "execution_count": 38,
     "metadata": {},
     "output_type": "execute_result"
    }
   ],
   "source": [
    "def get_frame(n):\n",
    "    l=[]\n",
    "    \n",
    "    for i in range(n):\n",
    "        if i==0 or i==(n-1):\n",
    "            l.append(\"#\"*n)\n",
    "        else:\n",
    "            l.append(\"#\"+(\" \")+\"#\")\n",
    "    return(l)\n",
    "\n",
    "    \n",
    "    \n",
    "get_frame(5)"
   ]
  },
  {
   "cell_type": "code",
   "execution_count": 39,
   "id": "b9c7a367",
   "metadata": {},
   "outputs": [
    {
     "data": {
      "text/plain": [
       "['###', '# #', '###']"
      ]
     },
     "execution_count": 39,
     "metadata": {},
     "output_type": "execute_result"
    }
   ],
   "source": [
    "get_frame(3)"
   ]
  },
  {
   "cell_type": "code",
   "execution_count": 40,
   "id": "4f797e55",
   "metadata": {},
   "outputs": [
    {
     "data": {
      "text/plain": [
       "['##', '##']"
      ]
     },
     "execution_count": 40,
     "metadata": {},
     "output_type": "execute_result"
    }
   ],
   "source": [
    "get_frame(2)"
   ]
  },
  {
   "cell_type": "markdown",
   "id": "7d79bc41",
   "metadata": {},
   "source": [
    "### Sol 4"
   ]
  },
  {
   "cell_type": "code",
   "execution_count": 62,
   "id": "c84fd209",
   "metadata": {},
   "outputs": [
    {
     "data": {
      "text/plain": [
       "True"
      ]
     },
     "execution_count": 62,
     "metadata": {},
     "output_type": "execute_result"
    }
   ],
   "source": [
    "def no_duplicate_letters(s):\n",
    "    c=0\n",
    "    l=s.split(\" \")\n",
    " \n",
    "    for i in range(len(l)):\n",
    "        se=list(set(l[i]))\n",
    "        if len(l[i])!=len(se):\n",
    "                c=c+1\n",
    "        if c>1:\n",
    "            return(False)\n",
    "    \n",
    "    return(True)\n",
    "\n",
    "no_duplicate_letters(\"Fortune favours the bold\")\n",
    "            "
   ]
  },
  {
   "cell_type": "code",
   "execution_count": 63,
   "id": "2565b088",
   "metadata": {},
   "outputs": [
    {
     "data": {
      "text/plain": [
       "False"
      ]
     },
     "execution_count": 63,
     "metadata": {},
     "output_type": "execute_result"
    }
   ],
   "source": [
    "no_duplicate_letters(\"Look before you leap\")"
   ]
  },
  {
   "cell_type": "code",
   "execution_count": 64,
   "id": "a6a9bb36",
   "metadata": {},
   "outputs": [
    {
     "data": {
      "text/plain": [
       "False"
      ]
     },
     "execution_count": 64,
     "metadata": {},
     "output_type": "execute_result"
    }
   ],
   "source": [
    "no_duplicate_letters(\"An apple a day keeps the doctor away\")"
   ]
  },
  {
   "cell_type": "markdown",
   "id": "e002a4a4",
   "metadata": {},
   "source": [
    "### Sol 5"
   ]
  },
  {
   "cell_type": "code",
   "execution_count": 73,
   "id": "4478f29a",
   "metadata": {},
   "outputs": [
    {
     "data": {
      "text/plain": [
       "['California', 'Florida']"
      ]
     },
     "execution_count": 73,
     "metadata": {},
     "output_type": "execute_result"
    }
   ],
   "source": [
    "import re\n",
    "pattern=(r\"(\\w+)(?=\\s= yes)\")\n",
    "re.findall(pattern,\"Texas = no, California = yes, Florida = yes, Michigan = no\")"
   ]
  },
  {
   "cell_type": "code",
   "execution_count": null,
   "id": "4e58c703",
   "metadata": {},
   "outputs": [],
   "source": []
  }
 ],
 "metadata": {
  "kernelspec": {
   "display_name": "Python 3",
   "language": "python",
   "name": "python3"
  },
  "language_info": {
   "codemirror_mode": {
    "name": "ipython",
    "version": 3
   },
   "file_extension": ".py",
   "mimetype": "text/x-python",
   "name": "python",
   "nbconvert_exporter": "python",
   "pygments_lexer": "ipython3",
   "version": "3.8.8"
  }
 },
 "nbformat": 4,
 "nbformat_minor": 5
}
