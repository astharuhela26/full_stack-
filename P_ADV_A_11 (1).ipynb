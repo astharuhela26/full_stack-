{
 "cells": [
  {
   "cell_type": "markdown",
   "id": "21e648d5",
   "metadata": {},
   "source": [
    "### Sol 1"
   ]
  },
  {
   "cell_type": "code",
   "execution_count": 1,
   "id": "18c432f2",
   "metadata": {},
   "outputs": [],
   "source": [
    "def is_prime(n):\n",
    "    c=0\n",
    "    for i in range(2,n+1):\n",
    "        if n%i==0:\n",
    "            c+=1\n",
    "    if c==1:\n",
    "        return(True)"
   ]
  },
  {
   "cell_type": "code",
   "execution_count": 2,
   "id": "140f160a",
   "metadata": {},
   "outputs": [
    {
     "data": {
      "text/plain": [
       "[7, 3, 11]"
      ]
     },
     "execution_count": 2,
     "metadata": {},
     "output_type": "execute_result"
    }
   ],
   "source": [
    "def filter_primes(l):\n",
    "    prime_list=[]\n",
    "    for i in l:\n",
    "        if is_prime(i)==True:\n",
    "            prime_list.append(i)\n",
    "    return(prime_list)\n",
    "filter_primes([7, 9, 3, 9, 10, 11, 27])"
   ]
  },
  {
   "cell_type": "code",
   "execution_count": 3,
   "id": "351dff58",
   "metadata": {},
   "outputs": [
    {
     "data": {
      "text/plain": [
       "[1009, 3, 61, 1087, 1091, 1093, 1097]"
      ]
     },
     "execution_count": 3,
     "metadata": {},
     "output_type": "execute_result"
    }
   ],
   "source": [
    "filter_primes([1009, 10, 10, 10, 3, 33, 9, 4, 1, 61, 63, 69, 1087, 1091, 1093,1097])"
   ]
  },
  {
   "cell_type": "markdown",
   "id": "79d8f9f7",
   "metadata": {},
   "source": [
    "### Sol 2"
   ]
  },
  {
   "cell_type": "code",
   "execution_count": 4,
   "id": "e65d47d6",
   "metadata": {},
   "outputs": [
    {
     "data": {
      "text/plain": [
       "[0, 1, 2, 3, 4, 3, 2, 1, 0]"
      ]
     },
     "execution_count": 4,
     "metadata": {},
     "output_type": "execute_result"
    }
   ],
   "source": [
    "def pop(l):\n",
    "    \n",
    "    for i in l:\n",
    "        if i!=0:\n",
    "            l1=[i for i in range(i)]\n",
    "            l2=[i for i in range(i,-1,-1)]\n",
    "    return(l1+l2)\n",
    "                   \n",
    "pop([0, 0, 0, 0, 4, 0, 0, 0, 0])     "
   ]
  },
  {
   "cell_type": "code",
   "execution_count": 5,
   "id": "65be2087",
   "metadata": {},
   "outputs": [
    {
     "data": {
      "text/plain": [
       "[0, 1, 2, 3, 2, 1, 0]"
      ]
     },
     "execution_count": 5,
     "metadata": {},
     "output_type": "execute_result"
    }
   ],
   "source": [
    "pop([0, 0, 0, 3, 0, 0, 0])"
   ]
  },
  {
   "cell_type": "code",
   "execution_count": 6,
   "id": "29cedea9",
   "metadata": {},
   "outputs": [
    {
     "data": {
      "text/plain": [
       "[0, 1, 2, 1, 0]"
      ]
     },
     "execution_count": 6,
     "metadata": {},
     "output_type": "execute_result"
    }
   ],
   "source": [
    "pop([0,0,2,0,0])"
   ]
  },
  {
   "cell_type": "markdown",
   "id": "b1c9bebe",
   "metadata": {},
   "source": [
    "### Sol 3"
   ]
  },
  {
   "cell_type": "code",
   "execution_count": 7,
   "id": "d48b62c0",
   "metadata": {},
   "outputs": [
    {
     "data": {
      "text/plain": [
       "'Loves me, Loves me not, LOVES ME'"
      ]
     },
     "execution_count": 7,
     "metadata": {},
     "output_type": "execute_result"
    }
   ],
   "source": [
    "def loves_me(n):\n",
    "    if n==1:\n",
    "        return(\"LOVES ME\")\n",
    "    else:\n",
    "        l=[\"Loves me\" if i%2==0 else \"Loves me not\" for i in range(n-1)]\n",
    "        l.insert(n,l[n-3].upper())\n",
    "        s=\", \".join(l)\n",
    "        return(s)\n",
    "    \n",
    "loves_me(3)"
   ]
  },
  {
   "cell_type": "code",
   "execution_count": 8,
   "id": "f086ffc4",
   "metadata": {},
   "outputs": [
    {
     "data": {
      "text/plain": [
       "'Loves me, Loves me not, Loves me, Loves me not, Loves me, LOVES ME NOT'"
      ]
     },
     "execution_count": 8,
     "metadata": {},
     "output_type": "execute_result"
    }
   ],
   "source": [
    "loves_me(6)"
   ]
  },
  {
   "cell_type": "code",
   "execution_count": 9,
   "id": "e57da9b4",
   "metadata": {},
   "outputs": [
    {
     "data": {
      "text/plain": [
       "'LOVES ME'"
      ]
     },
     "execution_count": 9,
     "metadata": {},
     "output_type": "execute_result"
    }
   ],
   "source": [
    "loves_me(1)"
   ]
  },
  {
   "cell_type": "markdown",
   "id": "aacb359e",
   "metadata": {},
   "source": [
    "### Sol 4"
   ]
  },
  {
   "cell_type": "code",
   "execution_count": 10,
   "id": "5bc9bcf0",
   "metadata": {},
   "outputs": [
    {
     "data": {
      "text/plain": [
       "['2344b', '932c', '832u32']"
      ]
     },
     "execution_count": 10,
     "metadata": {},
     "output_type": "execute_result"
    }
   ],
   "source": [
    "def sort_by_letter(l):\n",
    "    l1,nl=[],[]\n",
    "    \n",
    "    \n",
    "    for i in range(len(l)):\n",
    "        for j in range(len(l[i])):\n",
    "            if l[i][j].isalpha()==True:\n",
    "                nl.append(l[i][j])\n",
    "                l1=nl.copy()\n",
    "                nl.sort()\n",
    "    \n",
    "    s=[l[l1.index(nl[x])] for x in range(len(l))]\n",
    "    return(s)\n",
    "    \n",
    "                \n",
    "sort_by_letter([\"932c\",\"832u32\",\"2344b\"])   "
   ]
  },
  {
   "cell_type": "code",
   "execution_count": 11,
   "id": "3437eb75",
   "metadata": {},
   "outputs": [
    {
     "data": {
      "text/plain": [
       "['99a', '78b', 'c2345', '11d']"
      ]
     },
     "execution_count": 11,
     "metadata": {},
     "output_type": "execute_result"
    }
   ],
   "source": [
    "sort_by_letter([\"99a\", \"78b\", \"c2345\", \"11d\"])"
   ]
  },
  {
   "cell_type": "code",
   "execution_count": null,
   "id": "0dfe4246",
   "metadata": {},
   "outputs": [],
   "source": []
  }
 ],
 "metadata": {
  "kernelspec": {
   "display_name": "Python 3",
   "language": "python",
   "name": "python3"
  },
  "language_info": {
   "codemirror_mode": {
    "name": "ipython",
    "version": 3
   },
   "file_extension": ".py",
   "mimetype": "text/x-python",
   "name": "python",
   "nbconvert_exporter": "python",
   "pygments_lexer": "ipython3",
   "version": "3.8.8"
  }
 },
 "nbformat": 4,
 "nbformat_minor": 5
}
