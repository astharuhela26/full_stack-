{
 "cells": [
  {
   "cell_type": "markdown",
   "id": "94a479f9",
   "metadata": {},
   "source": [
    "### Sol 1"
   ]
  },
  {
   "cell_type": "code",
   "execution_count": 58,
   "id": "60b37d2d",
   "metadata": {},
   "outputs": [
    {
     "data": {
      "text/plain": [
       "['w']"
      ]
     },
     "execution_count": 58,
     "metadata": {},
     "output_type": "execute_result"
    }
   ],
   "source": [
    "def remove_letters(l,s):\n",
    "    [l.remove(i) for i in s if i in l]\n",
    "    return(l)\n",
    "\n",
    "remove_letters([\"s\",\"t\",\"r\",\"n\",\"i\",\"g\",\"w\"],\"string\")"
   ]
  },
  {
   "cell_type": "code",
   "execution_count": 59,
   "id": "773f2ec5",
   "metadata": {},
   "outputs": [
    {
     "data": {
      "text/plain": [
       "[]"
      ]
     },
     "execution_count": 59,
     "metadata": {},
     "output_type": "execute_result"
    }
   ],
   "source": [
    "remove_letters([\"e\",\"d\",\"b\",\"a\",\"i\",\"t\"],\"edabit\")"
   ]
  },
  {
   "cell_type": "code",
   "execution_count": 60,
   "id": "3a32210b",
   "metadata": {},
   "outputs": [
    {
     "data": {
      "text/plain": [
       "['q', 'o']"
      ]
     },
     "execution_count": 60,
     "metadata": {},
     "output_type": "execute_result"
    }
   ],
   "source": [
    "remove_letters([\"a\",\"b\",\"l\",\"l\",\"q\",\"n\",\"o\",\"o\"],\"ballon\")"
   ]
  },
  {
   "cell_type": "markdown",
   "id": "72d1939d",
   "metadata": {},
   "source": [
    "### Sol 2"
   ]
  },
  {
   "cell_type": "code",
   "execution_count": 31,
   "id": "330ff98a",
   "metadata": {},
   "outputs": [
    {
     "data": {
      "text/plain": [
       "39"
      ]
     },
     "execution_count": 31,
     "metadata": {},
     "output_type": "execute_result"
    }
   ],
   "source": [
    "def blocks(n):\n",
    "    l,b=[],5\n",
    "    gap=7\n",
    "    l.append(5)\n",
    "    \n",
    "    for i in range(0,n):\n",
    "        b=b+(gap+i)\n",
    "        l.append(b)\n",
    "        \n",
    "    return(l[n-1])\n",
    "\n",
    "blocks(5)"
   ]
  },
  {
   "cell_type": "code",
   "execution_count": 32,
   "id": "a6e1f72c",
   "metadata": {},
   "outputs": [
    {
     "data": {
      "text/plain": [
       "50"
      ]
     },
     "execution_count": 32,
     "metadata": {},
     "output_type": "execute_result"
    }
   ],
   "source": [
    "blocks(6)"
   ]
  },
  {
   "cell_type": "code",
   "execution_count": 33,
   "id": "8f9ee99a",
   "metadata": {},
   "outputs": [
    {
     "data": {
      "text/plain": [
       "12"
      ]
     },
     "execution_count": 33,
     "metadata": {},
     "output_type": "execute_result"
    }
   ],
   "source": [
    "blocks(2)"
   ]
  },
  {
   "cell_type": "code",
   "execution_count": 34,
   "id": "a65674a8",
   "metadata": {},
   "outputs": [
    {
     "data": {
      "text/plain": [
       "5"
      ]
     },
     "execution_count": 34,
     "metadata": {},
     "output_type": "execute_result"
    }
   ],
   "source": [
    "blocks(1)"
   ]
  },
  {
   "cell_type": "code",
   "execution_count": 61,
   "id": "0c48e2d3",
   "metadata": {},
   "outputs": [
    {
     "data": {
      "text/plain": [
       "29"
      ]
     },
     "execution_count": 61,
     "metadata": {},
     "output_type": "execute_result"
    }
   ],
   "source": [
    "blocks(4)"
   ]
  },
  {
   "cell_type": "markdown",
   "id": "05941228",
   "metadata": {},
   "source": [
    "### Sol 3"
   ]
  },
  {
   "cell_type": "code",
   "execution_count": 82,
   "id": "cb40d107",
   "metadata": {},
   "outputs": [
    {
     "data": {
      "text/plain": [
       "4"
      ]
     },
     "execution_count": 82,
     "metadata": {},
     "output_type": "execute_result"
    }
   ],
   "source": [
    "def my_sub(n1,n2):\n",
    "    l=[]\n",
    "    [l.append(i) for i in range(n1,n2)]\n",
    "    return(len(l))\n",
    "my_sub(5,9)"
   ]
  },
  {
   "cell_type": "code",
   "execution_count": 83,
   "id": "444f1651",
   "metadata": {},
   "outputs": [
    {
     "data": {
      "text/plain": [
       "20"
      ]
     },
     "execution_count": 83,
     "metadata": {},
     "output_type": "execute_result"
    }
   ],
   "source": [
    "my_sub(10,30)"
   ]
  },
  {
   "cell_type": "markdown",
   "id": "60e31e5e",
   "metadata": {},
   "source": [
    "### Sol 4"
   ]
  },
  {
   "cell_type": "code",
   "execution_count": 54,
   "id": "21eb5cbe",
   "metadata": {},
   "outputs": [
    {
     "data": {
      "text/plain": [
       "70"
      ]
     },
     "execution_count": 54,
     "metadata": {},
     "output_type": "execute_result"
    }
   ],
   "source": [
    "def add_bill(s):\n",
    "    l=s.split(\",\")\n",
    "    su=0\n",
    "    for i in range(len(l)):\n",
    "        if l[i][0]==\"d\":\n",
    "            if l[i][-1]==\"k\":\n",
    "                su=su+int(l[i][1])*1000\n",
    "            else:\n",
    "                su=su+int(l[i][1:])\n",
    "    return(su)\n",
    "\n",
    "add_bill(\"d20,p40,p60,d50\")"
   ]
  },
  {
   "cell_type": "code",
   "execution_count": 55,
   "id": "29213f2c",
   "metadata": {},
   "outputs": [
    {
     "data": {
      "text/plain": [
       "170"
      ]
     },
     "execution_count": 55,
     "metadata": {},
     "output_type": "execute_result"
    }
   ],
   "source": [
    "add_bill(\"p30,d20,p60,d150,p360\")"
   ]
  },
  {
   "cell_type": "code",
   "execution_count": 56,
   "id": "c13f8b5d",
   "metadata": {},
   "outputs": [
    {
     "data": {
      "text/plain": [
       "2200"
      ]
     },
     "execution_count": 56,
     "metadata": {},
     "output_type": "execute_result"
    }
   ],
   "source": [
    "add_bill(\"p30,d2k,p60,d200,p360\")"
   ]
  },
  {
   "cell_type": "markdown",
   "id": "e23c192d",
   "metadata": {},
   "source": [
    "### Sol 5"
   ]
  },
  {
   "cell_type": "code",
   "execution_count": 77,
   "id": "3d6be482",
   "metadata": {},
   "outputs": [
    {
     "data": {
      "text/plain": [
       "[[1], [2], [3], [4]]"
      ]
     },
     "execution_count": 77,
     "metadata": {},
     "output_type": "execute_result"
    }
   ],
   "source": [
    "def flip_list(l):\n",
    "    if l==[]:\n",
    "        return(l)\n",
    "    \n",
    "    elif type(l[0])==list:\n",
    "        return([i[0] for i in l])\n",
    "    \n",
    "    else:\n",
    "        return([[i] for i in l])\n",
    "        \n",
    "flip_list([1, 2, 3, 4])"
   ]
  },
  {
   "cell_type": "code",
   "execution_count": 78,
   "id": "a3a37e62",
   "metadata": {},
   "outputs": [
    {
     "data": {
      "text/plain": [
       "[5, 6, 9]"
      ]
     },
     "execution_count": 78,
     "metadata": {},
     "output_type": "execute_result"
    }
   ],
   "source": [
    "flip_list([[5], [6], [9]])"
   ]
  },
  {
   "cell_type": "code",
   "execution_count": 79,
   "id": "e2024617",
   "metadata": {},
   "outputs": [
    {
     "data": {
      "text/plain": [
       "[]"
      ]
     },
     "execution_count": 79,
     "metadata": {},
     "output_type": "execute_result"
    }
   ],
   "source": [
    "flip_list([])"
   ]
  },
  {
   "cell_type": "code",
   "execution_count": null,
   "id": "f9a74382",
   "metadata": {},
   "outputs": [],
   "source": []
  }
 ],
 "metadata": {
  "kernelspec": {
   "display_name": "Python 3",
   "language": "python",
   "name": "python3"
  },
  "language_info": {
   "codemirror_mode": {
    "name": "ipython",
    "version": 3
   },
   "file_extension": ".py",
   "mimetype": "text/x-python",
   "name": "python",
   "nbconvert_exporter": "python",
   "pygments_lexer": "ipython3",
   "version": "3.8.8"
  }
 },
 "nbformat": 4,
 "nbformat_minor": 5
}
