{
 "cells": [
  {
   "cell_type": "markdown",
   "id": "36cf2779",
   "metadata": {},
   "source": [
    "### Sol 1"
   ]
  },
  {
   "cell_type": "code",
   "execution_count": 39,
   "id": "ee3d2465",
   "metadata": {},
   "outputs": [
    {
     "data": {
      "text/plain": [
       "[3.0, 3.0, 3.0]"
      ]
     },
     "execution_count": 39,
     "metadata": {},
     "output_type": "execute_result"
    }
   ],
   "source": [
    "def show_the_love(l):\n",
    "    s=0\n",
    "    \n",
    "    for i in range(len(l)):\n",
    "        \n",
    "        if l[i]!=min(l):\n",
    "            s=s+(0.25*l[i])\n",
    "            l[i]=0.75*l[i]\n",
    "            \n",
    "    for i in range(len(l)):\n",
    "            \n",
    "        if l[i]==min(l):\n",
    "            l[i]=l[i]+s\n",
    "            break\n",
    "            \n",
    "    return(l)\n",
    "\n",
    "show_the_love([4,1,4])"
   ]
  },
  {
   "cell_type": "code",
   "execution_count": 40,
   "id": "d573368d",
   "metadata": {},
   "outputs": [
    {
     "data": {
      "text/plain": [
       "[27.0, 75.0]"
      ]
     },
     "execution_count": 40,
     "metadata": {},
     "output_type": "execute_result"
    }
   ],
   "source": [
    "show_the_love([2,100])"
   ]
  },
  {
   "cell_type": "markdown",
   "id": "b001c912",
   "metadata": {},
   "source": [
    "### Sol 2"
   ]
  },
  {
   "cell_type": "code",
   "execution_count": 70,
   "id": "dd610489",
   "metadata": {},
   "outputs": [
    {
     "name": "stdout",
     "output_type": "stream",
     "text": [
      "['aps', 'hr', 'o']\n"
     ]
    }
   ],
   "source": [
    "s1=\"sharp\"\n",
    "s2=\"soap\"\n",
    "sh,u1,u2,new_list=\"\",\"\",\"\",[]\n",
    "for i in s1:\n",
    "    if i in s2:\n",
    "        sh=sh+i\n",
    "shared_string=\"\".join(sorted(sh))\n",
    "new_list.append(shared_string)\n",
    "\n",
    "for i in s1:\n",
    "    if i not in shared_string:\n",
    "        u1=u1+i\n",
    "unique1=\"\".join(sorted(u1))\n",
    "new_list.append(unique1)\n",
    "\n",
    "for i in s2:\n",
    "    if i not in shared_string:\n",
    "        u2=u2+i\n",
    "unique2=\"\".join(sorted(u2))\n",
    "new_list.append(unique2)\n",
    "print(new_list)"
   ]
  },
  {
   "cell_type": "code",
   "execution_count": 72,
   "id": "fce0e054",
   "metadata": {},
   "outputs": [
    {
     "data": {
      "text/plain": [
       "['aps', 'hr', 'o']"
      ]
     },
     "execution_count": 72,
     "metadata": {},
     "output_type": "execute_result"
    }
   ],
   "source": [
    "def letters(s1,s2):\n",
    "    sh,u1,u2,new_list=\"\",\"\",\"\",[]\n",
    "    \n",
    "    for i in s1:\n",
    "        if i in s2:\n",
    "            sh=sh+i\n",
    "    shared_string=\"\".join(sorted(sh))\n",
    "    new_list.append(shared_string)\n",
    "    \n",
    "    for i in s1:\n",
    "        if i not in shared_string:\n",
    "            u1=u1+i\n",
    "    unique1=\"\".join(sorted(u1))\n",
    "    new_list.append(unique1)\n",
    "    \n",
    "    for i in s2:\n",
    "        if i not in shared_string:\n",
    "            u2=u2+i\n",
    "    unique2=\"\".join(sorted(u2))\n",
    "    new_list.append(unique2)\n",
    "    \n",
    "    return(new_list)\n",
    "\n",
    "letters(\"sharp\",\"soap\")\n",
    "    "
   ]
  },
  {
   "cell_type": "code",
   "execution_count": 73,
   "id": "76a4fe21",
   "metadata": {},
   "outputs": [
    {
     "data": {
      "text/plain": [
       "['bdor', 'e', 'a']"
      ]
     },
     "execution_count": 73,
     "metadata": {},
     "output_type": "execute_result"
    }
   ],
   "source": [
    "letters(\"bored\",\"board\")"
   ]
  },
  {
   "cell_type": "code",
   "execution_count": 74,
   "id": "b63f41d8",
   "metadata": {},
   "outputs": [
    {
     "data": {
      "text/plain": [
       "['enpp', 'ahiss', 'lov']"
      ]
     },
     "execution_count": 74,
     "metadata": {},
     "output_type": "execute_result"
    }
   ],
   "source": [
    "letters(\"happiness\", \"envelope\")"
   ]
  },
  {
   "cell_type": "markdown",
   "id": "d8f3860f",
   "metadata": {},
   "source": [
    "### Sol 3"
   ]
  },
  {
   "cell_type": "code",
   "execution_count": 107,
   "id": "db53d671",
   "metadata": {},
   "outputs": [
    {
     "data": {
      "text/plain": [
       "[[1, 6], [2, 5], [3, 4]]"
      ]
     },
     "execution_count": 107,
     "metadata": {},
     "output_type": "execute_result"
    }
   ],
   "source": [
    "def pairs(l):\n",
    "    nl=[]\n",
    "    if len(l)%2==0:\n",
    "        for i in range(len(l)//2):\n",
    "            nl.append([l[i],l[len(l)-i-1]])\n",
    "    \n",
    "    else:\n",
    "        le=len(l)//2\n",
    "        for i in range(len(l)//2):\n",
    "            nl.append([l[i],l[len(l)-i-1]])\n",
    "        nl.append([l[le],l[le]])\n",
    "    return(nl)\n",
    "    \n",
    "pairs([1, 2, 3, 4, 5, 6])"
   ]
  },
  {
   "cell_type": "code",
   "execution_count": 108,
   "id": "a6dcd072",
   "metadata": {},
   "outputs": [
    {
     "data": {
      "text/plain": [
       "[[1, 7], [2, 6], [3, 5], [4, 4]]"
      ]
     },
     "execution_count": 108,
     "metadata": {},
     "output_type": "execute_result"
    }
   ],
   "source": [
    "pairs([1, 2, 3, 4, 5, 6, 7])"
   ]
  },
  {
   "cell_type": "code",
   "execution_count": 109,
   "id": "2473b569",
   "metadata": {},
   "outputs": [
    {
     "data": {
      "text/plain": [
       "[[5, 2], [9, 1], [8, 8]]"
      ]
     },
     "execution_count": 109,
     "metadata": {},
     "output_type": "execute_result"
    }
   ],
   "source": [
    "pairs([5, 9, 8, 1, 2])"
   ]
  },
  {
   "cell_type": "markdown",
   "id": "56a06d77",
   "metadata": {},
   "source": [
    "### Sol 4"
   ]
  },
  {
   "cell_type": "code",
   "execution_count": 127,
   "id": "9eb05ae1",
   "metadata": {},
   "outputs": [
    {
     "data": {
      "text/plain": [
       "'1'"
      ]
     },
     "execution_count": 127,
     "metadata": {},
     "output_type": "execute_result"
    }
   ],
   "source": [
    "def add_str_nums(s1,s2):\n",
    "    \n",
    "    if s1==\"\":\n",
    "        s1=\"0\"\n",
    "    elif s2==\"\":\n",
    "        s2=\"0\"\n",
    "    \n",
    "    try:    \n",
    "        add=int(s1)+int(s2)\n",
    "        return(str(add))\n",
    "    except:\n",
    "        return(\"-1\")\n",
    "    \n",
    "    \n",
    "\n",
    "add_str_nums(\"1\",\"\")"
   ]
  },
  {
   "cell_type": "code",
   "execution_count": 128,
   "id": "c65eeed8",
   "metadata": {},
   "outputs": [
    {
     "data": {
      "text/plain": [
       "'9'"
      ]
     },
     "execution_count": 128,
     "metadata": {},
     "output_type": "execute_result"
    }
   ],
   "source": [
    "add_str_nums(\"4\",\"5\")"
   ]
  },
  {
   "cell_type": "code",
   "execution_count": 129,
   "id": "935a73c1",
   "metadata": {},
   "outputs": [
    {
     "data": {
      "text/plain": [
       "'-1'"
      ]
     },
     "execution_count": 129,
     "metadata": {},
     "output_type": "execute_result"
    }
   ],
   "source": [
    "add_str_nums(\"abcdefg\",\"3\")"
   ]
  },
  {
   "cell_type": "markdown",
   "id": "7d6a4a2a",
   "metadata": {},
   "source": [
    "### Sol 5\n"
   ]
  },
  {
   "cell_type": "code",
   "execution_count": 207,
   "id": "5db85452",
   "metadata": {},
   "outputs": [
    {
     "data": {
      "text/plain": [
       "'This is a mixed up string.'"
      ]
     },
     "execution_count": 207,
     "metadata": {},
     "output_type": "execute_result"
    }
   ],
   "source": [
    "def unmix(s):\n",
    "    \n",
    "    s1 = \"\"\n",
    "    for i in range(1,len(s),2):\n",
    "        t = \"\"\n",
    "        t = s[i]+s[i-1]     \n",
    "        s1 = s1 + t\n",
    "    \n",
    "    if(len(s)%2==0):\n",
    "        return (s1)\n",
    "    else:\n",
    "        return(s1 + s[-1])\n",
    "unmix(\"hTsii  s aimex dpus rtni.g\")"
   ]
  },
  {
   "cell_type": "code",
   "execution_count": 205,
   "id": "42b21aa4",
   "metadata": {},
   "outputs": [
    {
     "data": {
      "text/plain": [
       "'214365'"
      ]
     },
     "execution_count": 205,
     "metadata": {},
     "output_type": "execute_result"
    }
   ],
   "source": [
    "unmix(\"123456\")"
   ]
  },
  {
   "cell_type": "code",
   "execution_count": 206,
   "id": "7a29c115",
   "metadata": {},
   "outputs": [
    {
     "data": {
      "text/plain": [
       "'abcde'"
      ]
     },
     "execution_count": 206,
     "metadata": {},
     "output_type": "execute_result"
    }
   ],
   "source": [
    "unmix(\"badce\")"
   ]
  },
  {
   "cell_type": "code",
   "execution_count": null,
   "id": "cdd5a00a",
   "metadata": {},
   "outputs": [],
   "source": []
  }
 ],
 "metadata": {
  "kernelspec": {
   "display_name": "Python 3",
   "language": "python",
   "name": "python3"
  },
  "language_info": {
   "codemirror_mode": {
    "name": "ipython",
    "version": 3
   },
   "file_extension": ".py",
   "mimetype": "text/x-python",
   "name": "python",
   "nbconvert_exporter": "python",
   "pygments_lexer": "ipython3",
   "version": "3.8.8"
  }
 },
 "nbformat": 4,
 "nbformat_minor": 5
}
