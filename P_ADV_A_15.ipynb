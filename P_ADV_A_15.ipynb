{
 "cells": [
  {
   "cell_type": "markdown",
   "id": "e7ddb820",
   "metadata": {},
   "source": [
    "### Sol1"
   ]
  },
  {
   "cell_type": "code",
   "execution_count": 6,
   "id": "8cbd8f35",
   "metadata": {},
   "outputs": [
    {
     "data": {
      "text/plain": [
       "True"
      ]
     },
     "execution_count": 6,
     "metadata": {},
     "output_type": "execute_result"
    }
   ],
   "source": [
    "def anagram(s,l):\n",
    "    len1,len2=0,0\n",
    "    l2=s.split()\n",
    "    \n",
    "    for i in l2:\n",
    "        len2=len2+len(i)\n",
    "    \n",
    "    for i in l:\n",
    "        len1=len1+len(i)\n",
    "        \n",
    "    if len1==len2:\n",
    "        return(True)\n",
    "    else:\n",
    "        return(False)\n",
    "    \n",
    "anagram(\"Justin Bieber\",[\"injures\",\"ebb\",\"it\"])"
   ]
  },
  {
   "cell_type": "code",
   "execution_count": 7,
   "id": "180af0d5",
   "metadata": {},
   "outputs": [
    {
     "data": {
      "text/plain": [
       "False"
      ]
     },
     "execution_count": 7,
     "metadata": {},
     "output_type": "execute_result"
    }
   ],
   "source": [
    "anagram(\"Chris Pratt\",[\"chirps\",\"rat\"])"
   ]
  },
  {
   "cell_type": "code",
   "execution_count": 9,
   "id": "c3b82275",
   "metadata": {},
   "outputs": [
    {
     "data": {
      "text/plain": [
       "True"
      ]
     },
     "execution_count": 9,
     "metadata": {},
     "output_type": "execute_result"
    }
   ],
   "source": [
    "anagram(\"Natalie Portman\",[\"ornamental\",\"pita\"])"
   ]
  },
  {
   "cell_type": "code",
   "execution_count": 10,
   "id": "9b440420",
   "metadata": {},
   "outputs": [
    {
     "data": {
      "text/plain": [
       "False"
      ]
     },
     "execution_count": 10,
     "metadata": {},
     "output_type": "execute_result"
    }
   ],
   "source": [
    "anagram(\"Jeff Goldblum\",[\"jog\",\"meld\",\"bluffs\"])"
   ]
  },
  {
   "cell_type": "markdown",
   "id": "7c56a241",
   "metadata": {},
   "source": [
    "### Sol 2"
   ]
  },
  {
   "cell_type": "code",
   "execution_count": 113,
   "id": "5539c6b1",
   "metadata": {},
   "outputs": [],
   "source": [
    "def leaderboards(l):\n",
    "    nl=[]\n",
    "    \n",
    "    dnew={l[i][\"name\"]:(l[i][\"score\"]+2*(l[i][\"reputation\"])) for i in range(len(l))}\n",
    "    print(dnew)\n",
    "    li=(sorted(dnew.items(),reverse=True))\n",
    "    for i in range(len(li)):\n",
    "        for j in range(len(l)):\n",
    "            if li[i][0] in list(l[j].values()):\n",
    "                nl.append(l[j])\n",
    "    return(nl)\n",
    "                "
   ]
  },
  {
   "cell_type": "code",
   "execution_count": 115,
   "id": "0b85e61f",
   "metadata": {},
   "outputs": [
    {
     "name": "stdout",
     "output_type": "stream",
     "text": [
      "{'a': 140, 'b': 170, 'c': 175}\n"
     ]
    },
    {
     "data": {
      "text/plain": [
       "[{'name': 'c', 'score': 115, 'reputation': 30},\n",
       " {'name': 'b', 'score': 90, 'reputation': 40},\n",
       " {'name': 'a', 'score': 100, 'reputation': 20}]"
      ]
     },
     "execution_count": 115,
     "metadata": {},
     "output_type": "execute_result"
    }
   ],
   "source": [
    "leaderboards([{\"name\":\"a\",\"score\":100,\"reputation\":20},{\"name\":\"b\",\"score\":90,\"reputation\":40},{\"name\":\"c\",\"score\":115,\"reputation\":30}])"
   ]
  },
  {
   "cell_type": "markdown",
   "id": "5f382da3",
   "metadata": {},
   "source": [
    "### Sol 3"
   ]
  },
  {
   "cell_type": "code",
   "execution_count": 18,
   "id": "fc8d5505",
   "metadata": {},
   "outputs": [
    {
     "data": {
      "text/plain": [
       "'-e---o--e-'"
      ]
     },
     "execution_count": 18,
     "metadata": {},
     "output_type": "execute_result"
    }
   ],
   "source": [
    "def hangman(s,l):\n",
    "    s1=\"\"\n",
    "    for i in s:\n",
    "        if i.isupper()==True:\n",
    "            s1=s1+i\n",
    "        if i in l:\n",
    "            s1=s1+i\n",
    "        else:\n",
    "            s1=s1+\"-\"\n",
    "    return(s1)\n",
    "hangman(\"helicopter\",[\"o\",\"e\",\"s\"])"
   ]
  },
  {
   "cell_type": "code",
   "execution_count": 19,
   "id": "b62f524a",
   "metadata": {},
   "outputs": [
    {
     "data": {
      "text/plain": [
       "'tree'"
      ]
     },
     "execution_count": 19,
     "metadata": {},
     "output_type": "execute_result"
    }
   ],
   "source": [
    "hangman(\"tree\",[\"t\",\"r\",\"e\"])"
   ]
  },
  {
   "cell_type": "code",
   "execution_count": 20,
   "id": "c13f6860",
   "metadata": {},
   "outputs": [
    {
     "data": {
      "text/plain": [
       "'P-----n-r----'"
      ]
     },
     "execution_count": 20,
     "metadata": {},
     "output_type": "execute_result"
    }
   ],
   "source": [
    "hangman(\"Python rules\",[\"a\",\"n\",\"p\",\"r\",\"z\"])"
   ]
  },
  {
   "cell_type": "markdown",
   "id": "6d53cfab",
   "metadata": {},
   "source": [
    "### Sol 4"
   ]
  },
  {
   "cell_type": "code",
   "execution_count": 20,
   "id": "6f1e2512",
   "metadata": {},
   "outputs": [
    {
     "data": {
      "text/plain": [
       "16"
      ]
     },
     "execution_count": 20,
     "metadata": {},
     "output_type": "execute_result"
    }
   ],
   "source": [
    "def max_collatz(n):\n",
    "    l=[]\n",
    "    l.append(n)\n",
    "    if n>=1:\n",
    "        \n",
    "        for i in  range(0,n):\n",
    "            if n%2==0:\n",
    "                re=n//2\n",
    "                l.append(re)\n",
    "                n=re\n",
    "            else:\n",
    "                re=n*3+1\n",
    "                l.append(re)\n",
    "                n=re\n",
    "        \n",
    "    return(max(l))\n",
    "max_collatz(10)"
   ]
  },
  {
   "cell_type": "code",
   "execution_count": 21,
   "id": "4cf24a15",
   "metadata": {},
   "outputs": [
    {
     "data": {
      "text/plain": [
       "32"
      ]
     },
     "execution_count": 21,
     "metadata": {},
     "output_type": "execute_result"
    }
   ],
   "source": [
    "max_collatz(32)"
   ]
  },
  {
   "cell_type": "code",
   "execution_count": 22,
   "id": "83e3595f",
   "metadata": {},
   "outputs": [
    {
     "data": {
      "text/plain": [
       "256"
      ]
     },
     "execution_count": 22,
     "metadata": {},
     "output_type": "execute_result"
    }
   ],
   "source": [
    "max_collatz(85)"
   ]
  },
  {
   "cell_type": "markdown",
   "id": "6f22fdde",
   "metadata": {},
   "source": [
    "### Sol 5"
   ]
  },
  {
   "cell_type": "code",
   "execution_count": 127,
   "id": "2598fc31",
   "metadata": {},
   "outputs": [
    {
     "data": {
      "text/plain": [
       "[101, 77, 23, 5, 7]"
      ]
     },
     "execution_count": 127,
     "metadata": {},
     "output_type": "execute_result"
    }
   ],
   "source": [
    "def digit_sort(l):\n",
    "    nl=[]\n",
    "    nl=[str(i) for i in l]\n",
    "    nl.sort(key=len,reverse=True)\n",
    "    return([int(i) for i in nl])\n",
    "digit_sort([77, 23, 5, 7, 101])"
   ]
  },
  {
   "cell_type": "code",
   "execution_count": 128,
   "id": "74b33869",
   "metadata": {},
   "outputs": [
    {
     "data": {
      "text/plain": [
       "[789, 563, 444, 1, 5, 9, 2]"
      ]
     },
     "execution_count": 128,
     "metadata": {},
     "output_type": "execute_result"
    }
   ],
   "source": [
    "digit_sort([1, 5, 9, 2, 789, 563, 444])"
   ]
  },
  {
   "cell_type": "code",
   "execution_count": 34,
   "id": "37b41751",
   "metadata": {},
   "outputs": [
    {
     "data": {
      "text/plain": [
       "[53219, 3772, 564, 32, 1]"
      ]
     },
     "execution_count": 34,
     "metadata": {},
     "output_type": "execute_result"
    }
   ],
   "source": [
    "digit_sort([53219, 3772, 564, 32, 1])"
   ]
  },
  {
   "cell_type": "code",
   "execution_count": null,
   "id": "f15ec3f7",
   "metadata": {},
   "outputs": [],
   "source": []
  }
 ],
 "metadata": {
  "kernelspec": {
   "display_name": "Python 3",
   "language": "python",
   "name": "python3"
  },
  "language_info": {
   "codemirror_mode": {
    "name": "ipython",
    "version": 3
   },
   "file_extension": ".py",
   "mimetype": "text/x-python",
   "name": "python",
   "nbconvert_exporter": "python",
   "pygments_lexer": "ipython3",
   "version": "3.8.8"
  }
 },
 "nbformat": 4,
 "nbformat_minor": 5
}
