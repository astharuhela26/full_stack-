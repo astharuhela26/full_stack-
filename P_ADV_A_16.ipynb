{
 "cells": [
  {
   "cell_type": "markdown",
   "id": "bffd01da",
   "metadata": {},
   "source": [
    "### Sol 1"
   ]
  },
  {
   "cell_type": "code",
   "execution_count": 1,
   "id": "8ee66b56",
   "metadata": {},
   "outputs": [
    {
     "data": {
      "text/plain": [
       "True"
      ]
     },
     "execution_count": 1,
     "metadata": {},
     "output_type": "execute_result"
    }
   ],
   "source": [
    "def valid_rondo(s):\n",
    "    import string\n",
    "    l=list(s)\n",
    "    alphabet_list=list(string.ascii_uppercase)\n",
    "    \n",
    "    a_list=[l[i] for i in range(0,len(l),2)] \n",
    "    alpha_list=[l[i] for i in range(1,len(l),2)]\n",
    "    alpha_list.sort()\n",
    "    char_l=alphabet_list[1:len(alpha_list)+1]\n",
    "    \n",
    "    if len(l)>2:\n",
    "        if l[0]==\"A\" and l[-1]==\"A\":\n",
    "            if a_list.count(\"A\")==len(a_list):\n",
    "                if char_l==alpha_list:\n",
    "                    return(True)\n",
    "    return(False)\n",
    "\n",
    "valid_rondo(\"ABACADAEAFAGAHAIAJA\")    "
   ]
  },
  {
   "cell_type": "code",
   "execution_count": 2,
   "id": "6c1d3afe",
   "metadata": {},
   "outputs": [
    {
     "data": {
      "text/plain": [
       "True"
      ]
     },
     "execution_count": 2,
     "metadata": {},
     "output_type": "execute_result"
    }
   ],
   "source": [
    "valid_rondo(\"ABA\")"
   ]
  },
  {
   "cell_type": "code",
   "execution_count": 3,
   "id": "085f9271",
   "metadata": {},
   "outputs": [
    {
     "data": {
      "text/plain": [
       "False"
      ]
     },
     "execution_count": 3,
     "metadata": {},
     "output_type": "execute_result"
    }
   ],
   "source": [
    "valid_rondo(\"ABBACCA\")"
   ]
  },
  {
   "cell_type": "code",
   "execution_count": 4,
   "id": "2d3c744f",
   "metadata": {},
   "outputs": [
    {
     "data": {
      "text/plain": [
       "False"
      ]
     },
     "execution_count": 4,
     "metadata": {},
     "output_type": "execute_result"
    }
   ],
   "source": [
    "valid_rondo(\"ACAC\")"
   ]
  },
  {
   "cell_type": "code",
   "execution_count": 5,
   "id": "6cd05325",
   "metadata": {},
   "outputs": [
    {
     "data": {
      "text/plain": [
       "False"
      ]
     },
     "execution_count": 5,
     "metadata": {},
     "output_type": "execute_result"
    }
   ],
   "source": [
    "valid_rondo(\"A\")"
   ]
  },
  {
   "cell_type": "markdown",
   "id": "9802a8fd",
   "metadata": {},
   "source": [
    "### Sol 2"
   ]
  },
  {
   "cell_type": "code",
   "execution_count": 6,
   "id": "ea3d888d",
   "metadata": {},
   "outputs": [
    {
     "data": {
      "text/plain": [
       "'I have a cat.'"
      ]
     },
     "execution_count": 6,
     "metadata": {},
     "output_type": "execute_result"
    }
   ],
   "source": [
    "def sentence_searcher(txt,s):\n",
    "    l=txt.split(\".\")\n",
    "    for i in range(len(l)):\n",
    "        if s.upper() in l[i].upper():\n",
    "            return(l[i]+\".\")\n",
    "    return(\" \")\n",
    "sentence_searcher(\"I have a cat. I have a mat. Things are going swell.\",\"have\")    "
   ]
  },
  {
   "cell_type": "code",
   "execution_count": 7,
   "id": "6823d513",
   "metadata": {},
   "outputs": [
    {
     "data": {
      "text/plain": [
       "' I have a mat.'"
      ]
     },
     "execution_count": 7,
     "metadata": {},
     "output_type": "execute_result"
    }
   ],
   "source": [
    "sentence_searcher(\"I have a cat. I have a mat. Things are going swell.\",\"mat\")"
   ]
  },
  {
   "cell_type": "code",
   "execution_count": 8,
   "id": "e29f161e",
   "metadata": {},
   "outputs": [
    {
     "data": {
      "text/plain": [
       "' Things are going swell.'"
      ]
     },
     "execution_count": 8,
     "metadata": {},
     "output_type": "execute_result"
    }
   ],
   "source": [
    "sentence_searcher(\"I have a cat. I have a mat. Things are going swell.\",\"things\")  "
   ]
  },
  {
   "cell_type": "code",
   "execution_count": 9,
   "id": "715b554f",
   "metadata": {},
   "outputs": [
    {
     "data": {
      "text/plain": [
       "' '"
      ]
     },
     "execution_count": 9,
     "metadata": {},
     "output_type": "execute_result"
    }
   ],
   "source": [
    "sentence_searcher(\"I have a cat. I have a mat. Things are going swell.\",\"flat\")  "
   ]
  },
  {
   "cell_type": "markdown",
   "id": "05f99f1a",
   "metadata": {},
   "source": [
    "### Sol 3"
   ]
  },
  {
   "cell_type": "code",
   "execution_count": 10,
   "id": "b4afb958",
   "metadata": {},
   "outputs": [
    {
     "data": {
      "text/plain": [
       "'10 200 4000 50000'"
      ]
     },
     "execution_count": 10,
     "metadata": {},
     "output_type": "execute_result"
    }
   ],
   "source": [
    "def sum_round(n):\n",
    "    l,c,num=[],0,str(n)\n",
    "    \n",
    "    nl=[int(i) for i in num[::-1] ]\n",
    "    \n",
    "    for j in range(len(num)):\n",
    "        l.append(nl[c]*(10**j))\n",
    "        c+=1\n",
    "        \n",
    "    [l.remove(0) for i in l if i==0]\n",
    "    l.sort()\n",
    "    f_list=[str(i) for i in l]\n",
    "    return(\" \".join(f_list))\n",
    "\n",
    "sum_round(54210)   "
   ]
  },
  {
   "cell_type": "code",
   "execution_count": 11,
   "id": "688b9a8a",
   "metadata": {},
   "outputs": [
    {
     "data": {
      "text/plain": [
       "'1 100'"
      ]
     },
     "execution_count": 11,
     "metadata": {},
     "output_type": "execute_result"
    }
   ],
   "source": [
    "sum_round(101)"
   ]
  },
  {
   "cell_type": "code",
   "execution_count": 12,
   "id": "7e16c5df",
   "metadata": {},
   "outputs": [
    {
     "data": {
      "text/plain": [
       "'4 30 200 1000'"
      ]
     },
     "execution_count": 12,
     "metadata": {},
     "output_type": "execute_result"
    }
   ],
   "source": [
    "sum_round(1234)"
   ]
  },
  {
   "cell_type": "markdown",
   "id": "eb5c76bb",
   "metadata": {},
   "source": [
    "### Sol 4"
   ]
  },
  {
   "cell_type": "code",
   "execution_count": 13,
   "id": "850c7fa0",
   "metadata": {},
   "outputs": [
    {
     "data": {
      "text/plain": [
       "[[1, 2, 3, 4, 5],\n",
       " [2, 4, 6, 8, 10],\n",
       " [3, 6, 9, 12, 15],\n",
       " [4, 8, 12, 16, 20],\n",
       " [5, 10, 15, 20, 25]]"
      ]
     },
     "execution_count": 13,
     "metadata": {},
     "output_type": "execute_result"
    }
   ],
   "source": [
    "def multiplication_table(n):\n",
    "    \n",
    "    t=[[(i+1)*(j+1) for j in range(n)] for i in range(n)]\n",
    "    return(t) \n",
    "\n",
    "multiplication_table(5)"
   ]
  },
  {
   "cell_type": "code",
   "execution_count": 14,
   "id": "e9d9fdae",
   "metadata": {},
   "outputs": [
    {
     "data": {
      "text/plain": [
       "[[1, 2, 3], [2, 4, 6], [3, 6, 9]]"
      ]
     },
     "execution_count": 14,
     "metadata": {},
     "output_type": "execute_result"
    }
   ],
   "source": [
    "multiplication_table(3)"
   ]
  },
  {
   "cell_type": "code",
   "execution_count": 15,
   "id": "07742eac",
   "metadata": {},
   "outputs": [
    {
     "data": {
      "text/plain": [
       "[[1]]"
      ]
     },
     "execution_count": 15,
     "metadata": {},
     "output_type": "execute_result"
    }
   ],
   "source": [
    "multiplication_table(1)"
   ]
  },
  {
   "cell_type": "markdown",
   "id": "c73a6618",
   "metadata": {},
   "source": [
    "### Sol 5"
   ]
  },
  {
   "cell_type": "code",
   "execution_count": 16,
   "id": "27fb3a03",
   "metadata": {},
   "outputs": [
    {
     "data": {
      "text/plain": [
       "True"
      ]
     },
     "execution_count": 16,
     "metadata": {},
     "output_type": "execute_result"
    }
   ],
   "source": [
    "def does_rhyme(s1,s2):\n",
    "    \n",
    "    if s1[-1].isalpha()==False or s2[-1].isalpha()==False:\n",
    "        fs1=s1.replace(s1[-1],\"\")\n",
    "        fs2=s2.replace(s2[-1],\"\")\n",
    "    else:\n",
    "        fs1,fs2=s1,s2\n",
    "        \n",
    "    c1=fs1[-2:].upper()\n",
    "    c2=fs2[-2:].upper()\n",
    "    \n",
    "    if c1==c2:\n",
    "        return(True)\n",
    "    return(False)\n",
    "does_rhyme(\"Sam I am!\",\"Green eggs and ham.\")"
   ]
  },
  {
   "cell_type": "code",
   "execution_count": 17,
   "id": "fcdc6146",
   "metadata": {},
   "outputs": [
    {
     "data": {
      "text/plain": [
       "True"
      ]
     },
     "execution_count": 17,
     "metadata": {},
     "output_type": "execute_result"
    }
   ],
   "source": [
    "does_rhyme(\"Sam I am!\", \"Green eggs and HAM.\")"
   ]
  },
  {
   "cell_type": "code",
   "execution_count": 18,
   "id": "41ce9321",
   "metadata": {},
   "outputs": [
    {
     "data": {
      "text/plain": [
       "False"
      ]
     },
     "execution_count": 18,
     "metadata": {},
     "output_type": "execute_result"
    }
   ],
   "source": [
    "does_rhyme(\"You are off to the races\", \"a splendid day.\")"
   ]
  },
  {
   "cell_type": "code",
   "execution_count": 19,
   "id": "1cc32b20",
   "metadata": {},
   "outputs": [
    {
     "data": {
      "text/plain": [
       "False"
      ]
     },
     "execution_count": 19,
     "metadata": {},
     "output_type": "execute_result"
    }
   ],
   "source": [
    "does_rhyme(\"and frequently do?\", \"you gotta move.\")"
   ]
  },
  {
   "cell_type": "code",
   "execution_count": null,
   "id": "029aa4e5",
   "metadata": {},
   "outputs": [],
   "source": []
  }
 ],
 "metadata": {
  "kernelspec": {
   "display_name": "Python 3",
   "language": "python",
   "name": "python3"
  },
  "language_info": {
   "codemirror_mode": {
    "name": "ipython",
    "version": 3
   },
   "file_extension": ".py",
   "mimetype": "text/x-python",
   "name": "python",
   "nbconvert_exporter": "python",
   "pygments_lexer": "ipython3",
   "version": "3.8.8"
  }
 },
 "nbformat": 4,
 "nbformat_minor": 5
}
