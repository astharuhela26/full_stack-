{
 "cells": [
  {
   "cell_type": "markdown",
   "id": "d83dbec0",
   "metadata": {},
   "source": [
    "### Sol 1"
   ]
  },
  {
   "cell_type": "code",
   "execution_count": 94,
   "id": "b43895ef",
   "metadata": {},
   "outputs": [
    {
     "data": {
      "text/plain": [
       "[[1, 2, 3], [1, 2, 3], [1, 2, 3]]"
      ]
     },
     "execution_count": 94,
     "metadata": {},
     "output_type": "execute_result"
    }
   ],
   "source": [
    "def transpose_matrix(l):\n",
    "    nl=[[] for i in range(len(l[0]))]\n",
    "    for i in range(len(l[0])):\n",
    "        for j in range(len(l)):\n",
    "            nl[i].append(l[j][i])\n",
    "    return(nl)\n",
    "\n",
    "transpose_matrix([[1,1,1],[2,2,2],[3,3,3]])\n",
    "    \n",
    "    "
   ]
  },
  {
   "cell_type": "code",
   "execution_count": 95,
   "id": "737f8756",
   "metadata": {},
   "outputs": [
    {
     "data": {
      "text/plain": [
       "[[5, 6, 9], [5, 7, 1]]"
      ]
     },
     "execution_count": 95,
     "metadata": {},
     "output_type": "execute_result"
    }
   ],
   "source": [
    "transpose_matrix([[5, 5],[6, 7],[9, 1]])"
   ]
  },
  {
   "cell_type": "markdown",
   "id": "a5f714e4",
   "metadata": {},
   "source": [
    "### Sol 2"
   ]
  },
  {
   "cell_type": "code",
   "execution_count": 33,
   "id": "739ff1df",
   "metadata": {},
   "outputs": [
    {
     "data": {
      "text/plain": [
       "True"
      ]
     },
     "execution_count": 33,
     "metadata": {},
     "output_type": "execute_result"
    }
   ],
   "source": [
    "def is_valid_hex_code(s):\n",
    "    c=1\n",
    "    l=[\"A\",\"B\",\"C\",\"D\",\"E\",\"F\"]\n",
    "    if len(s)==7 and s[0]==\"#\":\n",
    "        for i in range(1,len(s)):\n",
    "            if (s[i].isdigit()==True) or ((s[i] in l)==True):\n",
    "                c+=1\n",
    "            if c==len(s)-1:\n",
    "                return(True)\n",
    "    \n",
    "    return(False)\n",
    "\n",
    "is_valid_hex_code(\"#CD5C5C\")\n",
    "                "
   ]
  },
  {
   "cell_type": "code",
   "execution_count": 34,
   "id": "b3848ab9",
   "metadata": {},
   "outputs": [
    {
     "data": {
      "text/plain": [
       "True"
      ]
     },
     "execution_count": 34,
     "metadata": {},
     "output_type": "execute_result"
    }
   ],
   "source": [
    "is_valid_hex_code(\"#EAECEE\")"
   ]
  },
  {
   "cell_type": "code",
   "execution_count": 35,
   "id": "b10d1063",
   "metadata": {},
   "outputs": [
    {
     "data": {
      "text/plain": [
       "False"
      ]
     },
     "execution_count": 35,
     "metadata": {},
     "output_type": "execute_result"
    }
   ],
   "source": [
    "is_valid_hex_code(\"CD5C58C\")"
   ]
  },
  {
   "cell_type": "code",
   "execution_count": 36,
   "id": "380bed94",
   "metadata": {},
   "outputs": [
    {
     "data": {
      "text/plain": [
       "False"
      ]
     },
     "execution_count": 36,
     "metadata": {},
     "output_type": "execute_result"
    }
   ],
   "source": [
    "is_valid_hex_code(\"CD5C5C\")"
   ]
  },
  {
   "cell_type": "markdown",
   "id": "575ec3c4",
   "metadata": {},
   "source": [
    "### Sol 3"
   ]
  },
  {
   "cell_type": "code",
   "execution_count": 88,
   "id": "b95c7fdb",
   "metadata": {},
   "outputs": [
    {
     "data": {
      "text/plain": [
       "'75%'"
      ]
     },
     "execution_count": 88,
     "metadata": {},
     "output_type": "execute_result"
    }
   ],
   "source": [
    "def mark_maths(l):\n",
    "    c=0\n",
    "    d={l[i][:l[i].index(\"=\")]:l[i][(l[i].index(\"=\"))+1:] for i in range(len(l))}\n",
    "    for i in d.keys():\n",
    "        if (eval(i)==int(d[i])):\n",
    "            c+=1\n",
    "    s=str(round((c/len(l))*100))\n",
    "    return(s+\"%\")\n",
    "\n",
    "mark_maths([\"2+2=4\",\"3+2=5\",\"10-3=3\",\"5+5=10\"])   "
   ]
  },
  {
   "cell_type": "code",
   "execution_count": 89,
   "id": "3d7b3719",
   "metadata": {},
   "outputs": [
    {
     "data": {
      "text/plain": [
       "'0%'"
      ]
     },
     "execution_count": 89,
     "metadata": {},
     "output_type": "execute_result"
    }
   ],
   "source": [
    "mark_maths([\"1-2=-2\"])"
   ]
  },
  {
   "cell_type": "code",
   "execution_count": 90,
   "id": "ce2d8ab0",
   "metadata": {},
   "outputs": [
    {
     "data": {
      "text/plain": [
       "'67%'"
      ]
     },
     "execution_count": 90,
     "metadata": {},
     "output_type": "execute_result"
    }
   ],
   "source": [
    "mark_maths([\"2+3=5\",\"4+4=9\",\"3-1=2\"])"
   ]
  },
  {
   "cell_type": "markdown",
   "id": "d08edea3",
   "metadata": {},
   "source": [
    "### Sol 4"
   ]
  },
  {
   "cell_type": "code",
   "execution_count": 148,
   "id": "e23ce680",
   "metadata": {},
   "outputs": [
    {
     "data": {
      "text/plain": [
       "False"
      ]
     },
     "execution_count": 148,
     "metadata": {},
     "output_type": "execute_result"
    }
   ],
   "source": [
    "def magic_square_game(l1,l2):\n",
    "    s1,s2=l1[1],l2[1]\n",
    "    alice_sum,bob_sum=0,0\n",
    "    \n",
    "    for i in l1[1]:\n",
    "        alice_sum=alice_sum+int(i)\n",
    "        \n",
    "    for i in l2[1]:\n",
    "        bob_sum=bob_sum+int(i)\n",
    "        \n",
    "    if alice_sum%2!=0 and bob_sum%2==0:\n",
    "        if s1[l2[0]-1]==s2[l1[0]-1]:\n",
    "            return(True)\n",
    "        \n",
    "    return(False)\n",
    "\n",
    "magic_square_game([1,\"100\"],[2,\"101\"])"
   ]
  },
  {
   "cell_type": "code",
   "execution_count": 149,
   "id": "94587fe0",
   "metadata": {},
   "outputs": [
    {
     "data": {
      "text/plain": [
       "True"
      ]
     },
     "execution_count": 149,
     "metadata": {},
     "output_type": "execute_result"
    }
   ],
   "source": [
    "magic_square_game([2,\"001\"],[1,\"101\"])"
   ]
  },
  {
   "cell_type": "code",
   "execution_count": 150,
   "id": "a43e627f",
   "metadata": {},
   "outputs": [
    {
     "data": {
      "text/plain": [
       "True"
      ]
     },
     "execution_count": 150,
     "metadata": {},
     "output_type": "execute_result"
    }
   ],
   "source": [
    "magic_square_game([3,\"111\"],[2,\"011\"])"
   ]
  },
  {
   "cell_type": "markdown",
   "id": "cf206b01",
   "metadata": {},
   "source": [
    "### Sol 5"
   ]
  },
  {
   "cell_type": "code",
   "execution_count": 125,
   "id": "82941c99",
   "metadata": {},
   "outputs": [
    {
     "data": {
      "text/plain": [
       "'2h 30mins 0s '"
      ]
     },
     "execution_count": 125,
     "metadata": {},
     "output_type": "execute_result"
    }
   ],
   "source": [
    "def let_meet(d,s1,s2):\n",
    "    \n",
    "    tt=d/(s1+s2)\n",
    "    tot_sec=tt*3600\n",
    "    hrs=int(tot_sec//3600)\n",
    "    mins=int((tot_sec-(hrs*3600))//60)\n",
    "    sec=int((tot_sec-((hrs*3600)+(mins*60))))\n",
    "    return(str(hrs)+\"h \"+str(mins)+\"mins \"+str(sec)+\"s \")\n",
    "\n",
    "let_meet(100,30,10)"
   ]
  },
  {
   "cell_type": "code",
   "execution_count": 126,
   "id": "717c4396",
   "metadata": {},
   "outputs": [
    {
     "data": {
      "text/plain": [
       "'1h 52mins 0s '"
      ]
     },
     "execution_count": 126,
     "metadata": {},
     "output_type": "execute_result"
    }
   ],
   "source": [
    "let_meet(280,70,80)"
   ]
  },
  {
   "cell_type": "code",
   "execution_count": null,
   "id": "778809ec",
   "metadata": {},
   "outputs": [],
   "source": []
  }
 ],
 "metadata": {
  "kernelspec": {
   "display_name": "Python 3",
   "language": "python",
   "name": "python3"
  },
  "language_info": {
   "codemirror_mode": {
    "name": "ipython",
    "version": 3
   },
   "file_extension": ".py",
   "mimetype": "text/x-python",
   "name": "python",
   "nbconvert_exporter": "python",
   "pygments_lexer": "ipython3",
   "version": "3.8.8"
  }
 },
 "nbformat": 4,
 "nbformat_minor": 5
}
