{
 "cells": [
  {
   "cell_type": "markdown",
   "id": "9db2085f",
   "metadata": {},
   "source": [
    "### Sol 1"
   ]
  },
  {
   "cell_type": "code",
   "execution_count": 1,
   "id": "8817afaf",
   "metadata": {},
   "outputs": [],
   "source": [
    "def track_robot(l):\n",
    "    nl=[]\n",
    "    if l==[]:\n",
    "        return([0,0])\n",
    "    else:\n",
    "        n1 = 0\n",
    "        n2 = 0\n",
    "    \n",
    "        for i in range(0,len(l)):\n",
    "            s = l[i].split(\" \")\n",
    "        \n",
    "            if(s[0]==\"right\"):\n",
    "                n1 = n1 + int(s[-1])\n",
    "            elif(s[0]==\"left\"):\n",
    "                n1 = n1 - int(s[-1])\n",
    "            elif(s[0]==\"up\"):\n",
    "                n2 = n2 + int(s[-1])\n",
    "            else:\n",
    "                n2 = n2 - int(s[-1])\n",
    "            \n",
    "    return([n1,n2])"
   ]
  },
  {
   "cell_type": "code",
   "execution_count": 2,
   "id": "ad48c422",
   "metadata": {},
   "outputs": [
    {
     "data": {
      "text/plain": [
       "[-20, 40]"
      ]
     },
     "execution_count": 2,
     "metadata": {},
     "output_type": "execute_result"
    }
   ],
   "source": [
    "track_robot([\"right 10\", \"up 50\", \"left 30\", \"down 10\"])"
   ]
  },
  {
   "cell_type": "code",
   "execution_count": 3,
   "id": "3c5342a0",
   "metadata": {},
   "outputs": [
    {
     "data": {
      "text/plain": [
       "[200, 10500]"
      ]
     },
     "execution_count": 3,
     "metadata": {},
     "output_type": "execute_result"
    }
   ],
   "source": [
    "track_robot([\"right 100\", \"right 100\", \"up 500\", \"up 10000\"])"
   ]
  },
  {
   "cell_type": "code",
   "execution_count": 4,
   "id": "56795cd3",
   "metadata": {},
   "outputs": [
    {
     "data": {
      "text/plain": [
       "[0, 0]"
      ]
     },
     "execution_count": 4,
     "metadata": {},
     "output_type": "execute_result"
    }
   ],
   "source": [
    "track_robot([])"
   ]
  },
  {
   "cell_type": "markdown",
   "id": "15536c69",
   "metadata": {},
   "source": [
    "### Sol 2"
   ]
  },
  {
   "cell_type": "code",
   "execution_count": 5,
   "id": "9c976c4f",
   "metadata": {},
   "outputs": [
    {
     "data": {
      "text/plain": [
       "'forever'"
      ]
     },
     "execution_count": 5,
     "metadata": {},
     "output_type": "execute_result"
    }
   ],
   "source": [
    "def find_longest(s):\n",
    "    \n",
    "    l=s.split(\" \")\n",
    "    l.sort(key=len,reverse=True)\n",
    "    return(l[0])\n",
    "\n",
    "find_longest(\"A thing of beauty is a joy forever\")   "
   ]
  },
  {
   "cell_type": "code",
   "execution_count": 6,
   "id": "8a2f318f",
   "metadata": {},
   "outputs": [
    {
     "data": {
      "text/plain": [
       "'\"Strengths\"'"
      ]
     },
     "execution_count": 6,
     "metadata": {},
     "output_type": "execute_result"
    }
   ],
   "source": [
    "find_longest(\"\\\"Strengths\\\" is the longest and most commonly used word that contains only a single vowel\")"
   ]
  },
  {
   "cell_type": "code",
   "execution_count": 7,
   "id": "4d4965ce",
   "metadata": {},
   "outputs": [
    {
     "data": {
      "text/plain": [
       "'Forgetfulness'"
      ]
     },
     "execution_count": 7,
     "metadata": {},
     "output_type": "execute_result"
    }
   ],
   "source": [
    "find_longest(\"Forgetfulness is by all means powerless!\")"
   ]
  },
  {
   "cell_type": "markdown",
   "id": "bb4ba939",
   "metadata": {},
   "source": [
    "### Sol 3"
   ]
  },
  {
   "cell_type": "code",
   "execution_count": 8,
   "id": "0a771e22",
   "metadata": {},
   "outputs": [
    {
     "data": {
      "text/plain": [
       "'qualified'"
      ]
     },
     "execution_count": 8,
     "metadata": {},
     "output_type": "execute_result"
    }
   ],
   "source": [
    "def interview(l,n):\n",
    "    \n",
    "    nl,c=[5,5,10,10,15,15,20,20],0\n",
    "    \n",
    "    if len(l)==8 and n<=120:\n",
    "        for i in range(0,len(l)):\n",
    "            if l[i]<=nl[i]:\n",
    "                c=c+1\n",
    "            else:\n",
    "                break\n",
    "        if c==len(l):    \n",
    "            return(\"qualified\")\n",
    "    return(\"disqualified\")\n",
    "    \n",
    "interview([5,5,10,10,15,15,20,20],120)"
   ]
  },
  {
   "cell_type": "code",
   "execution_count": 9,
   "id": "8e67ebb8",
   "metadata": {},
   "outputs": [
    {
     "data": {
      "text/plain": [
       "'qualified'"
      ]
     },
     "execution_count": 9,
     "metadata": {},
     "output_type": "execute_result"
    }
   ],
   "source": [
    "interview([2, 3, 8, 6, 5, 12, 10, 18], 64) "
   ]
  },
  {
   "cell_type": "code",
   "execution_count": 10,
   "id": "70a9942e",
   "metadata": {},
   "outputs": [
    {
     "data": {
      "text/plain": [
       "'disqualified'"
      ]
     },
     "execution_count": 10,
     "metadata": {},
     "output_type": "execute_result"
    }
   ],
   "source": [
    "interview([5, 5, 10, 10, 25, 15, 20, 20], 120)"
   ]
  },
  {
   "cell_type": "code",
   "execution_count": 11,
   "id": "929684a2",
   "metadata": {},
   "outputs": [
    {
     "data": {
      "text/plain": [
       "'disqualified'"
      ]
     },
     "execution_count": 11,
     "metadata": {},
     "output_type": "execute_result"
    }
   ],
   "source": [
    "interview([5, 5, 10, 10, 15, 15, 20], 120)"
   ]
  },
  {
   "cell_type": "code",
   "execution_count": 12,
   "id": "30d9debd",
   "metadata": {},
   "outputs": [
    {
     "data": {
      "text/plain": [
       "'disqualified'"
      ]
     },
     "execution_count": 12,
     "metadata": {},
     "output_type": "execute_result"
    }
   ],
   "source": [
    "interview([5, 5, 10, 10, 15, 15, 20, 20], 130)"
   ]
  },
  {
   "cell_type": "markdown",
   "id": "57feb218",
   "metadata": {},
   "source": [
    "### Sol 4"
   ]
  },
  {
   "cell_type": "code",
   "execution_count": 14,
   "id": "fba33896",
   "metadata": {},
   "outputs": [
    {
     "data": {
      "text/plain": [
       "[[2, 3], [4, 5]]"
      ]
     },
     "execution_count": 14,
     "metadata": {},
     "output_type": "execute_result"
    }
   ],
   "source": [
    "def chunkify(l,n):\n",
    "    import numpy as np\n",
    "    nl=[]\n",
    "    if len(l)%2!=0:\n",
    "        n=n+1\n",
    "        two_split = np.array_split(l,n)\n",
    "        for array in two_split:\n",
    "            nl.append((list(array)))            \n",
    "    else:\n",
    "        if n<=2:\n",
    "            c=n\n",
    "            two_split = np.array_split(l,c)\n",
    "            for array in two_split:\n",
    "                nl.append((list(array)))\n",
    "        else:\n",
    "            c=n-1\n",
    "            two_split = np.array_split(l,c)\n",
    "            for array in two_split:\n",
    "                nl.append((list(array)))\n",
    "        \n",
    "    return(nl)\n",
    "\n",
    "chunkify([2, 3, 4, 5], 2)\n",
    "        \n",
    "        "
   ]
  },
  {
   "cell_type": "code",
   "execution_count": 15,
   "id": "00456f08",
   "metadata": {},
   "outputs": [
    {
     "data": {
      "text/plain": [
       "[[2, 3], [4, 5], [6]]"
      ]
     },
     "execution_count": 15,
     "metadata": {},
     "output_type": "execute_result"
    }
   ],
   "source": [
    "chunkify([2, 3, 4, 5, 6], 2)"
   ]
  },
  {
   "cell_type": "code",
   "execution_count": 16,
   "id": "2c9201a0",
   "metadata": {},
   "outputs": [
    {
     "data": {
      "text/plain": [
       "[[2, 3, 4], [5, 6, 7]]"
      ]
     },
     "execution_count": 16,
     "metadata": {},
     "output_type": "execute_result"
    }
   ],
   "source": [
    "chunkify([2, 3, 4, 5, 6, 7], 3)"
   ]
  },
  {
   "cell_type": "code",
   "execution_count": 17,
   "id": "224dc17b",
   "metadata": {},
   "outputs": [
    {
     "data": {
      "text/plain": [
       "[[2], [3], [4], [5], [6], [7]]"
      ]
     },
     "execution_count": 17,
     "metadata": {},
     "output_type": "execute_result"
    }
   ],
   "source": [
    "chunkify([2, 3, 4, 5, 6, 7], 7)"
   ]
  },
  {
   "cell_type": "markdown",
   "id": "f8b41395",
   "metadata": {},
   "source": [
    "### Sol 5"
   ]
  },
  {
   "cell_type": "code",
   "execution_count": 18,
   "id": "8e2e9b46",
   "metadata": {},
   "outputs": [
    {
     "data": {
      "text/plain": [
       "[4.99]"
      ]
     },
     "execution_count": 18,
     "metadata": {},
     "output_type": "execute_result"
    }
   ],
   "source": [
    "def get_prices(l):\n",
    "    nl=[]\n",
    "    for i in range(len(l)):\n",
    "        nl.append(float(l[i][l[i].index(\"$\")+1:l[i].index(\")\")]))\n",
    "    return(nl)\n",
    "        \n",
    "get_prices([\"salad($4.99)\"])"
   ]
  },
  {
   "cell_type": "code",
   "execution_count": 19,
   "id": "24d14a84",
   "metadata": {},
   "outputs": [
    {
     "data": {
      "text/plain": [
       "[1.99, 5.99, 0.75]"
      ]
     },
     "execution_count": 19,
     "metadata": {},
     "output_type": "execute_result"
    }
   ],
   "source": [
    "get_prices([\n",
    "\"artichokes ($1.99)\",\n",
    "\"rotiserrie chicken ($5.99)\",\n",
    "\"gum ($0.75)\"])"
   ]
  },
  {
   "cell_type": "code",
   "execution_count": 20,
   "id": "02d994fa",
   "metadata": {},
   "outputs": [
    {
     "data": {
      "text/plain": [
       "[5.99, 0.2, 8.5, 1.99]"
      ]
     },
     "execution_count": 20,
     "metadata": {},
     "output_type": "execute_result"
    }
   ],
   "source": [
    "get_prices([\n",
    "  \"ice cream ($5.99)\",\n",
    "  \"banana ($0.20)\",\n",
    "  \"sandwich ($8.50)\",\n",
    "  \"soup ($1.99)\"\n",
    "])"
   ]
  },
  {
   "cell_type": "code",
   "execution_count": null,
   "id": "a923b0c6",
   "metadata": {},
   "outputs": [],
   "source": []
  }
 ],
 "metadata": {
  "kernelspec": {
   "display_name": "Python 3",
   "language": "python",
   "name": "python3"
  },
  "language_info": {
   "codemirror_mode": {
    "name": "ipython",
    "version": 3
   },
   "file_extension": ".py",
   "mimetype": "text/x-python",
   "name": "python",
   "nbconvert_exporter": "python",
   "pygments_lexer": "ipython3",
   "version": "3.8.8"
  }
 },
 "nbformat": 4,
 "nbformat_minor": 5
}
