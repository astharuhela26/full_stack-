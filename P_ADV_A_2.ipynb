{
 "cells": [
  {
   "cell_type": "markdown",
   "id": "f23c3bda",
   "metadata": {},
   "source": [
    "### Sol 1"
   ]
  },
  {
   "cell_type": "code",
   "execution_count": 42,
   "id": "4a67f175",
   "metadata": {},
   "outputs": [
    {
     "data": {
      "text/plain": [
       "141"
      ]
     },
     "execution_count": 42,
     "metadata": {},
     "output_type": "execute_result"
    }
   ],
   "source": [
    "def pentagonal(n):\n",
    "    s=1\n",
    "    if n==1:\n",
    "        return(1)\n",
    "    else:\n",
    "        for i in range(n):\n",
    "            s=s+5*i\n",
    "    return(s)\n",
    "\n",
    "pentagonal(8)\n",
    "        "
   ]
  },
  {
   "cell_type": "code",
   "execution_count": 43,
   "id": "cd286d9b",
   "metadata": {},
   "outputs": [
    {
     "data": {
      "text/plain": [
       "16"
      ]
     },
     "execution_count": 43,
     "metadata": {},
     "output_type": "execute_result"
    }
   ],
   "source": [
    "pentagonal(3)"
   ]
  },
  {
   "cell_type": "markdown",
   "id": "a245c0da",
   "metadata": {},
   "source": [
    "### Sol 2"
   ]
  },
  {
   "cell_type": "code",
   "execution_count": 2,
   "id": "3d2afee6",
   "metadata": {},
   "outputs": [
    {
     "data": {
      "text/plain": [
       "'1lpp0aca'"
      ]
     },
     "execution_count": 2,
     "metadata": {},
     "output_type": "execute_result"
    }
   ],
   "source": [
    "def encrypt(s):\n",
    "    \n",
    "    rev=\"\"\n",
    "\n",
    "    d={\"a\":0,\"e\":1,\"i\":2,\"o\":3,\"u\":4}\n",
    "    for i in range(len(s)):\n",
    "        rev=s[i]+rev\n",
    "    \n",
    "    for i in rev:\n",
    "        if i in d.keys():\n",
    "            rev= rev.replace(i,str(d[i]))\n",
    "    final=rev+\"aca\"\n",
    "    return(final)\n",
    "\n",
    "encrypt(\"apple\")"
   ]
  },
  {
   "cell_type": "markdown",
   "id": "4b0cb2a4",
   "metadata": {},
   "source": [
    "### Sol 3"
   ]
  },
  {
   "cell_type": "code",
   "execution_count": 4,
   "id": "eb8abd5f",
   "metadata": {},
   "outputs": [
    {
     "name": "stdout",
     "output_type": "stream",
     "text": [
      "Enter the month & year: 3 2020\n",
      "True\n"
     ]
    }
   ],
   "source": [
    "import datetime    \n",
    "month, year = input('Enter the month & year: ').split()  \n",
    "print('True' if datetime.datetime.strptime('13 '+' '+month+' '+year, '%d %m %Y').weekday()==4 else 'False') "
   ]
  },
  {
   "cell_type": "markdown",
   "id": "6049dfe4",
   "metadata": {},
   "source": [
    "### Sol 4"
   ]
  },
  {
   "cell_type": "code",
   "execution_count": 10,
   "id": "0baa4c84",
   "metadata": {},
   "outputs": [
    {
     "data": {
      "text/plain": [
       "2"
      ]
     },
     "execution_count": 10,
     "metadata": {},
     "output_type": "execute_result"
    }
   ],
   "source": [
    "import re\n",
    "\n",
    "lst = [\"bad cookie\", \"good cookie\", \"bad cookie\", \"good cookie\", \"good cookie\"]\n",
    "pattern = \"bad cookie\"\n",
    "\n",
    "len(re.findall(pattern, \", \".join(lst)))\n"
   ]
  },
  {
   "cell_type": "markdown",
   "id": "7903c15c",
   "metadata": {},
   "source": [
    "### Sol 5"
   ]
  },
  {
   "cell_type": "code",
   "execution_count": 35,
   "id": "24c47838",
   "metadata": {},
   "outputs": [
    {
     "data": {
      "text/plain": [
       "{'cow', 'pig'}"
      ]
     },
     "execution_count": 35,
     "metadata": {},
     "output_type": "execute_result"
    }
   ],
   "source": [
    "def pluralize(l):\n",
    "    un=list(set(l))\n",
    "    for i in range(0,len(un)):\n",
    "        if (l.count(un[i])>1):\n",
    "            un[i]=un[i]+'s'\n",
    "        return(set(un))\n",
    "        \n",
    "\n",
    "pluralize([\"cow\", \"pig\", \"cow\", \"cow\"]) "
   ]
  },
  {
   "cell_type": "code",
   "execution_count": null,
   "id": "ed9a8889",
   "metadata": {},
   "outputs": [],
   "source": []
  }
 ],
 "metadata": {
  "kernelspec": {
   "display_name": "Python 3",
   "language": "python",
   "name": "python3"
  },
  "language_info": {
   "codemirror_mode": {
    "name": "ipython",
    "version": 3
   },
   "file_extension": ".py",
   "mimetype": "text/x-python",
   "name": "python",
   "nbconvert_exporter": "python",
   "pygments_lexer": "ipython3",
   "version": "3.8.8"
  }
 },
 "nbformat": 4,
 "nbformat_minor": 5
}
