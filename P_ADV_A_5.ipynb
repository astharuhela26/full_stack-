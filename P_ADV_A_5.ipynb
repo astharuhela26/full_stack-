{
 "cells": [
  {
   "cell_type": "markdown",
   "id": "2f143e52",
   "metadata": {},
   "source": [
    "### Sol 1"
   ]
  },
  {
   "cell_type": "code",
   "execution_count": 52,
   "id": "0cd7ca24",
   "metadata": {},
   "outputs": [
    {
     "name": "stdout",
     "output_type": "stream",
     "text": [
      "Enter a number : 8\n"
     ]
    },
    {
     "data": {
      "text/plain": [
       "8"
      ]
     },
     "execution_count": 52,
     "metadata": {},
     "output_type": "execute_result"
    }
   ],
   "source": [
    "def f(n):\n",
    "    if (n//2)*2==n:\n",
    "        return 8\n",
    "    else:\n",
    "        return 2\n",
    "\n",
    "no=int(input(\"Enter a number : \"))\n",
    "f(no)       "
   ]
  },
  {
   "cell_type": "markdown",
   "id": "026ebbdb",
   "metadata": {},
   "source": [
    "### Sol 2\n"
   ]
  },
  {
   "cell_type": "code",
   "execution_count": 147,
   "id": "18691664",
   "metadata": {},
   "outputs": [
    {
     "data": {
      "text/plain": [
       "'a'"
      ]
     },
     "execution_count": 147,
     "metadata": {},
     "output_type": "execute_result"
    }
   ],
   "source": [
    "def majority_vote(l):\n",
    "    c=0\n",
    "    nl=list(set(l))\n",
    "    for i in range(2):\n",
    "        if(l.count(nl[i]))>(len(l)/2):\n",
    "            return(nl[i])\n",
    "                \n",
    "majority_vote([\"a\",\"a\",\"b\",\"a\",\"b\"])\n",
    "        "
   ]
  },
  {
   "cell_type": "code",
   "execution_count": 148,
   "id": "3ef9a056",
   "metadata": {},
   "outputs": [
    {
     "data": {
      "text/plain": [
       "'A'"
      ]
     },
     "execution_count": 148,
     "metadata": {},
     "output_type": "execute_result"
    }
   ],
   "source": [
    "majority_vote([\"A\",\"B\",\"A\"])"
   ]
  },
  {
   "cell_type": "markdown",
   "id": "74ecb76b",
   "metadata": {},
   "source": [
    "### Sol 3"
   ]
  },
  {
   "cell_type": "code",
   "execution_count": 24,
   "id": "83bccdc1",
   "metadata": {},
   "outputs": [
    {
     "data": {
      "text/plain": [
       "'----- is - Wednesday!'"
      ]
     },
     "execution_count": 24,
     "metadata": {},
     "output_type": "execute_result"
    }
   ],
   "source": [
    "def censor_string(s,l,ch):\n",
    "    li=s.split(\" \")\n",
    "    c=0\n",
    "    for i in range(len(li)):\n",
    "        if li[i] in l:\n",
    "            li[i]=ch*len(li[i])\n",
    "            re=\" \".join(li)\n",
    "    return(re)\n",
    "             \n",
    "censor_string(\"Today is a Wednesday!\", [\"Today\", \"a\"], \"-\")           "
   ]
  },
  {
   "cell_type": "code",
   "execution_count": 27,
   "id": "72590523",
   "metadata": {},
   "outputs": [
    {
     "data": {
      "text/plain": [
       "'Why *** the ******* cross the **** ?'"
      ]
     },
     "execution_count": 27,
     "metadata": {},
     "output_type": "execute_result"
    }
   ],
   "source": [
    "censor_string(\"Why did the chicken cross the road ?\", [\"did\", \"chicken\",\"road\"], \"*\")"
   ]
  },
  {
   "cell_type": "markdown",
   "id": "168362d0",
   "metadata": {},
   "source": [
    "### Sol 4"
   ]
  },
  {
   "cell_type": "code",
   "execution_count": 52,
   "id": "27d3813c",
   "metadata": {},
   "outputs": [
    {
     "data": {
      "text/plain": [
       "False"
      ]
     },
     "execution_count": 52,
     "metadata": {},
     "output_type": "execute_result"
    }
   ],
   "source": [
    "def is_polydivisible(n):\n",
    "    s=str(n)\n",
    "    s1=s[0]\n",
    "    c=1\n",
    "    for i in range(1,len(s)):\n",
    "        if int(s1)%(i)==0:\n",
    "            c=c+1\n",
    "        s1=s1+s[i]\n",
    "      \n",
    "    if c==len(s):\n",
    "        return(True)\n",
    "    else:\n",
    "        return(False)\n",
    "        \n",
    "is_polydivisible(123220)      "
   ]
  },
  {
   "cell_type": "code",
   "execution_count": 53,
   "id": "72f70338",
   "metadata": {},
   "outputs": [
    {
     "data": {
      "text/plain": [
       "True"
      ]
     },
     "execution_count": 53,
     "metadata": {},
     "output_type": "execute_result"
    }
   ],
   "source": [
    "is_polydivisible(345654) "
   ]
  },
  {
   "cell_type": "code",
   "execution_count": 54,
   "id": "b2e78bd6",
   "metadata": {},
   "outputs": [
    {
     "data": {
      "text/plain": [
       "True"
      ]
     },
     "execution_count": 54,
     "metadata": {},
     "output_type": "execute_result"
    }
   ],
   "source": [
    "is_polydivisible(1232) "
   ]
  },
  {
   "cell_type": "markdown",
   "id": "1328064d",
   "metadata": {},
   "source": [
    "### Sol 5"
   ]
  },
  {
   "cell_type": "code",
   "execution_count": 77,
   "id": "48a98246",
   "metadata": {},
   "outputs": [],
   "source": [
    "def prime(n):\n",
    "    c=0\n",
    "    for i in range(2,n+1):\n",
    "        if n%i==0:\n",
    "            c+=1\n",
    "    if c==1:\n",
    "        return True\n",
    "    else:\n",
    "        return False\n",
    "            "
   ]
  },
  {
   "cell_type": "code",
   "execution_count": 76,
   "id": "a67ecb9c",
   "metadata": {},
   "outputs": [
    {
     "data": {
      "text/plain": [
       "17"
      ]
     },
     "execution_count": 76,
     "metadata": {},
     "output_type": "execute_result"
    }
   ],
   "source": [
    "def sum_prime(l):\n",
    "    nl=[]\n",
    "    for i in l:\n",
    "         if prime(i)==True:\n",
    "                nl.append(i)\n",
    "    return(sum(nl))\n",
    "                \n",
    "sum_prime([1,2,3,4,5,6,7,8,9,10])"
   ]
  },
  {
   "cell_type": "code",
   "execution_count": null,
   "id": "3a6a8848",
   "metadata": {},
   "outputs": [],
   "source": []
  }
 ],
 "metadata": {
  "kernelspec": {
   "display_name": "Python 3",
   "language": "python",
   "name": "python3"
  },
  "language_info": {
   "codemirror_mode": {
    "name": "ipython",
    "version": 3
   },
   "file_extension": ".py",
   "mimetype": "text/x-python",
   "name": "python",
   "nbconvert_exporter": "python",
   "pygments_lexer": "ipython3",
   "version": "3.8.8"
  }
 },
 "nbformat": 4,
 "nbformat_minor": 5
}
