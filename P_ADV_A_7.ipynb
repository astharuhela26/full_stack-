{
 "cells": [
  {
   "cell_type": "markdown",
   "id": "78e0a7ba",
   "metadata": {},
   "source": [
    "### Sol 1\n"
   ]
  },
  {
   "cell_type": "code",
   "execution_count": 27,
   "id": "c514a659",
   "metadata": {},
   "outputs": [
    {
     "data": {
      "text/plain": [
       "3"
      ]
     },
     "execution_count": 27,
     "metadata": {},
     "output_type": "execute_result"
    }
   ],
   "source": [
    "def count_layers(l):\n",
    "    nl=list(set(l))\n",
    "    return(len(nl))\n",
    "\n",
    "count_layers([\"AAAAAAAAA\",\"ABBBBBBBA\",\"ABBAAABBA\",\"ABBBBBBBA\",\"AAAAAAAAA\"])"
   ]
  },
  {
   "cell_type": "code",
   "execution_count": 28,
   "id": "546ea54d",
   "metadata": {},
   "outputs": [
    {
     "data": {
      "text/plain": [
       "2"
      ]
     },
     "execution_count": 28,
     "metadata": {},
     "output_type": "execute_result"
    }
   ],
   "source": [
    "count_layers([\"AAAA\",\"AABA\",\"AAAA\"])"
   ]
  },
  {
   "cell_type": "code",
   "execution_count": 29,
   "id": "c273b7b0",
   "metadata": {},
   "outputs": [
    {
     "data": {
      "text/plain": [
       "5"
      ]
     },
     "execution_count": 29,
     "metadata": {},
     "output_type": "execute_result"
    }
   ],
   "source": [
    "count_layers([\"AAAAAAAAAAA\",\"AABBBBBBBAA\",\"AABCCCCCBAA\",\"AABCAAACBAA\",\"AABCADACBAA\",\"AABCAAACBAA\",\n",
    "              \"AABCCCCCBAA\",\"AABBBBBBBAA\",\"AAAAAAAAAAA\"])"
   ]
  },
  {
   "cell_type": "markdown",
   "id": "edc9ad1f",
   "metadata": {},
   "source": [
    "### Sol 2"
   ]
  },
  {
   "cell_type": "code",
   "execution_count": 11,
   "id": "3f4c2926",
   "metadata": {},
   "outputs": [
    {
     "data": {
      "text/plain": [
       "9"
      ]
     },
     "execution_count": 11,
     "metadata": {},
     "output_type": "execute_result"
    }
   ],
   "source": [
    "def unique_styles(l):\n",
    "    nl=list(set(l))\n",
    "    unique=len(nl)\n",
    "    return(unique)\n",
    "unique_styles([\"Dub\",\"Dancehall\",\"Industrial\",\"Heavy Metal\",\"Techno\",\"Dubstep\",\"Synth-pop\",\"Euro-Disco\",\"Industrial\"\n",
    ",\"Techno\",\"Minimal\"])"
   ]
  },
  {
   "cell_type": "code",
   "execution_count": 12,
   "id": "64e873c6",
   "metadata": {},
   "outputs": [
    {
     "data": {
      "text/plain": [
       "7"
      ]
     },
     "execution_count": 12,
     "metadata": {},
     "output_type": "execute_result"
    }
   ],
   "source": [
    "unique_styles([\"Soul\",\"House\",\"Folk\",\"Trance\",\"Downtempo\",\"Big Beat\",\"House\",\"Deep\",\"House\",\"Soul\"])"
   ]
  },
  {
   "cell_type": "markdown",
   "id": "ec47501d",
   "metadata": {},
   "source": [
    "### Sol 4\n"
   ]
  },
  {
   "cell_type": "code",
   "execution_count": 31,
   "id": "9087925c",
   "metadata": {},
   "outputs": [
    {
     "data": {
      "text/plain": [
       "1"
      ]
     },
     "execution_count": 31,
     "metadata": {},
     "output_type": "execute_result"
    }
   ],
   "source": [
    "def power_rangers(n,a,b):\n",
    "    c=0\n",
    "    for i in range(1,b):\n",
    "        p=i**n\n",
    "        if a<=p<=b:\n",
    "            c+=1\n",
    "    return(c)\n",
    "power_rangers(10,1,5)   "
   ]
  },
  {
   "cell_type": "code",
   "execution_count": 32,
   "id": "9573f8f5",
   "metadata": {},
   "outputs": [
    {
     "data": {
      "text/plain": [
       "3"
      ]
     },
     "execution_count": 32,
     "metadata": {},
     "output_type": "execute_result"
    }
   ],
   "source": [
    "power_rangers(4,250,1300)"
   ]
  },
  {
   "cell_type": "markdown",
   "id": "4414897b",
   "metadata": {},
   "source": [
    "### Sol 5"
   ]
  },
  {
   "cell_type": "code",
   "execution_count": 47,
   "id": "5b09c092",
   "metadata": {},
   "outputs": [
    {
     "data": {
      "text/plain": [
       "760833"
      ]
     },
     "execution_count": 47,
     "metadata": {},
     "output_type": "execute_result"
    }
   ],
   "source": [
    "def rearranged_difference(n):\n",
    "    ma=\"\"\n",
    "    mi=\"\"\n",
    "    l=list(str(n))\n",
    "    l.sort()\n",
    "    d=l.copy()\n",
    "    d.sort(reverse=True)\n",
    "    ma=\"\".join(d)\n",
    "    mi=\"\".join(l)\n",
    "    return(int(ma)-int(mi))\n",
    "rearranged_difference(972882)\n",
    "    \n",
    "    "
   ]
  },
  {
   "cell_type": "code",
   "execution_count": 48,
   "id": "0f275cb0",
   "metadata": {},
   "outputs": [
    {
     "data": {
      "text/plain": [
       "7709823"
      ]
     },
     "execution_count": 48,
     "metadata": {},
     "output_type": "execute_result"
    }
   ],
   "source": [
    "rearranged_difference(3320707)"
   ]
  },
  {
   "cell_type": "code",
   "execution_count": null,
   "id": "912f2fc4",
   "metadata": {},
   "outputs": [],
   "source": []
  }
 ],
 "metadata": {
  "kernelspec": {
   "display_name": "Python 3",
   "language": "python",
   "name": "python3"
  },
  "language_info": {
   "codemirror_mode": {
    "name": "ipython",
    "version": 3
   },
   "file_extension": ".py",
   "mimetype": "text/x-python",
   "name": "python",
   "nbconvert_exporter": "python",
   "pygments_lexer": "ipython3",
   "version": "3.8.8"
  }
 },
 "nbformat": 4,
 "nbformat_minor": 5
}
