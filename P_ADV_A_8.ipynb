{
 "cells": [
  {
   "cell_type": "markdown",
   "id": "d17be972",
   "metadata": {},
   "source": [
    "### Sol 1\n"
   ]
  },
  {
   "cell_type": "code",
   "execution_count": 55,
   "id": "c2134cc9",
   "metadata": {},
   "outputs": [
    {
     "data": {
      "text/plain": [
       "True"
      ]
     },
     "execution_count": 55,
     "metadata": {},
     "output_type": "execute_result"
    }
   ],
   "source": [
    "def vowel_links(s):\n",
    "    l=[\"a\",\"e\",\"i\",\"o\",\"u\"]\n",
    "    nl=s.split(\" \")\n",
    "    flag=False\n",
    "    for i in range(1,len(nl)):\n",
    "        if (nl[i-1][-1] in l) and (nl[i][0] in l):\n",
    "            flag=True\n",
    "    return flag\n",
    "    \n",
    "vowel_links(\"very large appliance\")"
   ]
  },
  {
   "cell_type": "code",
   "execution_count": 56,
   "id": "8cdf014c",
   "metadata": {},
   "outputs": [
    {
     "data": {
      "text/plain": [
       "True"
      ]
     },
     "execution_count": 56,
     "metadata": {},
     "output_type": "execute_result"
    }
   ],
   "source": [
    "vowel_links(\"go to edabit\")"
   ]
  },
  {
   "cell_type": "code",
   "execution_count": 57,
   "id": "fc72338f",
   "metadata": {},
   "outputs": [
    {
     "data": {
      "text/plain": [
       "False"
      ]
     },
     "execution_count": 57,
     "metadata": {},
     "output_type": "execute_result"
    }
   ],
   "source": [
    "vowel_links(\"a sudden applause\")"
   ]
  },
  {
   "cell_type": "markdown",
   "id": "54b21245",
   "metadata": {},
   "source": [
    "### Sol 2"
   ]
  },
  {
   "cell_type": "code",
   "execution_count": 77,
   "id": "8e1215d9",
   "metadata": {},
   "outputs": [
    {
     "data": {
      "text/plain": [
       "True"
      ]
     },
     "execution_count": 77,
     "metadata": {},
     "output_type": "execute_result"
    }
   ],
   "source": [
    "def first_before_second(s,c1,c2):\n",
    "    l1=[]\n",
    "    l2=[]\n",
    "    c=0\n",
    "    for i in range(len(s)):\n",
    "        if s[i]==c1:\n",
    "            l1.append(i)\n",
    "        else:\n",
    "            if s[i]==c2:\n",
    "                l2.append(i)\n",
    "    \n",
    "    \n",
    "    if (max(l1)<min(l2)):\n",
    "        return True\n",
    "    else:\n",
    "        return False\n",
    "          \n",
    "    \n",
    "    \n",
    "first_before_second(\"a rabbit jumps joyfully\",\"a\",\"j\")"
   ]
  },
  {
   "cell_type": "code",
   "execution_count": 78,
   "id": "c082f9b5",
   "metadata": {},
   "outputs": [
    {
     "data": {
      "text/plain": [
       "True"
      ]
     },
     "execution_count": 78,
     "metadata": {},
     "output_type": "execute_result"
    }
   ],
   "source": [
    "first_before_second(\"knaves knew about waterfalls\",\"k\",\"w\")"
   ]
  },
  {
   "cell_type": "code",
   "execution_count": 79,
   "id": "3ace7625",
   "metadata": {},
   "outputs": [
    {
     "data": {
      "text/plain": [
       "False"
      ]
     },
     "execution_count": 79,
     "metadata": {},
     "output_type": "execute_result"
    }
   ],
   "source": [
    "first_before_second(\"happy birthday\",\"a\",\"y\")"
   ]
  },
  {
   "cell_type": "markdown",
   "id": "49b88ecd",
   "metadata": {},
   "source": [
    "### Sol 3"
   ]
  },
  {
   "cell_type": "code",
   "execution_count": 128,
   "id": "2519ee78",
   "metadata": {},
   "outputs": [],
   "source": [
    "def char_at_pos(l,s):\n",
    "    li=[]\n",
    "    d={(l.index(i))+1:i for i in l}\n",
    "    \n",
    "    for i in d.keys():\n",
    "        if s==\"even\":\n",
    "            if i%2==0:\n",
    "                li.append(d[i])\n",
    "        else:\n",
    "            if i%2!=0:\n",
    "                li.append(d[i])\n",
    "    return(li)"
   ]
  },
  {
   "cell_type": "code",
   "execution_count": 129,
   "id": "5a4bfaa5",
   "metadata": {},
   "outputs": [
    {
     "data": {
      "text/plain": [
       "[4, 8]"
      ]
     },
     "execution_count": 129,
     "metadata": {},
     "output_type": "execute_result"
    }
   ],
   "source": [
    "char_at_pos([2,4,6,8,10],\"even\")  "
   ]
  },
  {
   "cell_type": "code",
   "execution_count": 130,
   "id": "0190b42a",
   "metadata": {},
   "outputs": [
    {
     "data": {
      "text/plain": [
       "['e', 'a', 'i']"
      ]
     },
     "execution_count": 130,
     "metadata": {},
     "output_type": "execute_result"
    }
   ],
   "source": [
    "char_at_pos(\"edabit\",\"odd\")"
   ]
  },
  {
   "cell_type": "markdown",
   "id": "1de3d08e",
   "metadata": {},
   "source": [
    "### Sol 4"
   ]
  },
  {
   "cell_type": "code",
   "execution_count": 155,
   "id": "b4b68e01",
   "metadata": {},
   "outputs": [
    {
     "data": {
      "text/plain": [
       "10"
      ]
     },
     "execution_count": 155,
     "metadata": {},
     "output_type": "execute_result"
    }
   ],
   "source": [
    "import numpy as np\n",
    "\n",
    "def GCD(l):\n",
    "    return(np.gcd.reduce(l))\n",
    "GCD([10,20,40])"
   ]
  },
  {
   "cell_type": "code",
   "execution_count": 156,
   "id": "c1d50367",
   "metadata": {},
   "outputs": [
    {
     "data": {
      "text/plain": [
       "64"
      ]
     },
     "execution_count": 156,
     "metadata": {},
     "output_type": "execute_result"
    }
   ],
   "source": [
    "GCD([1024, 192, 2048, 512])"
   ]
  },
  {
   "cell_type": "markdown",
   "id": "606ee718",
   "metadata": {},
   "source": [
    "### Sol 4"
   ]
  },
  {
   "cell_type": "code",
   "execution_count": 145,
   "id": "07e28c8e",
   "metadata": {},
   "outputs": [
    {
     "data": {
      "text/plain": [
       "'decimal only'"
      ]
     },
     "execution_count": 145,
     "metadata": {},
     "output_type": "execute_result"
    }
   ],
   "source": [
    "def palindrome_type(n):\n",
    "    s=\"\"\n",
    "    s1=\"\"\n",
    "    for i in str(n):\n",
    "        s1= i+s1\n",
    "    n2=bin(n)[2:]\n",
    "    for i in n2:\n",
    "        s=i+s\n",
    "    if int(s1)==n and s!=n2:\n",
    "        return(\"decimal only\")\n",
    "    elif int(s1)!=n and s==n2:\n",
    "        return(\"binary only\")\n",
    "    elif int(s1)==n and s==n2:\n",
    "        return(\"decimal and binary\")\n",
    "    else:\n",
    "        return(\"neither\")\n",
    "    \n",
    "palindrome_type(1306031)   "
   ]
  },
  {
   "cell_type": "code",
   "execution_count": 146,
   "id": "0d3c40e8",
   "metadata": {},
   "outputs": [
    {
     "data": {
      "text/plain": [
       "'decimal and binary'"
      ]
     },
     "execution_count": 146,
     "metadata": {},
     "output_type": "execute_result"
    }
   ],
   "source": [
    "palindrome_type(313) "
   ]
  },
  {
   "cell_type": "code",
   "execution_count": 147,
   "id": "9f75ebc6",
   "metadata": {},
   "outputs": [
    {
     "data": {
      "text/plain": [
       "'binary only'"
      ]
     },
     "execution_count": 147,
     "metadata": {},
     "output_type": "execute_result"
    }
   ],
   "source": [
    "palindrome_type(427787)"
   ]
  },
  {
   "cell_type": "code",
   "execution_count": 148,
   "id": "18a56269",
   "metadata": {},
   "outputs": [
    {
     "data": {
      "text/plain": [
       "'neither'"
      ]
     },
     "execution_count": 148,
     "metadata": {},
     "output_type": "execute_result"
    }
   ],
   "source": [
    "palindrome_type(934)"
   ]
  },
  {
   "cell_type": "code",
   "execution_count": null,
   "id": "b1dd0686",
   "metadata": {},
   "outputs": [],
   "source": []
  }
 ],
 "metadata": {
  "kernelspec": {
   "display_name": "Python 3",
   "language": "python",
   "name": "python3"
  },
  "language_info": {
   "codemirror_mode": {
    "name": "ipython",
    "version": 3
   },
   "file_extension": ".py",
   "mimetype": "text/x-python",
   "name": "python",
   "nbconvert_exporter": "python",
   "pygments_lexer": "ipython3",
   "version": "3.8.8"
  }
 },
 "nbformat": 4,
 "nbformat_minor": 5
}
