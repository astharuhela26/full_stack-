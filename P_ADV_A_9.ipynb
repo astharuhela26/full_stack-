{
 "cells": [
  {
   "cell_type": "markdown",
   "id": "db30e516",
   "metadata": {},
   "source": [
    "### Sol 1"
   ]
  },
  {
   "cell_type": "code",
   "execution_count": 96,
   "id": "d3b6104a",
   "metadata": {},
   "outputs": [
    {
     "data": {
      "text/plain": [
       "'102:40:18'"
      ]
     },
     "execution_count": 96,
     "metadata": {},
     "output_type": "execute_result"
    }
   ],
   "source": [
    "def playback_duration(ad,ps):\n",
    "    l=ad.split(\":\")\n",
    "    hr,mi,se = int(l[0]),int(l[1]),int(l[2])\n",
    "\n",
    "    total_sec=((hr*3600)+(mi*60)+se)/ps\n",
    "    \n",
    "    hours=int(total_sec//3600)\n",
    "    \n",
    "    minutes=int((total_sec-(hours*3600))//60)\n",
    "    seconds=int(total_sec-(hours*3600+(minutes*60)))\n",
    "    \n",
    "    if hours==0:\n",
    "        hours=\"00\"\n",
    "    if minutes==0:\n",
    "        minutes=\"00\"\n",
    "    if seconds==0:\n",
    "        seconds=\"00\"\n",
    "    \n",
    "    return(str(hours)+\":\"+str(minutes)+\":\"+str(seconds))\n",
    "    \n",
    "    \n",
    "playback_duration(\"51:20:09\",0.5)  "
   ]
  },
  {
   "cell_type": "code",
   "execution_count": 97,
   "id": "f5302e9c",
   "metadata": {},
   "outputs": [
    {
     "data": {
      "text/plain": [
       "'00:15:00'"
      ]
     },
     "execution_count": 97,
     "metadata": {},
     "output_type": "execute_result"
    }
   ],
   "source": [
    "playback_duration(\"00:30:00\",2)"
   ]
  },
  {
   "cell_type": "code",
   "execution_count": 98,
   "id": "67e98cda",
   "metadata": {},
   "outputs": [
    {
     "data": {
      "text/plain": [
       "'00:53:20'"
      ]
     },
     "execution_count": 98,
     "metadata": {},
     "output_type": "execute_result"
    }
   ],
   "source": [
    "playback_duration(\"01:20:00\", 1.5)"
   ]
  },
  {
   "cell_type": "markdown",
   "id": "8ed7c4a2",
   "metadata": {},
   "source": [
    "### Sol 2"
   ]
  },
  {
   "cell_type": "code",
   "execution_count": 165,
   "id": "4fbf93e9",
   "metadata": {},
   "outputs": [],
   "source": [
    "def pile_of_cubes(v):\n",
    "    \n",
    "    if(v==1):\n",
    "        return 1    \n",
    "    else:\n",
    "        n = 2\n",
    "        cv = 1\n",
    "        \n",
    "        while(cv<v):\n",
    "            cv = cv + n**3\n",
    "            if(cv==v):\n",
    "                return n\n",
    "            \n",
    "            else:\n",
    "                n = n +1\n",
    "                continue\n",
    "        return \"None\""
   ]
  },
  {
   "cell_type": "code",
   "execution_count": 166,
   "id": "143f5430",
   "metadata": {},
   "outputs": [
    {
     "data": {
      "text/plain": [
       "2022"
      ]
     },
     "execution_count": 166,
     "metadata": {},
     "output_type": "execute_result"
    }
   ],
   "source": [
    "pile_of_cubes(4183059834009)"
   ]
  },
  {
   "cell_type": "code",
   "execution_count": 167,
   "id": "1bbf0dee",
   "metadata": {},
   "outputs": [
    {
     "data": {
      "text/plain": [
       "'None'"
      ]
     },
     "execution_count": 167,
     "metadata": {},
     "output_type": "execute_result"
    }
   ],
   "source": [
    "pile_of_cubes(16)"
   ]
  },
  {
   "cell_type": "markdown",
   "id": "d3e7abb0",
   "metadata": {},
   "source": [
    "### Sol 3"
   ]
  },
  {
   "cell_type": "code",
   "execution_count": 91,
   "id": "7d5d15cd",
   "metadata": {},
   "outputs": [],
   "source": [
    "def find_fulcrum(l):\n",
    "    \n",
    "    for i in range(len(l)):\n",
    "        if sum(l[:i])==sum(l[i+1:]):\n",
    "            return(l[i])\n",
    "        \n",
    "    return(-1)"
   ]
  },
  {
   "cell_type": "code",
   "execution_count": 92,
   "id": "808693a6",
   "metadata": {},
   "outputs": [
    {
     "data": {
      "text/plain": [
       "4"
      ]
     },
     "execution_count": 92,
     "metadata": {},
     "output_type": "execute_result"
    }
   ],
   "source": [
    "find_fulcrum([1, 2, 4, 9, 10, -10, -9, 3])"
   ]
  },
  {
   "cell_type": "code",
   "execution_count": 93,
   "id": "76c1bf54",
   "metadata": {},
   "outputs": [
    {
     "data": {
      "text/plain": [
       "1"
      ]
     },
     "execution_count": 93,
     "metadata": {},
     "output_type": "execute_result"
    }
   ],
   "source": [
    "find_fulcrum([9, 1, 9])"
   ]
  },
  {
   "cell_type": "code",
   "execution_count": 94,
   "id": "3516eb6a",
   "metadata": {},
   "outputs": [
    {
     "data": {
      "text/plain": [
       "-1"
      ]
     },
     "execution_count": 94,
     "metadata": {},
     "output_type": "execute_result"
    }
   ],
   "source": [
    "find_fulcrum([8, 8, 8, 8])"
   ]
  },
  {
   "cell_type": "markdown",
   "id": "eaea97cd",
   "metadata": {},
   "source": [
    "### Sol 4"
   ]
  },
  {
   "cell_type": "code",
   "execution_count": 115,
   "id": "c05b7526",
   "metadata": {},
   "outputs": [],
   "source": [
    "def sock_merchant(l):\n",
    "    pairs=0\n",
    "    import collections\n",
    "    frq=collections.Counter(l)\n",
    "    d=dict(frq)\n",
    "   \n",
    "    for i in d.keys():\n",
    "        if d[i]>=2:\n",
    "            pairs=pairs+d[i]//2\n",
    "    return(pairs)"
   ]
  },
  {
   "cell_type": "code",
   "execution_count": 116,
   "id": "9574fd7f",
   "metadata": {},
   "outputs": [
    {
     "data": {
      "text/plain": [
       "3"
      ]
     },
     "execution_count": 116,
     "metadata": {},
     "output_type": "execute_result"
    }
   ],
   "source": [
    "sock_merchant([10, 20, 20, 10, 10, 30, 50, 10, 20])"
   ]
  },
  {
   "cell_type": "code",
   "execution_count": 117,
   "id": "2c2c01a0",
   "metadata": {},
   "outputs": [
    {
     "data": {
      "text/plain": [
       "4"
      ]
     },
     "execution_count": 117,
     "metadata": {},
     "output_type": "execute_result"
    }
   ],
   "source": [
    "sock_merchant([50, 20, 30, 90, 30, 20, 50, 20, 90])"
   ]
  },
  {
   "cell_type": "code",
   "execution_count": 118,
   "id": "6162f7a8",
   "metadata": {},
   "outputs": [
    {
     "data": {
      "text/plain": [
       "0"
      ]
     },
     "execution_count": 118,
     "metadata": {},
     "output_type": "execute_result"
    }
   ],
   "source": [
    "sock_merchant([])"
   ]
  },
  {
   "cell_type": "markdown",
   "id": "7ffd85f5",
   "metadata": {},
   "source": [
    "### Sol 5"
   ]
  },
  {
   "cell_type": "code",
   "execution_count": 158,
   "id": "eeaf7def",
   "metadata": {},
   "outputs": [
    {
     "data": {
      "text/plain": [
       "-33"
      ]
     },
     "execution_count": 158,
     "metadata": {},
     "output_type": "execute_result"
    }
   ],
   "source": [
    "def negative_sum(s):\n",
    "    su=0\n",
    "    import re\n",
    "    \n",
    "    pattern=\"-\\d+\"\n",
    "    ob=re.compile(pattern)\n",
    "    l=ob.findall(s)\n",
    "    \n",
    "    for i in l:\n",
    "        su=su+int(i)\n",
    "    return(su)\n",
    "           \n",
    "negative_sum(\"22 13%14&-11-22 13 12\")"
   ]
  },
  {
   "cell_type": "code",
   "execution_count": 150,
   "id": "f5ea00e9",
   "metadata": {},
   "outputs": [
    {
     "data": {
      "text/plain": [
       "-23"
      ]
     },
     "execution_count": 150,
     "metadata": {},
     "output_type": "execute_result"
    }
   ],
   "source": [
    "negative_sum(\"-12 13%14&-11\")  "
   ]
  },
  {
   "cell_type": "code",
   "execution_count": null,
   "id": "8b48f735",
   "metadata": {},
   "outputs": [],
   "source": []
  }
 ],
 "metadata": {
  "kernelspec": {
   "display_name": "Python 3",
   "language": "python",
   "name": "python3"
  },
  "language_info": {
   "codemirror_mode": {
    "name": "ipython",
    "version": 3
   },
   "file_extension": ".py",
   "mimetype": "text/x-python",
   "name": "python",
   "nbconvert_exporter": "python",
   "pygments_lexer": "ipython3",
   "version": "3.8.8"
  }
 },
 "nbformat": 4,
 "nbformat_minor": 5
}
