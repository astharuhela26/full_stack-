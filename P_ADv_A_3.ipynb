{
 "cells": [
  {
   "cell_type": "markdown",
   "id": "ba0f3a42",
   "metadata": {},
   "source": [
    "### Sol 1"
   ]
  },
  {
   "cell_type": "code",
   "execution_count": 22,
   "id": "bae5016a",
   "metadata": {},
   "outputs": [
    {
     "data": {
      "text/plain": [
       "144"
      ]
     },
     "execution_count": 22,
     "metadata": {},
     "output_type": "execute_result"
    }
   ],
   "source": [
    "def arithmetic_operation(s):\n",
    "    o = s[2]\n",
    "    li=s.split(\"o\")\n",
    "    if o==\"+\":\n",
    "        su=int(l[1])+int(l[0])\n",
    "    elif o==\"-\":\n",
    "        su=int(l[1])-int(l[0])\n",
    "    elif o==\"*\":\n",
    "        su=int(l[1])*int(l[0])\n",
    "    else:\n",
    "        if int(l[1])==0:\n",
    "            return-1\n",
    "        else:\n",
    "            su=int(l[0])//int(l[1])\n",
    "    return(su)\n",
    "            \n",
    "        \n",
    "arithmetic_operation(\"12*12\") "
   ]
  },
  {
   "cell_type": "markdown",
   "id": "db223f7b",
   "metadata": {},
   "source": [
    "### Sol 2\n"
   ]
  },
  {
   "cell_type": "code",
   "execution_count": 51,
   "id": "1918c31d",
   "metadata": {},
   "outputs": [
    {
     "data": {
      "text/plain": [
       "47.08"
      ]
     },
     "execution_count": 51,
     "metadata": {},
     "output_type": "execute_result"
    }
   ],
   "source": [
    "def perimeter(l):\n",
    "    import math\n",
    "    x1,y1=l[0][0],l[0][1]\n",
    "    x2,y2=l[1][0],l[1][1]\n",
    "    x3,y3=l[2][0],l[2][1]\n",
    "    \n",
    "    ab=math.sqrt((x2-x1)**2+(y2-y1)**2)\n",
    "    bc=math.sqrt((x3-x2)**2+(y3-y2)**2)\n",
    "    ca=math.sqrt((x3-x1)**2+(y3-y1)**2)\n",
    "    p=ab+bc+ca\n",
    "    \n",
    "    return(round(p,2))\n",
    "\n",
    "perimeter([ [15, 7], [5, 22], [11, 1] ])"
   ]
  },
  {
   "cell_type": "markdown",
   "id": "99de1c35",
   "metadata": {},
   "source": [
    "### Sol 3"
   ]
  },
  {
   "cell_type": "code",
   "execution_count": 29,
   "id": "20578471",
   "metadata": {},
   "outputs": [
    {
     "data": {
      "text/plain": [
       "3"
      ]
     },
     "execution_count": 29,
     "metadata": {},
     "output_type": "execute_result"
    }
   ],
   "source": [
    "def tallest_skyscraper(l):\n",
    "    c=0\n",
    "    for i in range(len(l)):\n",
    "        for j in range(len(l[0])):\n",
    "            if l[i][j]==1:\n",
    "                c+=1\n",
    "                if c==1:\n",
    "                    row=i\n",
    "                    break\n",
    "                else:\n",
    "                    continue\n",
    "    value=len(l)-row\n",
    "    return(value)\n",
    "\n",
    "tallest_skyscraper(([0, 0, 0, 0],[0, 1, 0, 0],[0, 1, 1, 0],[1, 1, 1, 1]))\n",
    "        "
   ]
  },
  {
   "cell_type": "code",
   "execution_count": 31,
   "id": "ae51f7dc",
   "metadata": {},
   "outputs": [
    {
     "data": {
      "text/plain": [
       "4"
      ]
     },
     "execution_count": 31,
     "metadata": {},
     "output_type": "execute_result"
    }
   ],
   "source": [
    "tallest_skyscraper(([0, 1, 0, 0],[0, 1, 0, 0],[0, 1, 1, 0],[1, 1, 1, 1]))"
   ]
  },
  {
   "cell_type": "code",
   "execution_count": 35,
   "id": "b122a8e7",
   "metadata": {},
   "outputs": [
    {
     "data": {
      "text/plain": [
       "2"
      ]
     },
     "execution_count": 35,
     "metadata": {},
     "output_type": "execute_result"
    }
   ],
   "source": [
    "tallest_skyscraper(([0, 0, 0, 0],[0, 0, 0, 0],[1, 1, 1, 0],[1, 1, 1, 1]))"
   ]
  },
  {
   "cell_type": "markdown",
   "id": "2721cd35",
   "metadata": {},
   "source": [
    "### Sol 4\n"
   ]
  },
  {
   "cell_type": "code",
   "execution_count": 39,
   "id": "a9888a1d",
   "metadata": {},
   "outputs": [
    {
     "data": {
      "text/plain": [
       "8200"
      ]
     },
     "execution_count": 39,
     "metadata": {},
     "output_type": "execute_result"
    }
   ],
   "source": [
    "def bonus(n):\n",
    "    s=0\n",
    "    if n<32:\n",
    "        return s\n",
    "    elif n>32 and n<=40:\n",
    "        re=n-32\n",
    "        return(s+re*325)\n",
    "    elif n>40 and n<=48:\n",
    "        re1=n-40\n",
    "        if re1>8:\n",
    "            return(s+8*325+re1*550)\n",
    "    else:\n",
    "        re3=n-48\n",
    "        return(s+8*325+8*550+re3*600)\n",
    "bonus(50)"
   ]
  },
  {
   "cell_type": "code",
   "execution_count": 40,
   "id": "bb8fa861",
   "metadata": {},
   "outputs": [
    {
     "data": {
      "text/plain": [
       "1625"
      ]
     },
     "execution_count": 40,
     "metadata": {},
     "output_type": "execute_result"
    }
   ],
   "source": [
    "bonus(37)"
   ]
  },
  {
   "cell_type": "markdown",
   "id": "5f3fe549",
   "metadata": {},
   "source": [
    "### Sol 5"
   ]
  },
  {
   "cell_type": "code",
   "execution_count": 48,
   "id": "c426cdd1",
   "metadata": {},
   "outputs": [
    {
     "data": {
      "text/plain": [
       "True"
      ]
     },
     "execution_count": 48,
     "metadata": {},
     "output_type": "execute_result"
    }
   ],
   "source": [
    "def is_disarium(n):\n",
    "    \n",
    "    s=0\n",
    "    st=str(n)\n",
    "    for i in range(0,len(st)):\n",
    "        s=s+int(st[i])**(i+1)\n",
    "    if s==n:\n",
    "        return(True)\n",
    "    else:\n",
    "        return(False)\n",
    "    \n",
    "is_disarium(518)"
   ]
  },
  {
   "cell_type": "code",
   "execution_count": null,
   "id": "70e23bff",
   "metadata": {},
   "outputs": [],
   "source": []
  },
  {
   "cell_type": "code",
   "execution_count": null,
   "id": "859c7e8d",
   "metadata": {},
   "outputs": [],
   "source": []
  }
 ],
 "metadata": {
  "kernelspec": {
   "display_name": "Python 3",
   "language": "python",
   "name": "python3"
  },
  "language_info": {
   "codemirror_mode": {
    "name": "ipython",
    "version": 3
   },
   "file_extension": ".py",
   "mimetype": "text/x-python",
   "name": "python",
   "nbconvert_exporter": "python",
   "pygments_lexer": "ipython3",
   "version": "3.8.8"
  }
 },
 "nbformat": 4,
 "nbformat_minor": 5
}
