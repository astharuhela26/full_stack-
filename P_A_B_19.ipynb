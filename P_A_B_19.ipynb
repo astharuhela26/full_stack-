{
 "cells": [
  {
   "cell_type": "markdown",
   "id": "577d045f",
   "metadata": {},
   "source": [
    "### Sol 1"
   ]
  },
  {
   "cell_type": "code",
   "execution_count": 21,
   "id": "66c597c9",
   "metadata": {},
   "outputs": [
    {
     "name": "stdout",
     "output_type": "stream",
     "text": [
      "Enter a string : string\n"
     ]
    },
    {
     "data": {
      "text/plain": [
       "'ssttrriinngg'"
      ]
     },
     "execution_count": 21,
     "metadata": {},
     "output_type": "execute_result"
    }
   ],
   "source": [
    "def double_char(s):\n",
    "    \n",
    "    new_s=\"\".join([char*2 for char in s])\n",
    "    return(new_s)\n",
    "\n",
    "\n",
    "st=input(\"Enter a string : \")\n",
    "\n",
    "double_char(st)   "
   ]
  },
  {
   "cell_type": "markdown",
   "id": "f87ae988",
   "metadata": {},
   "source": [
    "### Sol 2"
   ]
  },
  {
   "cell_type": "code",
   "execution_count": 27,
   "id": "7169478a",
   "metadata": {},
   "outputs": [
    {
     "data": {
      "text/plain": [
       "False"
      ]
     },
     "execution_count": 27,
     "metadata": {},
     "output_type": "execute_result"
    }
   ],
   "source": [
    "def reverse(e):\n",
    "    if type(e)==bool:\n",
    "        return (not bool)\n",
    "    else:\n",
    "        return(\"Boolean Expected\")\n",
    "    \n",
    "\n",
    "reverse(True)\n",
    "    "
   ]
  },
  {
   "cell_type": "markdown",
   "id": "1a85cb1e",
   "metadata": {},
   "source": [
    "### Sol 3"
   ]
  },
  {
   "cell_type": "code",
   "execution_count": 37,
   "id": "8e1996e1",
   "metadata": {},
   "outputs": [
    {
     "name": "stdout",
     "output_type": "stream",
     "text": [
      "Enter the number of layers21\n",
      "Paper folded 21 times is 1048576 mm (equal to 1048.576m)\n"
     ]
    }
   ],
   "source": [
    "def num_layers(l):\n",
    "    t = 0.5\n",
    "    for i in range(0,l):\n",
    "        t=t* 2\n",
    "    print(\"Paper folded {} times is {:.0f} mm (equal to {}m)\".format(l,t,t/1000))\n",
    "\n",
    "    \n",
    "n=int(input(\"Enter the number of layers\"))\n",
    "\n",
    "num_layers(n)"
   ]
  },
  {
   "cell_type": "markdown",
   "id": "ce200158",
   "metadata": {},
   "source": [
    "### Sol 4"
   ]
  },
  {
   "cell_type": "code",
   "execution_count": 29,
   "id": "34e77283",
   "metadata": {},
   "outputs": [
    {
     "name": "stdout",
     "output_type": "stream",
     "text": [
      "Enter a stringeQuINox\n"
     ]
    },
    {
     "data": {
      "text/plain": [
       "[1, 3, 4]"
      ]
     },
     "execution_count": 29,
     "metadata": {},
     "output_type": "execute_result"
    }
   ],
   "source": [
    "def index_of_caps(st):\n",
    "    l=[]\n",
    "    \n",
    "    for i in range(len(st)):\n",
    "        if st[i].isupper()==True:\n",
    "            l.append(i)\n",
    "            \n",
    "    return(l)\n",
    "        \n",
    "s=input(\"Enter a string\") \n",
    "\n",
    "index_of_caps(s)"
   ]
  },
  {
   "cell_type": "markdown",
   "id": "df03d960",
   "metadata": {},
   "source": [
    "### Sol 5"
   ]
  },
  {
   "cell_type": "code",
   "execution_count": 33,
   "id": "10031222",
   "metadata": {},
   "outputs": [
    {
     "name": "stdout",
     "output_type": "stream",
     "text": [
      "Enter the number8\n"
     ]
    },
    {
     "data": {
      "text/plain": [
       "[2, 4, 6, 8]"
      ]
     },
     "execution_count": 33,
     "metadata": {},
     "output_type": "execute_result"
    }
   ],
   "source": [
    "n=int(input(\"Enter the number\"))\n",
    "\n",
    "l=[i for i in range(1,n+1) if i%2==0]\n",
    "l"
   ]
  },
  {
   "cell_type": "code",
   "execution_count": null,
   "id": "d1eef993",
   "metadata": {},
   "outputs": [],
   "source": []
  }
 ],
 "metadata": {
  "kernelspec": {
   "display_name": "Python 3",
   "language": "python",
   "name": "python3"
  },
  "language_info": {
   "codemirror_mode": {
    "name": "ipython",
    "version": 3
   },
   "file_extension": ".py",
   "mimetype": "text/x-python",
   "name": "python",
   "nbconvert_exporter": "python",
   "pygments_lexer": "ipython3",
   "version": "3.8.8"
  }
 },
 "nbformat": 4,
 "nbformat_minor": 5
}
