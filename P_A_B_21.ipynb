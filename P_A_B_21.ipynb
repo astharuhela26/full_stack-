{
 "cells": [
  {
   "cell_type": "markdown",
   "id": "7b1d75ef",
   "metadata": {},
   "source": [
    "### Sol 1"
   ]
  },
  {
   "cell_type": "code",
   "execution_count": 7,
   "id": "a5c3abb5",
   "metadata": {},
   "outputs": [
    {
     "name": "stdout",
     "output_type": "stream",
     "text": [
      "Enter the number of elements you want in list : 5\n",
      "Enter the number you want to add to the list : 1\n",
      "5\n",
      "6\n",
      "7\n",
      "8\n",
      "9\n"
     ]
    },
    {
     "data": {
      "text/plain": [
       "[6, 7, 8, 9, 1]"
      ]
     },
     "execution_count": 7,
     "metadata": {},
     "output_type": "execute_result"
    }
   ],
   "source": [
    "def next_in_line(l,n):\n",
    "    \n",
    "    l.remove(l[0])\n",
    "    l.append(n) \n",
    "        \n",
    "    return(l)\n",
    "\n",
    "\n",
    "n=int(input(\"Enter the number of elements you want in list : \"))\n",
    "n1=int(input(\"Enter the number you want to add to the list : \"))\n",
    "\n",
    "li=[]\n",
    "for i in range(n):\n",
    "    \n",
    "    li.append(int(input()))\n",
    "\n",
    "\n",
    "next_in_line(li,n1)"
   ]
  },
  {
   "cell_type": "markdown",
   "id": "fd283f66",
   "metadata": {},
   "source": [
    "### Sol 2\n"
   ]
  },
  {
   "cell_type": "code",
   "execution_count": 37,
   "id": "bbfa5599",
   "metadata": {},
   "outputs": [
    {
     "data": {
      "text/plain": [
       "62600"
      ]
     },
     "execution_count": 37,
     "metadata": {},
     "output_type": "execute_result"
    }
   ],
   "source": [
    "def get_budgets(d):\n",
    "    s = 0\n",
    "    for i in range(0,len(d)):\n",
    "        s= s + d[i][\"budget\"]\n",
    "    return s\n",
    "\n",
    "\n",
    "\n",
    "get_budgets([{\"name\":\"John\",\"age\":21,\"budget\":29000},\n",
    "   {\"name\":\"Steve\",\"age\":32,\"budget\":32000},\n",
    "   {\"name\":\"Martin\",\"age\":16,\"budget\":1600}])\n"
   ]
  },
  {
   "cell_type": "markdown",
   "id": "04b72d97",
   "metadata": {},
   "source": [
    "### Sol 3"
   ]
  },
  {
   "cell_type": "code",
   "execution_count": 29,
   "id": "a086999f",
   "metadata": {},
   "outputs": [
    {
     "name": "stdout",
     "output_type": "stream",
     "text": [
      "Enter a string : adabit\n"
     ]
    },
    {
     "data": {
      "text/plain": [
       "'aabdit'"
      ]
     },
     "execution_count": 29,
     "metadata": {},
     "output_type": "execute_result"
    }
   ],
   "source": [
    "def alphabet_soup(s):\n",
    "    l=[]\n",
    "    st=\"\"\n",
    "    for i in s:\n",
    "        l.append(i)\n",
    "        l.sort()\n",
    "    \n",
    "    for i in l:\n",
    "        st=st+i\n",
    "    return(st)\n",
    "\n",
    "string=input(\"Enter a string : \")\n",
    "\n",
    "alphabet_soup(string)"
   ]
  },
  {
   "cell_type": "markdown",
   "id": "44c4b58f",
   "metadata": {},
   "source": [
    "### Sol 4"
   ]
  },
  {
   "cell_type": "code",
   "execution_count": 34,
   "id": "ae4eadc0",
   "metadata": {},
   "outputs": [
    {
     "name": "stdout",
     "output_type": "stream",
     "text": [
      "Enter the amount : 100000\n",
      "Enter the term : 20\n",
      "Enter the interest : 0.15\n",
      "Enter the no of yrs : 365\n"
     ]
    },
    {
     "data": {
      "text/plain": [
       "2007316.26"
      ]
     },
     "execution_count": 34,
     "metadata": {},
     "output_type": "execute_result"
    }
   ],
   "source": [
    "def compound_interest(p,t,r,n):\n",
    "    \n",
    "    prod=n*t\n",
    "    \n",
    "    A=p*(1+r/n)**prod\n",
    "    \n",
    "    return(round(A,2))\n",
    "\n",
    "PI=int(input(\"Enter the amount : \"))\n",
    "term=int(input(\"Enter the term : \"))\n",
    "r=float(input(\"Enter the interest : \"))\n",
    "no=int(input(\"Enter the no of yrs : \"))\n",
    "\n",
    "compound_interest(PI,term,r,no)"
   ]
  },
  {
   "cell_type": "markdown",
   "id": "d77b97aa",
   "metadata": {},
   "source": [
    "### Sol 5"
   ]
  },
  {
   "cell_type": "code",
   "execution_count": null,
   "id": "5ef8b33f",
   "metadata": {},
   "outputs": [],
   "source": [
    "def return_only_integer(l):\n",
    "    \n",
    "    nl=[]\n",
    "    for i in l:\n",
    "        if type(i)==int:\n",
    "            nl.append(i)\n",
    "            \n",
    "    return(nl)\n",
    "\n",
    "return_only_integer([2,6,\"sd\",\"yn\",4])"
   ]
  }
 ],
 "metadata": {
  "kernelspec": {
   "display_name": "Python 3",
   "language": "python",
   "name": "python3"
  },
  "language_info": {
   "codemirror_mode": {
    "name": "ipython",
    "version": 3
   },
   "file_extension": ".py",
   "mimetype": "text/x-python",
   "name": "python",
   "nbconvert_exporter": "python",
   "pygments_lexer": "ipython3",
   "version": "3.8.8"
  }
 },
 "nbformat": 4,
 "nbformat_minor": 5
}
