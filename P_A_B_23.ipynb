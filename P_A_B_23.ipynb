{
 "cells": [
  {
   "cell_type": "markdown",
   "id": "02bbf1f4",
   "metadata": {},
   "source": [
    "### Sol 1"
   ]
  },
  {
   "cell_type": "code",
   "execution_count": 5,
   "id": "2b4eb493",
   "metadata": {},
   "outputs": [
    {
     "name": "stdout",
     "output_type": "stream",
     "text": [
      "Enter a number : 7227\n",
      "The reversed number is :  7227\n"
     ]
    },
    {
     "data": {
      "text/plain": [
       "True"
      ]
     },
     "execution_count": 5,
     "metadata": {},
     "output_type": "execute_result"
    }
   ],
   "source": [
    "def symmetrical(n):\n",
    "    s=\"\"\n",
    "    for i in str(n):\n",
    "        s=i+s\n",
    "    print(\"The reversed number is : \",s)\n",
    "    \n",
    "    \n",
    "    s2=str(n)    \n",
    "    for i in range(len(s)):\n",
    "        if s2[i]==s[i]:\n",
    "            return(True)\n",
    "        else:\n",
    "            return(False)\n",
    "\n",
    "n=int(input(\"Enter a number : \"))\n",
    "\n",
    "symmetrical(n)"
   ]
  },
  {
   "cell_type": "markdown",
   "id": "b8057a43",
   "metadata": {},
   "source": [
    "### Sol 2"
   ]
  },
  {
   "cell_type": "code",
   "execution_count": 28,
   "id": "e19b6854",
   "metadata": {},
   "outputs": [
    {
     "data": {
      "text/plain": [
       "30"
      ]
     },
     "execution_count": 28,
     "metadata": {},
     "output_type": "execute_result"
    }
   ],
   "source": [
    "def multiply_nums(st):\n",
    "    prod=1\n",
    "    l=st.split(\",\")\n",
    "    for i in l:\n",
    "        prod=prod*int(i)\n",
    "    return(prod)\n",
    "    \n",
    "    \n",
    "multiply_nums(\"2,3,5\")    "
   ]
  },
  {
   "cell_type": "markdown",
   "id": "0947d276",
   "metadata": {},
   "source": [
    "### Sol 3"
   ]
  },
  {
   "cell_type": "code",
   "execution_count": 14,
   "id": "adde858d",
   "metadata": {},
   "outputs": [
    {
     "name": "stdout",
     "output_type": "stream",
     "text": [
      "Enter a number3212\n"
     ]
    },
    {
     "data": {
      "text/plain": [
       "'9414'"
      ]
     },
     "execution_count": 14,
     "metadata": {},
     "output_type": "execute_result"
    }
   ],
   "source": [
    "def square_digits(n):\n",
    "    \n",
    "    s=\"\"\n",
    "    for i in str(n):\n",
    "        square=int(i)**2\n",
    "        s=s+str(square)\n",
    "    return(s)\n",
    "\n",
    "    \n",
    "n=int(input(\"Enter a number\"))\n",
    "square_digits(n)"
   ]
  },
  {
   "cell_type": "markdown",
   "id": "01db459f",
   "metadata": {},
   "source": [
    "### Sol 4"
   ]
  },
  {
   "cell_type": "code",
   "execution_count": 17,
   "id": "91753f8a",
   "metadata": {},
   "outputs": [
    {
     "name": "stdout",
     "output_type": "stream",
     "text": [
      "Enter the number of elements you want in a list5\n",
      "Enter the number : 1\n",
      "Enter the number : 3\n",
      "Enter the number : 3\n",
      "Enter the number : 5\n",
      "Enter the number : 5\n"
     ]
    },
    {
     "data": {
      "text/plain": [
       "[1, 3, 5]"
      ]
     },
     "execution_count": 17,
     "metadata": {},
     "output_type": "execute_result"
    }
   ],
   "source": [
    "def setify(l):\n",
    "    nl=[]\n",
    "    \n",
    "    for i in l:\n",
    "        if i not in nl:\n",
    "            nl.append(i)\n",
    "    return(nl)\n",
    "\n",
    "\n",
    "n=int(input(\"Enter the number of elements you want in a list\"))\n",
    "li=[]\n",
    "for i in range(0,n):\n",
    "    li.append(int(input(\"Enter the number : \")))\n",
    "\n",
    "\n",
    "setify(li)"
   ]
  },
  {
   "cell_type": "markdown",
   "id": "afd0724c",
   "metadata": {},
   "source": [
    "### Sol 5"
   ]
  },
  {
   "cell_type": "code",
   "execution_count": 27,
   "id": "7c2c841f",
   "metadata": {},
   "outputs": [
    {
     "name": "stdout",
     "output_type": "stream",
     "text": [
      "Enter a number : 512\n"
     ]
    },
    {
     "data": {
      "text/plain": [
       "2"
      ]
     },
     "execution_count": 27,
     "metadata": {},
     "output_type": "execute_result"
    }
   ],
   "source": [
    "def mean(n):\n",
    "    \n",
    "    l=len(str(n))\n",
    "    s=0\n",
    "    \n",
    "    for i in str(n):\n",
    "        s= s+int(i) \n",
    "    m=s/l\n",
    "    \n",
    "    return(int(m))\n",
    "\n",
    "no = int(input(\"Enter a number : \"))\n",
    "\n",
    "mean(no)"
   ]
  },
  {
   "cell_type": "code",
   "execution_count": null,
   "id": "54064abe",
   "metadata": {},
   "outputs": [],
   "source": []
  }
 ],
 "metadata": {
  "kernelspec": {
   "display_name": "Python 3",
   "language": "python",
   "name": "python3"
  },
  "language_info": {
   "codemirror_mode": {
    "name": "ipython",
    "version": 3
   },
   "file_extension": ".py",
   "mimetype": "text/x-python",
   "name": "python",
   "nbconvert_exporter": "python",
   "pygments_lexer": "ipython3",
   "version": "3.8.8"
  }
 },
 "nbformat": 4,
 "nbformat_minor": 5
}
