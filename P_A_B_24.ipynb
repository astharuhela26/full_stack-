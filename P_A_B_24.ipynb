{
 "cells": [
  {
   "cell_type": "markdown",
   "id": "ec36c727",
   "metadata": {},
   "source": [
    "### Sol 1"
   ]
  },
  {
   "cell_type": "code",
   "execution_count": 6,
   "id": "286c7de1",
   "metadata": {},
   "outputs": [
    {
     "name": "stdout",
     "output_type": "stream",
     "text": [
      "Enter the number : 4\n"
     ]
    },
    {
     "data": {
      "text/plain": [
       "[1, 2, 3, 40]"
      ]
     },
     "execution_count": 6,
     "metadata": {},
     "output_type": "execute_result"
    }
   ],
   "source": [
    "def amplify(n):\n",
    "    \n",
    "    l=[i*10 if i%4 == 0 else i for i in range(1,n+1)]\n",
    "    return(l)\n",
    "\n",
    "n=int(input(\"Enter the number : \"))\n",
    "amplify(n)"
   ]
  },
  {
   "cell_type": "markdown",
   "id": "088340b9",
   "metadata": {},
   "source": [
    "### Sol 2"
   ]
  },
  {
   "cell_type": "code",
   "execution_count": 15,
   "id": "9b994026",
   "metadata": {},
   "outputs": [
    {
     "data": {
      "text/plain": [
       "0.79"
      ]
     },
     "execution_count": 15,
     "metadata": {},
     "output_type": "execute_result"
    }
   ],
   "source": [
    "def unique(l):\n",
    "    \n",
    "    \n",
    "    for i in l:\n",
    "        if (l.count(i)==1):\n",
    "            return(i)\n",
    "        \n",
    "unique([1,1,1,1,0.79,1,1])\n",
    "\n",
    "    "
   ]
  },
  {
   "cell_type": "markdown",
   "id": "807b62e0",
   "metadata": {},
   "source": [
    "### Sol 3"
   ]
  },
  {
   "cell_type": "code",
   "execution_count": 34,
   "id": "77194489",
   "metadata": {},
   "outputs": [
    {
     "data": {
      "text/plain": [
       "191"
      ]
     },
     "execution_count": 34,
     "metadata": {},
     "output_type": "execute_result"
    }
   ],
   "source": [
    "import math\n",
    "\n",
    "class Circle():\n",
    "        \n",
    "    def __init__(self, radius):\n",
    "        self.radius= radius\n",
    "    \n",
    "    def getArea(self):\n",
    "        return math.ceil(((math.pi)*(self.radius**2))/2)\n",
    "    \n",
    "    def getPerimeter(self):\n",
    "        return math.ceil(2*math.pi*self.radius)\n",
    "    \n",
    "    \n",
    "circy = Circle(11)\n",
    "circy.getArea()"
   ]
  },
  {
   "cell_type": "code",
   "execution_count": 35,
   "id": "973a7f75",
   "metadata": {},
   "outputs": [
    {
     "data": {
      "text/plain": [
       "28"
      ]
     },
     "execution_count": 35,
     "metadata": {},
     "output_type": "execute_result"
    }
   ],
   "source": [
    "circy = Circle(4.44)\n",
    "circy.getPerimeter()"
   ]
  },
  {
   "cell_type": "markdown",
   "id": "201e1bac",
   "metadata": {},
   "source": [
    "### Sol 4"
   ]
  },
  {
   "cell_type": "code",
   "execution_count": 23,
   "id": "6c18d8b8",
   "metadata": {},
   "outputs": [
    {
     "data": {
      "text/plain": [
       "['Jung', 'Turing', 'Einstein']"
      ]
     },
     "execution_count": 23,
     "metadata": {},
     "output_type": "execute_result"
    }
   ],
   "source": [
    "def sort_by_length(l):\n",
    "    \n",
    "    li=sorted(l,key=len)\n",
    "    return(li)\n",
    "\n",
    "sort_by_length([\"Turing\", \"Einstein\", \"Jung\"])  \n",
    "    "
   ]
  },
  {
   "cell_type": "markdown",
   "id": "fb85297e",
   "metadata": {},
   "source": [
    "### Sol 5"
   ]
  },
  {
   "cell_type": "code",
   "execution_count": 30,
   "id": "9a874021",
   "metadata": {},
   "outputs": [
    {
     "name": "stdout",
     "output_type": "stream",
     "text": [
      "Enter the smallest number : 3\n",
      "Enter the second largest number : 4\n",
      "Enter the maximum number : 5\n"
     ]
    },
    {
     "data": {
      "text/plain": [
       "True"
      ]
     },
     "execution_count": 30,
     "metadata": {},
     "output_type": "execute_result"
    }
   ],
   "source": [
    "def is_triplet(a,b,c):\n",
    "    \n",
    "    sq= (a**2 + b**2)\n",
    "    \n",
    "    if (sq==(c**2)):\n",
    "        return(True)\n",
    "    else:\n",
    "        return(False)\n",
    "    \n",
    "x=int(input(\"Enter the smallest number : \"))\n",
    "y=int(input(\"Enter the second largest number : \"))\n",
    "z=int(input(\"Enter the maximum number : \"))\n",
    "\n",
    "\n",
    "is_triplet(x,y,z)\n",
    "    "
   ]
  },
  {
   "cell_type": "code",
   "execution_count": null,
   "id": "9b1c73a0",
   "metadata": {},
   "outputs": [],
   "source": []
  }
 ],
 "metadata": {
  "kernelspec": {
   "display_name": "Python 3",
   "language": "python",
   "name": "python3"
  },
  "language_info": {
   "codemirror_mode": {
    "name": "ipython",
    "version": 3
   },
   "file_extension": ".py",
   "mimetype": "text/x-python",
   "name": "python",
   "nbconvert_exporter": "python",
   "pygments_lexer": "ipython3",
   "version": "3.8.8"
  }
 },
 "nbformat": 4,
 "nbformat_minor": 5
}
