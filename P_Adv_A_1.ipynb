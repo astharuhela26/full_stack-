{
 "cells": [
  {
   "cell_type": "markdown",
   "id": "4db4655a",
   "metadata": {},
   "source": [
    "### Sol 1"
   ]
  },
  {
   "cell_type": "code",
   "execution_count": 41,
   "id": "807645a6",
   "metadata": {},
   "outputs": [
    {
     "data": {
      "text/plain": [
       "0"
      ]
     },
     "execution_count": 41,
     "metadata": {},
     "output_type": "execute_result"
    }
   ],
   "source": [
    "\n",
    "def check_score(l):\n",
    "    \n",
    "    s=0\n",
    "    \n",
    "    d={\"#\":5,\"O\":3,\"X\":1,\"!\":-1,\"!!\":-3,\"!!!\":-5}\n",
    "    \n",
    "    \n",
    "    for i in range(len(l)):\n",
    "        for j in range(len(l)):\n",
    "            if l[i][j] in d.keys():\n",
    "                s=s+d[l[i][j]]\n",
    "    \n",
    "    if s<0:\n",
    "        return(0)\n",
    "    else:\n",
    "        return(s)\n",
    "            \n",
    "    \n",
    "check_score([[\"!!!\",\"O\",\"!\"],[\"X\",\"#\",\"!!!\"],[\"!!\",\"X\",\"O\"]])\n",
    "    \n",
    "    "
   ]
  },
  {
   "cell_type": "code",
   "execution_count": 43,
   "id": "4f3d2bc3",
   "metadata": {},
   "outputs": [
    {
     "data": {
      "text/plain": [
       "2"
      ]
     },
     "execution_count": 43,
     "metadata": {},
     "output_type": "execute_result"
    }
   ],
   "source": [
    "check_score([[\"#\",\"!\"],[\"!!\",\"X\"]])"
   ]
  },
  {
   "cell_type": "markdown",
   "id": "f28dd735",
   "metadata": {},
   "source": [
    "### Sol 2"
   ]
  },
  {
   "cell_type": "code",
   "execution_count": 44,
   "id": "5afb660f",
   "metadata": {},
   "outputs": [
    {
     "data": {
      "text/plain": [
       "120"
      ]
     },
     "execution_count": 44,
     "metadata": {},
     "output_type": "execute_result"
    }
   ],
   "source": [
    "def combinations(*args):\n",
    "    p=1\n",
    "    l=list(args)\n",
    "    for i in l:\n",
    "        p=p*i\n",
    "    return(p)\n",
    "    \n",
    "combinations(2,3,4,5)  "
   ]
  },
  {
   "cell_type": "markdown",
   "id": "22cec93f",
   "metadata": {},
   "source": [
    "### Sol 3"
   ]
  },
  {
   "cell_type": "code",
   "execution_count": 45,
   "id": "d393c9e4",
   "metadata": {},
   "outputs": [],
   "source": [
    "char_to_dots = {\n",
    "  'A': '.-', 'B': '-...', 'C': '-.-.', 'D': '-..', 'E': '.', 'F': '..-.',\n",
    "  'G': '--.', 'H': '....', 'I': '..', 'J': '.---', 'K': '-.-', 'L': '.-..',\n",
    "  'M': '--', 'N': '-.', 'O': '---', 'P': '.--.', 'Q': '--.-', 'R': '.-.',\n",
    "  'S': '...', 'T': '-', 'U': '..-', 'V': '...-', 'W': '.--', 'X': '-..-',\n",
    "  'Y': '-.--', 'Z': '--..', ' ': ' ', '0': '-----',\n",
    "  '1': '.----', '2': '..---', '3': '...--', '4': '....-', '5': '.....',\n",
    "  '6': '-....', '7': '--...', '8': '---..', '9': '----.',\n",
    "  '&': '.-...', \"'\": '.----.', '@': '.--.-.', ')': '-.--.-', '(': '-.--.',\n",
    "  ':': '---...', ',': '--..--', '=': '-...-', '!': '-.-.--', '.': '.-.-.-',\n",
    "  '-': '-....-', '+': '.-.-.', '\"': '.-..-.', '?': '..--..', '/': '-..-.'\n",
    "}"
   ]
  },
  {
   "cell_type": "code",
   "execution_count": 47,
   "id": "2d9d571a",
   "metadata": {},
   "outputs": [
    {
     "data": {
      "text/plain": [
       "'......-...--. --.-.-.--'"
      ]
     },
     "execution_count": 47,
     "metadata": {},
     "output_type": "execute_result"
    }
   ],
   "source": [
    "def encode_morse(s):\n",
    "    st=''\n",
    "    for i in s:\n",
    "        if i in char_to_dots.keys():\n",
    "            st=st+char_to_dots[i]\n",
    "    return(st)\n",
    "\n",
    "encode_morse(\"HELP ME!\")"
   ]
  },
  {
   "cell_type": "markdown",
   "id": "e0e5c87d",
   "metadata": {},
   "source": [
    "### Sol 4"
   ]
  },
  {
   "cell_type": "code",
   "execution_count": 57,
   "id": "0a04a851",
   "metadata": {},
   "outputs": [
    {
     "data": {
      "text/plain": [
       "True"
      ]
     },
     "execution_count": 57,
     "metadata": {},
     "output_type": "execute_result"
    }
   ],
   "source": [
    "def prime(n):\n",
    "    c=0\n",
    "    \n",
    "    for i in range(2,n+1):\n",
    "        if n%i==0:\n",
    "            c=c+1\n",
    "    if c==1:\n",
    "        return(True)\n",
    "    else:\n",
    "        return(False)\n",
    "    \n",
    "prime(56963)           "
   ]
  },
  {
   "cell_type": "markdown",
   "id": "f61189c5",
   "metadata": {},
   "source": [
    "### Sol 5"
   ]
  },
  {
   "cell_type": "code",
   "execution_count": 78,
   "id": "1fbf614c",
   "metadata": {},
   "outputs": [
    {
     "name": "stdout",
     "output_type": "stream",
     "text": [
      "[False, True, True, False]\n"
     ]
    },
    {
     "data": {
      "text/plain": [
       "'0110'"
      ]
     },
     "execution_count": 78,
     "metadata": {},
     "output_type": "execute_result"
    }
   ],
   "source": [
    "def to_boolean_list(s):\n",
    "    \n",
    "    import string\n",
    "    b=\"\"\n",
    "    l=[]\n",
    "    for i in s:\n",
    "        ind=string.ascii_lowercase.index(i)\n",
    "        \n",
    "        if ind%2!=0:\n",
    "            b=b+'0'\n",
    "            l.append(False)\n",
    "        else:\n",
    "            b=b+'1'\n",
    "            l.append(True)    \n",
    "    print(l)\n",
    "    return(b)\n",
    "    \n",
    "\n",
    "to_boolean_list(\"deep\")   "
   ]
  },
  {
   "cell_type": "code",
   "execution_count": null,
   "id": "8fcb6fcf",
   "metadata": {},
   "outputs": [],
   "source": []
  },
  {
   "cell_type": "code",
   "execution_count": null,
   "id": "b36d4807",
   "metadata": {},
   "outputs": [],
   "source": []
  }
 ],
 "metadata": {
  "kernelspec": {
   "display_name": "Python 3",
   "language": "python",
   "name": "python3"
  },
  "language_info": {
   "codemirror_mode": {
    "name": "ipython",
    "version": 3
   },
   "file_extension": ".py",
   "mimetype": "text/x-python",
   "name": "python",
   "nbconvert_exporter": "python",
   "pygments_lexer": "ipython3",
   "version": "3.8.8"
  }
 },
 "nbformat": 4,
 "nbformat_minor": 5
}
