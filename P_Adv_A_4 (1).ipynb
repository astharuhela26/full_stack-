{
 "cells": [
  {
   "cell_type": "markdown",
   "id": "2fe6890e",
   "metadata": {},
   "source": [
    "### Sol 1"
   ]
  },
  {
   "cell_type": "code",
   "execution_count": 83,
   "id": "9159ebe5",
   "metadata": {},
   "outputs": [
    {
     "data": {
      "text/plain": [
       "6765"
      ]
     },
     "execution_count": 83,
     "metadata": {},
     "output_type": "execute_result"
    }
   ],
   "source": [
    "def fib_fast(n):\n",
    "    if n <= 1:\n",
    "        return n\n",
    "    else:\n",
    "        return(fib_fast(n-1) + fib_fast(n-2))\n",
    "   \n",
    "\n",
    "fib_fast(20)"
   ]
  },
  {
   "cell_type": "markdown",
   "id": "0ad7d234",
   "metadata": {},
   "source": [
    "### Sol 2"
   ]
  },
  {
   "cell_type": "code",
   "execution_count": 38,
   "id": "29b6625f",
   "metadata": {},
   "outputs": [
    {
     "data": {
      "text/plain": [
       "' 68 65 6c 6c 6f 20 77 6f 72 6c 64'"
      ]
     },
     "execution_count": 38,
     "metadata": {},
     "output_type": "execute_result"
    }
   ],
   "source": [
    "def covert_to_hex(s):\n",
    "    ns=\"\"\n",
    "    for i in s:\n",
    "        r=hex(ord(i))\n",
    "        ns=ns+\" \" +r[2:]\n",
    "    return(ns)\n",
    "covert_to_hex(\"hello world\")  "
   ]
  },
  {
   "cell_type": "markdown",
   "id": "32072cd7",
   "metadata": {},
   "source": [
    "### Sol 3"
   ]
  },
  {
   "cell_type": "code",
   "execution_count": 48,
   "id": "e0b19c2a",
   "metadata": {},
   "outputs": [
    {
     "data": {
      "text/plain": [
       "'Where did my vowels go?'"
      ]
     },
     "execution_count": 48,
     "metadata": {},
     "output_type": "execute_result"
    }
   ],
   "source": [
    "def uncensor(s1,s2):\n",
    "    c=0\n",
    "    new=\"\"\n",
    "    for i in range(len(s1)):\n",
    "        if s1[i]==\"*\":\n",
    "            new=new+s2[c]\n",
    "            c+=1\n",
    "        else:\n",
    "            new=new+s1[i]\n",
    "        \n",
    "    return(new)\n",
    "uncensor(\"Wh*r* d*d my v*w*ls g*?\", \"eeioeo\")\n",
    "            "
   ]
  },
  {
   "cell_type": "code",
   "execution_count": 49,
   "id": "c60a52ee",
   "metadata": {},
   "outputs": [
    {
     "data": {
      "text/plain": [
       "'UPPERCASE'"
      ]
     },
     "execution_count": 49,
     "metadata": {},
     "output_type": "execute_result"
    }
   ],
   "source": [
    "uncensor(\"*PP*RC*S*\", \"UEAE\")"
   ]
  },
  {
   "cell_type": "markdown",
   "id": "2e74c7ea",
   "metadata": {},
   "source": [
    "### Sol 5\n"
   ]
  },
  {
   "cell_type": "code",
   "execution_count": 76,
   "id": "c26ad330",
   "metadata": {},
   "outputs": [
    {
     "name": "stdout",
     "output_type": "stream",
     "text": [
      "Input a number to compute the factorial : 5\n",
      "\n",
      " 34560\n"
     ]
    }
   ],
   "source": [
    "def factorial(n):\n",
    "    if n == 0:\n",
    "        return 1\n",
    "    else:\n",
    "        return n * factorial(n-1)\n",
    "    \n",
    "n=int(input(\"Input a number to compute the factorial : \"))\n",
    "p=1\n",
    "for i in range(n,1,-1):\n",
    "    p=p*factorial(i)\n",
    "print(\"\\n\",p)"
   ]
  },
  {
   "cell_type": "code",
   "execution_count": null,
   "id": "55b408ec",
   "metadata": {},
   "outputs": [],
   "source": []
  }
 ],
 "metadata": {
  "kernelspec": {
   "display_name": "Python 3",
   "language": "python",
   "name": "python3"
  },
  "language_info": {
   "codemirror_mode": {
    "name": "ipython",
    "version": 3
   },
   "file_extension": ".py",
   "mimetype": "text/x-python",
   "name": "python",
   "nbconvert_exporter": "python",
   "pygments_lexer": "ipython3",
   "version": "3.8.8"
  }
 },
 "nbformat": 4,
 "nbformat_minor": 5
}
