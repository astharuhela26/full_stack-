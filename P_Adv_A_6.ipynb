{
 "cells": [
  {
   "cell_type": "markdown",
   "id": "7c9f39e1",
   "metadata": {},
   "source": [
    "### Sol 1"
   ]
  },
  {
   "cell_type": "code",
   "execution_count": 1,
   "id": "74e416eb",
   "metadata": {},
   "outputs": [
    {
     "data": {
      "text/plain": [
       "'e'"
      ]
     },
     "execution_count": 1,
     "metadata": {},
     "output_type": "execute_result"
    }
   ],
   "source": [
    "def find_the_difference(s,t):\n",
    "    for i in t:\n",
    "        if i not in s:\n",
    "            return(i)\n",
    "        \n",
    "find_the_difference(\"abcd\",\"abcde\")"
   ]
  },
  {
   "cell_type": "code",
   "execution_count": 4,
   "id": "a03c93a3",
   "metadata": {},
   "outputs": [
    {
     "data": {
      "text/plain": [
       "'y'"
      ]
     },
     "execution_count": 4,
     "metadata": {},
     "output_type": "execute_result"
    }
   ],
   "source": [
    "find_the_difference(\"\",\"y\")"
   ]
  },
  {
   "cell_type": "markdown",
   "id": "93a40574",
   "metadata": {},
   "source": [
    "### Sol 2"
   ]
  },
  {
   "cell_type": "code",
   "execution_count": 28,
   "id": "7a3049a3",
   "metadata": {},
   "outputs": [
    {
     "name": "stdout",
     "output_type": "stream",
     "text": [
      "[2, 1, 1, 0, 0, 0]\n"
     ]
    }
   ],
   "source": [
    "def count_datatypes(*args):\n",
    "    di={}\n",
    "    d={int:0,str:0,bool:0,list:0,tuple:0,dict:0}\n",
    "    for i in args:\n",
    "        if type(i) in d.keys():\n",
    "            d[type(i)]= d[type(i)]+1\n",
    "    print(list(d.values()))\n",
    "    \n",
    "count_datatypes(1,45,\"Hi\",False)         "
   ]
  },
  {
   "cell_type": "code",
   "execution_count": 29,
   "id": "0f0e29d6",
   "metadata": {},
   "outputs": [
    {
     "name": "stdout",
     "output_type": "stream",
     "text": [
      "[3, 0, 0, 1, 1, 0]\n"
     ]
    }
   ],
   "source": [
    "count_datatypes([10, 20],(\"t\",\"OK\"), 2, 3, 1)"
   ]
  },
  {
   "cell_type": "markdown",
   "id": "e659bc30",
   "metadata": {},
   "source": [
    "### Sol 3"
   ]
  },
  {
   "cell_type": "code",
   "execution_count": 70,
   "id": "74153e5a",
   "metadata": {},
   "outputs": [
    {
     "data": {
      "text/plain": [
       "'e, a, ae, aea, aeaae'"
      ]
     },
     "execution_count": 70,
     "metadata": {},
     "output_type": "execute_result"
    }
   ],
   "source": [
    "def fib_str(n,l):\n",
    "    s0=l[0]\n",
    "    s1=l[1]\n",
    "    \n",
    "    for i in range(n-2):\n",
    "        ni=s1+s0\n",
    "        l.append(ni)\n",
    "        s0=s1\n",
    "        s1=ni \n",
    "        \n",
    "    return(\", \".join(l))\n",
    "\n",
    "fib_str(5,[\"e\",\"a\"])"
   ]
  },
  {
   "cell_type": "code",
   "execution_count": 71,
   "id": "ae5fd4eb",
   "metadata": {},
   "outputs": [
    {
     "data": {
      "text/plain": [
       "'n, k, kn, knk, knkkn, knkknknk'"
      ]
     },
     "execution_count": 71,
     "metadata": {},
     "output_type": "execute_result"
    }
   ],
   "source": [
    "fib_str(6,[\"n\",\"k\"])"
   ]
  },
  {
   "cell_type": "markdown",
   "id": "65f71cc3",
   "metadata": {},
   "source": [
    "### Sol 4"
   ]
  },
  {
   "cell_type": "code",
   "execution_count": 77,
   "id": "c48927c9",
   "metadata": {},
   "outputs": [
    {
     "name": "stdout",
     "output_type": "stream",
     "text": [
      "nines : 1, threes: 2, ones : 0\n"
     ]
    }
   ],
   "source": [
    "def ones_three_nines(n):\n",
    "    \n",
    "    if n>18:\n",
    "        ni=2\n",
    "        r1=n%9\n",
    "        if r1>3:\n",
    "            th=r1//3\n",
    "            on=r1%3\n",
    "        else:\n",
    "            th=0\n",
    "            on=r1\n",
    "    elif n>=9 and n<18:\n",
    "        ni=1\n",
    "        r2=n%9\n",
    "        if r2>3:\n",
    "            th=r2//3\n",
    "            on=r2%3\n",
    "        else:\n",
    "            th=0\n",
    "            on=r2\n",
    "    else:\n",
    "        ni=0\n",
    "        th=n//3\n",
    "        on=n%3\n",
    "                \n",
    "    print(\"nines : {0}, threes: {1}, ones : {2}\".format(ni,th,on))\n",
    "            \n",
    "                     \n",
    "ones_three_nines(15)                   "
   ]
  },
  {
   "cell_type": "code",
   "execution_count": 79,
   "id": "01a70879",
   "metadata": {},
   "outputs": [
    {
     "name": "stdout",
     "output_type": "stream",
     "text": [
      "nines : 2, threes: 2, ones : 2\n"
     ]
    }
   ],
   "source": [
    "ones_three_nines(26) "
   ]
  },
  {
   "cell_type": "markdown",
   "id": "827d1180",
   "metadata": {},
   "source": [
    "### Sol 5"
   ]
  },
  {
   "cell_type": "code",
   "execution_count": 67,
   "id": "1f871abd",
   "metadata": {},
   "outputs": [
    {
     "data": {
      "text/plain": [
       "8"
      ]
     },
     "execution_count": 67,
     "metadata": {},
     "output_type": "execute_result"
    }
   ],
   "source": [
    "def fib(n):\n",
    "    \n",
    "    n1=0\n",
    "    n2=1\n",
    "    l=[0,1]\n",
    "    \n",
    "    for i in range(n-1):\n",
    "        nth=n1+n2\n",
    "        l.append(nth)\n",
    "        n1=n2\n",
    "        n2=nth\n",
    "        \n",
    "    return(l[n])\n",
    "\n",
    "fib(6)"
   ]
  },
  {
   "cell_type": "code",
   "execution_count": 68,
   "id": "01bda0d1",
   "metadata": {},
   "outputs": [
    {
     "data": {
      "text/plain": [
       "1"
      ]
     },
     "execution_count": 68,
     "metadata": {},
     "output_type": "execute_result"
    }
   ],
   "source": [
    "fib(2)"
   ]
  },
  {
   "cell_type": "code",
   "execution_count": null,
   "id": "e1246aa6",
   "metadata": {},
   "outputs": [],
   "source": []
  }
 ],
 "metadata": {
  "kernelspec": {
   "display_name": "Python 3",
   "language": "python",
   "name": "python3"
  },
  "language_info": {
   "codemirror_mode": {
    "name": "ipython",
    "version": 3
   },
   "file_extension": ".py",
   "mimetype": "text/x-python",
   "name": "python",
   "nbconvert_exporter": "python",
   "pygments_lexer": "ipython3",
   "version": "3.8.8"
  }
 },
 "nbformat": 4,
 "nbformat_minor": 5
}
