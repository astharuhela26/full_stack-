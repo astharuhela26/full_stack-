{
 "cells": [
  {
   "cell_type": "markdown",
   "id": "ed6389bd",
   "metadata": {},
   "source": [
    "### Sol 1"
   ]
  },
  {
   "cell_type": "code",
   "execution_count": 4,
   "id": "2b267ded",
   "metadata": {},
   "outputs": [
    {
     "data": {
      "text/plain": [
       "[2, 6, 4]"
      ]
     },
     "execution_count": 4,
     "metadata": {},
     "output_type": "execute_result"
    }
   ],
   "source": [
    "def filter_list(l):\n",
    "    \n",
    "    nl=[]\n",
    "    for i in l:\n",
    "        if type(i)==int:\n",
    "            nl.append(i)\n",
    "            \n",
    "    return(nl)\n",
    "\n",
    "filter_list([2,6,\"sd\",\"yn\",4])\n",
    "    "
   ]
  },
  {
   "cell_type": "markdown",
   "id": "5c0614dc",
   "metadata": {},
   "source": [
    "### Sol 2\n"
   ]
  },
  {
   "cell_type": "code",
   "execution_count": 16,
   "id": "78ca338a",
   "metadata": {},
   "outputs": [
    {
     "data": {
      "text/plain": [
       "[0, 1, 2, 3, 4, 5]"
      ]
     },
     "execution_count": 16,
     "metadata": {},
     "output_type": "execute_result"
    }
   ],
   "source": [
    "def add_indexes(l):\n",
    "    nl=[]\n",
    "    \n",
    "    for i in range(len(l)):\n",
    "        nl.append(l[i]+ i)\n",
    "        \n",
    "    return(nl)\n",
    "\n",
    "add_indexes([0,0,0,0,0,0])"
   ]
  },
  {
   "cell_type": "markdown",
   "id": "0ea83d06",
   "metadata": {},
   "source": [
    "### Sol 3"
   ]
  },
  {
   "cell_type": "code",
   "execution_count": 20,
   "id": "eb04d18b",
   "metadata": {},
   "outputs": [
    {
     "name": "stdout",
     "output_type": "stream",
     "text": [
      "Enter height : 15\n",
      "Enter radius : 6\n"
     ]
    },
    {
     "data": {
      "text/plain": [
       "565.49"
      ]
     },
     "execution_count": 20,
     "metadata": {},
     "output_type": "execute_result"
    }
   ],
   "source": [
    "def cone_volume(h,r):\n",
    "    import math\n",
    "    volume= (math.pi)*(r**2)*h/3\n",
    "    return(round(volume,2))\n",
    "\n",
    "h=int(input(\"Enter height : \"))\n",
    "r=int(input(\"Enter radius : \"))\n",
    "\n",
    "cone_volume(h,r)"
   ]
  },
  {
   "cell_type": "markdown",
   "id": "f8f85aa8",
   "metadata": {},
   "source": [
    "### Sol 4"
   ]
  },
  {
   "cell_type": "code",
   "execution_count": 30,
   "id": "62ade63b",
   "metadata": {},
   "outputs": [
    {
     "name": "stdout",
     "output_type": "stream",
     "text": [
      "The total number of dots are : 21\n"
     ]
    },
    {
     "data": {
      "text/plain": [
       "[1, 3, 6, 10, 15, 21]"
      ]
     },
     "execution_count": 30,
     "metadata": {},
     "output_type": "execute_result"
    }
   ],
   "source": [
    "def triangle(n):\n",
    "    s=0\n",
    "    l=[]\n",
    "    for i in range(1,n+1):\n",
    "        l.append(s+i)\n",
    "        s=s+i\n",
    "    print(\"The total number of dots are :\",s)\n",
    "    return(l)\n",
    "    \n",
    "\n",
    "triangle(6)"
   ]
  },
  {
   "cell_type": "markdown",
   "id": "e9709a47",
   "metadata": {},
   "source": [
    "### Sol 5"
   ]
  },
  {
   "cell_type": "code",
   "execution_count": 32,
   "id": "9eabf665",
   "metadata": {},
   "outputs": [
    {
     "name": "stdout",
     "output_type": "stream",
     "text": [
      "The missing number is 10\n"
     ]
    }
   ],
   "source": [
    "def missing_num(l):\n",
    "    for i in range(1,11):\n",
    "        if i not in l:\n",
    "            print(\"The missing number is\",i)\n",
    "                \n",
    "missing_num([2,5,6,8,1,3,4,7,9])"
   ]
  },
  {
   "cell_type": "code",
   "execution_count": null,
   "id": "d84ec574",
   "metadata": {},
   "outputs": [],
   "source": []
  },
  {
   "cell_type": "code",
   "execution_count": null,
   "id": "01d8565a",
   "metadata": {},
   "outputs": [],
   "source": []
  }
 ],
 "metadata": {
  "kernelspec": {
   "display_name": "Python 3",
   "language": "python",
   "name": "python3"
  },
  "language_info": {
   "codemirror_mode": {
    "name": "ipython",
    "version": 3
   },
   "file_extension": ".py",
   "mimetype": "text/x-python",
   "name": "python",
   "nbconvert_exporter": "python",
   "pygments_lexer": "ipython3",
   "version": "3.8.8"
  }
 },
 "nbformat": 4,
 "nbformat_minor": 5
}
