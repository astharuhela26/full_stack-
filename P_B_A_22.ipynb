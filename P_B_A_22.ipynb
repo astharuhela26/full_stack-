{
 "cells": [
  {
   "cell_type": "markdown",
   "id": "b0ff16e2",
   "metadata": {},
   "source": [
    "### Sol 1"
   ]
  },
  {
   "cell_type": "code",
   "execution_count": 2,
   "id": "6a51718f",
   "metadata": {},
   "outputs": [
    {
     "name": "stdout",
     "output_type": "stream",
     "text": [
      "Enter the lower limit of the range : 1\n",
      "Enter the upper limit of the range : 10\n",
      "Enter the divisor : 3\n"
     ]
    },
    {
     "data": {
      "text/plain": [
       "[3, 6, 9]"
      ]
     },
     "execution_count": 2,
     "metadata": {},
     "output_type": "execute_result"
    }
   ],
   "source": [
    "def list_operation(x,y,n):\n",
    "    l=[]\n",
    "    for i in range(x,y+1):\n",
    "        if i%n==0:\n",
    "            l.append(i)\n",
    "        else:\n",
    "            []\n",
    "            \n",
    "    return(l)\n",
    "\n",
    "x=int(input(\"Enter the lower limit of the range : \"))\n",
    "y=int(input(\"Enter the upper limit of the range : \"))\n",
    "n=int(input(\"Enter the divisor : \"))\n",
    "\n",
    "\n",
    "list_operation(x,y,n)"
   ]
  },
  {
   "cell_type": "markdown",
   "id": "57917689",
   "metadata": {},
   "source": [
    "### Sol 2"
   ]
  },
  {
   "cell_type": "code",
   "execution_count": 33,
   "id": "1034bd5f",
   "metadata": {},
   "outputs": [
    {
     "data": {
      "text/plain": [
       "True"
      ]
     },
     "execution_count": 33,
     "metadata": {},
     "output_type": "execute_result"
    }
   ],
   "source": [
    "def simon_says(l1,l2):\n",
    "    \n",
    "    \n",
    "    for i in l2:\n",
    "        if i in l1:\n",
    "            return(True)\n",
    "        \n",
    "    return(False)\n",
    "        \n",
    "simon_says([1, 2, 3, 4, 5], [0, 2, 2, 3, 5])\n",
    "            "
   ]
  },
  {
   "cell_type": "markdown",
   "id": "f007e15a",
   "metadata": {},
   "source": [
    "### Sol 3"
   ]
  },
  {
   "cell_type": "code",
   "execution_count": 8,
   "id": "12af6d88",
   "metadata": {},
   "outputs": [
    {
     "data": {
      "text/plain": [
       "'AMS'"
      ]
     },
     "execution_count": 8,
     "metadata": {},
     "output_type": "execute_result"
    }
   ],
   "source": [
    "def society_name(l):\n",
    "    \n",
    "    s=\"\"\n",
    "    l.sort()\n",
    "    \n",
    "    for i in range(0,len(l)):\n",
    "        s=s+l[i][0]\n",
    "        \n",
    "    return(s)\n",
    "\n",
    "\n",
    "society_name([\"Adam\",\"Sarah\",\"Malcolm\"])  "
   ]
  },
  {
   "cell_type": "markdown",
   "id": "b2004e53",
   "metadata": {},
   "source": [
    "### Sol 4"
   ]
  },
  {
   "cell_type": "code",
   "execution_count": 13,
   "id": "c34cf07e",
   "metadata": {},
   "outputs": [
    {
     "name": "stdout",
     "output_type": "stream",
     "text": [
      "Enter a string : PasSword\n"
     ]
    },
    {
     "data": {
      "text/plain": [
       "False"
      ]
     },
     "execution_count": 13,
     "metadata": {},
     "output_type": "execute_result"
    }
   ],
   "source": [
    "def check_isogram(str1):\n",
    "    \n",
    "    return len(str1) == len(set(str1.lower()))\n",
    "\n",
    "st=input(\"Enter a string : \")\n",
    "check_isogram(st)\n"
   ]
  },
  {
   "cell_type": "markdown",
   "id": "a671b23f",
   "metadata": {},
   "source": [
    "### Sol 5"
   ]
  },
  {
   "cell_type": "code",
   "execution_count": 26,
   "id": "14397b16",
   "metadata": {},
   "outputs": [
    {
     "name": "stdout",
     "output_type": "stream",
     "text": [
      "Enter a string : edabit\n"
     ]
    },
    {
     "data": {
      "text/plain": [
       "False"
      ]
     },
     "execution_count": 26,
     "metadata": {},
     "output_type": "execute_result"
    }
   ],
   "source": [
    "def is_in_order(st):\n",
    "    c=0\n",
    "    l=\"\".join(sorted(st))\n",
    "    \n",
    "    for i in range(0,len(st)):\n",
    "        if l[i]==st[i]:\n",
    "            c=c+1\n",
    "    \n",
    "    if c==len(st):\n",
    "        return(True)\n",
    "    else:\n",
    "        return(False)\n",
    "    \n",
    "s=input(\"Enter a string : \")\n",
    "        \n",
    "is_in_order(s)\n",
    "        "
   ]
  },
  {
   "cell_type": "code",
   "execution_count": null,
   "id": "8a428e1a",
   "metadata": {},
   "outputs": [],
   "source": []
  }
 ],
 "metadata": {
  "kernelspec": {
   "display_name": "Python 3",
   "language": "python",
   "name": "python3"
  },
  "language_info": {
   "codemirror_mode": {
    "name": "ipython",
    "version": 3
   },
   "file_extension": ".py",
   "mimetype": "text/x-python",
   "name": "python",
   "nbconvert_exporter": "python",
   "pygments_lexer": "ipython3",
   "version": "3.8.8"
  }
 },
 "nbformat": 4,
 "nbformat_minor": 5
}
