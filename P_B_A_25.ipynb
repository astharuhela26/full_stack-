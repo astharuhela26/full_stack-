{
 "cells": [
  {
   "cell_type": "markdown",
   "id": "22653378",
   "metadata": {},
   "source": [
    "### Sol 1"
   ]
  },
  {
   "cell_type": "code",
   "execution_count": 7,
   "id": "24d62e2f",
   "metadata": {},
   "outputs": [
    {
     "name": "stdout",
     "output_type": "stream",
     "text": [
      "Enter the number : 3\n",
      "Enter the number : 3\n",
      "Enter the number : 6\n"
     ]
    },
    {
     "data": {
      "text/plain": [
       "2"
      ]
     },
     "execution_count": 7,
     "metadata": {},
     "output_type": "execute_result"
    }
   ],
   "source": [
    "def equal(a,b,c):\n",
    "    \n",
    "    l=len(set([a,b,c]))\n",
    "    \n",
    "    if l==3:\n",
    "        return(3)\n",
    "    elif l==2:\n",
    "        return(2)\n",
    "    else:\n",
    "        return(0)\n",
    "    \n",
    "x=int(input(\"Enter the number : \"))\n",
    "y=int(input(\"Enter the number : \"))\n",
    "z=int(input(\"Enter the number : \"))\n",
    "\n",
    "equal(x,y,z)"
   ]
  },
  {
   "cell_type": "markdown",
   "id": "845b7cf8",
   "metadata": {},
   "source": [
    "### Sol 2"
   ]
  },
  {
   "cell_type": "code",
   "execution_count": 39,
   "id": "0aa86c82",
   "metadata": {},
   "outputs": [
    {
     "data": {
      "text/plain": [
       "[('a', 5), ('c', 8), ('y', 6)]"
      ]
     },
     "execution_count": 39,
     "metadata": {},
     "output_type": "execute_result"
    }
   ],
   "source": [
    "def dict_to_list(d):\n",
    "    \n",
    "    t=list(d.items())\n",
    "    return(sorted(t))\n",
    "\n",
    "dict_to_list({\"a\":5,\"y\":6,\"c\":8})"
   ]
  },
  {
   "cell_type": "markdown",
   "id": "66e492db",
   "metadata": {},
   "source": [
    "### Sol 3"
   ]
  },
  {
   "cell_type": "code",
   "execution_count": 36,
   "id": "cb586c47",
   "metadata": {},
   "outputs": [
    {
     "data": {
      "text/plain": [
       "{'p': 'P', 'q': 'Q'}"
      ]
     },
     "execution_count": 36,
     "metadata": {},
     "output_type": "execute_result"
    }
   ],
   "source": [
    "def mapping(l):\n",
    "    s = {i:i.upper() for i in l}\n",
    "    return s\n",
    "\n",
    "mapping([\"p\",\"q\"])"
   ]
  },
  {
   "cell_type": "markdown",
   "id": "02796d71",
   "metadata": {},
   "source": [
    "### Sol 4"
   ]
  },
  {
   "cell_type": "code",
   "execution_count": 27,
   "id": "0e85923f",
   "metadata": {},
   "outputs": [
    {
     "data": {
      "text/plain": [
       "'upples und bununus'"
      ]
     },
     "execution_count": 27,
     "metadata": {},
     "output_type": "execute_result"
    }
   ],
   "source": [
    "def vow_replace(s,char):\n",
    "    \n",
    "    v=\"aeiou\"\n",
    "    \n",
    "    for i in range(0,len(s)):\n",
    "        if s[i] in v:\n",
    "            st=s.replace(s[i],char)\n",
    "            \n",
    "    return(st)\n",
    "    \n",
    "vow_replace(\"apples and bananas\",\"u\")    "
   ]
  },
  {
   "cell_type": "markdown",
   "id": "303559db",
   "metadata": {},
   "source": [
    "### Sol 5"
   ]
  },
  {
   "cell_type": "code",
   "execution_count": 38,
   "id": "9ddd15bc",
   "metadata": {},
   "outputs": [
    {
     "data": {
      "text/plain": [
       "'THe LiTTLe meRmaiD'"
      ]
     },
     "execution_count": 38,
     "metadata": {},
     "output_type": "execute_result"
    }
   ],
   "source": [
    "def ascii_capitalize(s):\n",
    "    \n",
    "    for i in s:\n",
    "        if ord(i)%2==0:\n",
    "            s=s.replace(i,i.upper())\n",
    "        else:\n",
    "            s=s.replace(i,i.lower())\n",
    "\n",
    "    return(s)\n",
    "\n",
    "ascii_capitalize(\"THE LITTLE MERMAID\")"
   ]
  },
  {
   "cell_type": "code",
   "execution_count": null,
   "id": "dddd26a8",
   "metadata": {},
   "outputs": [],
   "source": []
  },
  {
   "cell_type": "code",
   "execution_count": null,
   "id": "f0ed954c",
   "metadata": {},
   "outputs": [],
   "source": []
  }
 ],
 "metadata": {
  "kernelspec": {
   "display_name": "Python 3",
   "language": "python",
   "name": "python3"
  },
  "language_info": {
   "codemirror_mode": {
    "name": "ipython",
    "version": 3
   },
   "file_extension": ".py",
   "mimetype": "text/x-python",
   "name": "python",
   "nbconvert_exporter": "python",
   "pygments_lexer": "ipython3",
   "version": "3.8.8"
  }
 },
 "nbformat": 4,
 "nbformat_minor": 5
}
