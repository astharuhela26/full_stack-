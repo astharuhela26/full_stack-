{
 "cells": [
  {
   "cell_type": "markdown",
   "id": "6fb5a597",
   "metadata": {},
   "source": [
    "Solution 1"
   ]
  },
  {
   "cell_type": "code",
   "execution_count": 2,
   "id": "9857720e",
   "metadata": {},
   "outputs": [
    {
     "name": "stdout",
     "output_type": "stream",
     "text": [
      "hello python\n"
     ]
    }
   ],
   "source": [
    "print(\"hello python\")"
   ]
  },
  {
   "cell_type": "markdown",
   "id": "92e44d4e",
   "metadata": {},
   "source": [
    "Solution 2 "
   ]
  },
  {
   "cell_type": "code",
   "execution_count": 5,
   "id": "be45aced",
   "metadata": {},
   "outputs": [
    {
     "name": "stdout",
     "output_type": "stream",
     "text": [
      "enter the first number45\n",
      "enter the second number32\n",
      "77\n",
      "1.40625\n"
     ]
    }
   ],
   "source": [
    "num1= int(input(\"enter the first number\")) #enter the first number\n",
    "num2=int(input(\"enter the second number\")) #enter the second number\n",
    "add= num1+num2 #adding the numbers\n",
    "div= num1/num2 #dividing the two numbers\n",
    "print(add) #printing the result\n",
    "print(div)"
   ]
  },
  {
   "cell_type": "markdown",
   "id": "a499b3a0",
   "metadata": {},
   "source": [
    "Solution 3 "
   ]
  },
  {
   "cell_type": "code",
   "execution_count": 10,
   "id": "5d237702",
   "metadata": {},
   "outputs": [
    {
     "name": "stdout",
     "output_type": "stream",
     "text": [
      "enter the base value 6\n",
      "enter the height 3\n",
      "9.0\n"
     ]
    }
   ],
   "source": [
    "base= int(input(\"enter the base value \")) #enter the base value\n",
    "ht=int(input(\"enter the height \")) #enter the height\n",
    "area= 0.5*base*ht #computing the area\n",
    "print(area) #printing the value "
   ]
  },
  {
   "cell_type": "markdown",
   "id": "acfe2113",
   "metadata": {},
   "source": [
    "Solution 4 "
   ]
  },
  {
   "cell_type": "code",
   "execution_count": 13,
   "id": "1b0fa24e",
   "metadata": {},
   "outputs": [
    {
     "name": "stdout",
     "output_type": "stream",
     "text": [
      "enter the number 5\n",
      "enter the number 10\n",
      "10\n",
      "5\n"
     ]
    }
   ],
   "source": [
    "a= int(input(\"enter the number \")) #enter the number\n",
    "b=int(input(\"enter the number \")) #enter the number \n",
    "b,a=a,b\n",
    "print(a)\n",
    "print(b)"
   ]
  },
  {
   "cell_type": "markdown",
   "id": "583f4b46",
   "metadata": {},
   "source": [
    "Solution 5"
   ]
  },
  {
   "cell_type": "code",
   "execution_count": 19,
   "id": "c3f1395a",
   "metadata": {},
   "outputs": [
    {
     "name": "stdout",
     "output_type": "stream",
     "text": [
      "0.4030173936294419\n"
     ]
    }
   ],
   "source": [
    "import random\n",
    "number=random.random()\n",
    "print(number)"
   ]
  },
  {
   "cell_type": "code",
   "execution_count": null,
   "id": "e481046d",
   "metadata": {},
   "outputs": [],
   "source": []
  },
  {
   "cell_type": "code",
   "execution_count": null,
   "id": "38c43eac",
   "metadata": {},
   "outputs": [],
   "source": []
  }
 ],
 "metadata": {
  "kernelspec": {
   "display_name": "Python 3",
   "language": "python",
   "name": "python3"
  },
  "language_info": {
   "codemirror_mode": {
    "name": "ipython",
    "version": 3
   },
   "file_extension": ".py",
   "mimetype": "text/x-python",
   "name": "python",
   "nbconvert_exporter": "python",
   "pygments_lexer": "ipython3",
   "version": "3.8.8"
  }
 },
 "nbformat": 4,
 "nbformat_minor": 5
}
