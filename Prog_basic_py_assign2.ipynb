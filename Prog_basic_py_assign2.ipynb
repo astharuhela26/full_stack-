{
 "cells": [
  {
   "cell_type": "markdown",
   "id": "0b1e4feb",
   "metadata": {},
   "source": [
    "### Solution 1"
   ]
  },
  {
   "cell_type": "code",
   "execution_count": 1,
   "id": "aa1742bd",
   "metadata": {},
   "outputs": [
    {
     "name": "stdout",
     "output_type": "stream",
     "text": [
      "enter the value in miles 45\n",
      "27.962999999999997\n"
     ]
    }
   ],
   "source": [
    "K= int(input(\"enter the value in miles \")) #enter the value in kilometres \n",
    "c2m= 0.6214*K #converting in miles \n",
    "print(c2m)"
   ]
  },
  {
   "cell_type": "markdown",
   "id": "35a12b3c",
   "metadata": {},
   "source": [
    "### Solution 2"
   ]
  },
  {
   "cell_type": "code",
   "execution_count": 3,
   "id": "87ea69a3",
   "metadata": {},
   "outputs": [
    {
     "name": "stdout",
     "output_type": "stream",
     "text": [
      "enter the value in miles 45\n",
      "113.0\n"
     ]
    }
   ],
   "source": [
    "C= int(input(\"enter the value in miles \")) #enter the temp in celcius  \n",
    "c2F= (9/5)*C +32 #converting in farenheit \n",
    "print(c2F)"
   ]
  },
  {
   "cell_type": "markdown",
   "id": "1249ab0a",
   "metadata": {},
   "source": [
    "### Solution 3"
   ]
  },
  {
   "cell_type": "code",
   "execution_count": 5,
   "id": "ad9bca2e",
   "metadata": {},
   "outputs": [
    {
     "name": "stdout",
     "output_type": "stream",
     "text": [
      "enter the year 2017\n",
      "enter the month 5\n",
      "      May 2017\n",
      "Mo Tu We Th Fr Sa Su\n",
      " 1  2  3  4  5  6  7\n",
      " 8  9 10 11 12 13 14\n",
      "15 16 17 18 19 20 21\n",
      "22 23 24 25 26 27 28\n",
      "29 30 31\n",
      "\n"
     ]
    }
   ],
   "source": [
    "import calendar \n",
    "yr=int(input(\"enter the year \"))\n",
    "m=int(input(\"enter the month \"))\n",
    "print(calendar.month(yr,m))"
   ]
  },
  {
   "cell_type": "markdown",
   "id": "fd94b352",
   "metadata": {},
   "source": [
    "### Solution 4"
   ]
  },
  {
   "cell_type": "code",
   "execution_count": 8,
   "id": "f8a78974",
   "metadata": {},
   "outputs": [
    {
     "name": "stdout",
     "output_type": "stream",
     "text": [
      "enter the value 1\n",
      "enter the value 5\n",
      "enter the value 6\n",
      "the values are (-2.5-2.0615528128088303j) and (-2.5+2.0615528128088303j)\n"
     ]
    }
   ],
   "source": [
    "import cmath\n",
    "a=int(input(\"enter the value \"))\n",
    "b=int(input(\"enter the value \"))\n",
    "c=int(input(\"enter the value \"))\n",
    "d=cmath.sqrt(b^2-4*a*c)\n",
    "val1= (-b-d)/(2*a)\n",
    "val2= (-b+d)/(2*a)\n",
    "print(\"the values are {0} and {1}\".format(val1,val2))"
   ]
  },
  {
   "cell_type": "markdown",
   "id": "3904c9f0",
   "metadata": {},
   "source": [
    "### Solution 5 "
   ]
  },
  {
   "cell_type": "code",
   "execution_count": 9,
   "id": "88567cfb",
   "metadata": {},
   "outputs": [
    {
     "name": "stdout",
     "output_type": "stream",
     "text": [
      "enter the number 18\n",
      "enter the number 2\n",
      "2\n",
      "18\n"
     ]
    }
   ],
   "source": [
    "a= int(input(\"enter the number \")) #enter the number\n",
    "b=int(input(\"enter the number \")) #enter the number \n",
    "b,a=a,b\n",
    "print(a)\n",
    "print(b)"
   ]
  },
  {
   "cell_type": "code",
   "execution_count": null,
   "id": "327ea958",
   "metadata": {},
   "outputs": [],
   "source": []
  }
 ],
 "metadata": {
  "kernelspec": {
   "display_name": "Python 3",
   "language": "python",
   "name": "python3"
  },
  "language_info": {
   "codemirror_mode": {
    "name": "ipython",
    "version": 3
   },
   "file_extension": ".py",
   "mimetype": "text/x-python",
   "name": "python",
   "nbconvert_exporter": "python",
   "pygments_lexer": "ipython3",
   "version": "3.8.8"
  }
 },
 "nbformat": 4,
 "nbformat_minor": 5
}
