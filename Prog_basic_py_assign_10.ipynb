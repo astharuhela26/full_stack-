{
 "cells": [
  {
   "cell_type": "markdown",
   "id": "2de33eab",
   "metadata": {},
   "source": [
    "### Solution 1"
   ]
  },
  {
   "cell_type": "code",
   "execution_count": 9,
   "id": "7a7c01b1",
   "metadata": {},
   "outputs": [
    {
     "name": "stdout",
     "output_type": "stream",
     "text": [
      "Enter the number of elements you want to enter in the list: 4\n",
      "Enter the elements of the list: \n",
      "2\n",
      "3\n",
      "6\n",
      "6\n",
      "['2', '3', '6', '6']\n",
      "The sum of all the elements of list is 17\n"
     ]
    }
   ],
   "source": [
    "n=int(input(\"Enter the number of elements you want to enter in the list: \"))\n",
    "l=[]\n",
    "print(\"Enter the elements of the list: \")\n",
    "for i in range(n):\n",
    "    a=input()\n",
    "    l.append(a)\n",
    "print(l) \n",
    "sum=0\n",
    "for i in range(0,n):\n",
    "    sum = sum+ int(l[i])  \n",
    "print(\"The sum of all the elements of list is {0}\".format(sum))"
   ]
  },
  {
   "cell_type": "markdown",
   "id": "340be634",
   "metadata": {},
   "source": [
    "### Solution 2 "
   ]
  },
  {
   "cell_type": "code",
   "execution_count": 11,
   "id": "c06335b6",
   "metadata": {},
   "outputs": [
    {
     "name": "stdout",
     "output_type": "stream",
     "text": [
      "Enter the number of elements you want to enter in the list: 4\n",
      "Enter the elements of the list: \n",
      "1\n",
      "3\n",
      "6\n",
      "5\n",
      "['1', '3', '6', '5']\n",
      "\n",
      "The product of all the elements of list is 90\n"
     ]
    }
   ],
   "source": [
    "n=int(input(\"Enter the number of elements you want to enter in the list: \"))\n",
    "l=[]\n",
    "print(\"Enter the elements of the list: \")\n",
    "for i in range(n):\n",
    "    a=input()\n",
    "    l.append(a)\n",
    "print(l) \n",
    "mul =1\n",
    "for i in range(0,n):\n",
    "    mul = mul * int(l[i])  \n",
    "print(\"\\nThe product of all the elements of list is {0}\".format(mul))"
   ]
  },
  {
   "cell_type": "markdown",
   "id": "dbea6e45",
   "metadata": {},
   "source": [
    "### Solution 3 "
   ]
  },
  {
   "cell_type": "code",
   "execution_count": 12,
   "id": "ee120ae4",
   "metadata": {},
   "outputs": [
    {
     "name": "stdout",
     "output_type": "stream",
     "text": [
      "Enter the number of elements you want to enter in the list: 4\n",
      "Enter the elements of the list: \n",
      "2\n",
      "6\n",
      "5\n",
      "1\n",
      "['2', '6', '5', '1']\n",
      "The minimum element of the list is 1\n"
     ]
    }
   ],
   "source": [
    "n=int(input(\"Enter the number of elements you want to enter in the list: \"))\n",
    "l=[]\n",
    "print(\"Enter the elements of the list: \")\n",
    "for i in range(n):\n",
    "    a=input()\n",
    "    l.append(a)\n",
    "print(l) \n",
    "min = l[0]\n",
    "for i in range(0,n):\n",
    "    if l[i]<min:\n",
    "        min=l[i]\n",
    "print(\"The minimum element of the list is {0}\".format(min))"
   ]
  },
  {
   "cell_type": "markdown",
   "id": "8ddb89a9",
   "metadata": {},
   "source": [
    "### Solution 4 "
   ]
  },
  {
   "cell_type": "code",
   "execution_count": 30,
   "id": "4fb37b39",
   "metadata": {},
   "outputs": [
    {
     "name": "stdout",
     "output_type": "stream",
     "text": [
      "Enter the number of elements you want to enter in the list: 4\n",
      "Enter the elements of the list: \n",
      "6\n",
      "9\n",
      "1\n",
      "3\n",
      "['6', '9', '1', '3']\n",
      "The maximum element of the list is 9\n"
     ]
    }
   ],
   "source": [
    "n=int(input(\"Enter the number of elements you want to enter in the list: \"))\n",
    "l=[]\n",
    "print(\"Enter the elements of the list: \")\n",
    "for i in range(n):\n",
    "    a=input()\n",
    "    l.append(a)\n",
    "print(l) \n",
    "max = l[0]\n",
    "for i in range(0,n):\n",
    "    if l[i]>max:\n",
    "        max=l[i]\n",
    "print(\"The maximum element of the list is {0}\".format(max))"
   ]
  },
  {
   "cell_type": "markdown",
   "id": "40de8c14",
   "metadata": {},
   "source": [
    "### Solution 5"
   ]
  },
  {
   "cell_type": "code",
   "execution_count": 24,
   "id": "05fffa5a",
   "metadata": {},
   "outputs": [
    {
     "name": "stdout",
     "output_type": "stream",
     "text": [
      "Enter the number of elements you want to enter in the list: 5\n",
      "Enter the elements of the list: \n",
      "2\n",
      "3\n",
      "9\n",
      "6\n",
      "4\n",
      "['2', '3', '9', '6', '4']\n",
      "\n",
      " The second largest element of the list is : \n",
      "6\n"
     ]
    }
   ],
   "source": [
    "n=int(input(\"Enter the number of elements you want to enter in the list: \"))\n",
    "l=[]\n",
    "print(\"Enter the elements of the list: \")\n",
    "for i in range(n):\n",
    "    a=input()\n",
    "    l.append(a)\n",
    "print(l) \n",
    "sl=l.sort() #Sorted list in ascending order\n",
    "print(\"\\n The second largest element of the list is : \")\n",
    "print(l[-2])"
   ]
  },
  {
   "cell_type": "markdown",
   "id": "0b5fd40c",
   "metadata": {},
   "source": [
    "### Solution 6 "
   ]
  },
  {
   "cell_type": "code",
   "execution_count": 29,
   "id": "4d04dcc7",
   "metadata": {},
   "outputs": [
    {
     "name": "stdout",
     "output_type": "stream",
     "text": [
      "Enter the number of elements you want to enter in the list: 5\n",
      "Enter the elements of the list: \n",
      "6\n",
      "3\n",
      "9\n",
      "1\n",
      "8\n",
      "['6', '3', '9', '1', '8']\n",
      "Enter the number\n",
      "3\n",
      "\n",
      " The largest N elements of a list are :\n",
      "9\n",
      "8\n",
      "6\n"
     ]
    }
   ],
   "source": [
    "n=int(input(\"Enter the number of elements you want to enter in the list: \"))\n",
    "l=[]\n",
    "print(\"Enter the elements of the list: \")\n",
    "for i in range(n):\n",
    "    a=input()\n",
    "    l.append(a)\n",
    "print(l) \n",
    "print(\"Enter the number\")\n",
    "N = int(input())\n",
    "sl=l.sort() #Sorted list in ascending order\n",
    "print(\"\\n The largest N elements of a list are :\")\n",
    "for i in range(1,N+1):\n",
    "    print(int(l[-i]))\n",
    "    \n",
    "    "
   ]
  },
  {
   "cell_type": "markdown",
   "id": "3abab580",
   "metadata": {},
   "source": [
    "### Solution 7"
   ]
  },
  {
   "cell_type": "code",
   "execution_count": 17,
   "id": "fdd2b1a5",
   "metadata": {},
   "outputs": [
    {
     "name": "stdout",
     "output_type": "stream",
     "text": [
      "Enter the number of elements you want to enter in the list: 4\n",
      "Enter the elements of the list: \n",
      "2\n",
      "6\n",
      "3\n",
      "1\n",
      "['2', '6', '3', '1']\n",
      "The even numbers in the list are:\n",
      "2\n",
      "6\n"
     ]
    }
   ],
   "source": [
    "n=int(input(\"Enter the number of elements you want to enter in the list: \"))\n",
    "l=[]\n",
    "print(\"Enter the elements of the list: \")\n",
    "for i in range(n):\n",
    "    a=input()\n",
    "    l.append(a)\n",
    "print(l) \n",
    "print(\"The even numbers in the list are:\")\n",
    "for i in range(0,n):\n",
    "    if int(l[i])%2==0:\n",
    "        print(l[i])"
   ]
  },
  {
   "cell_type": "markdown",
   "id": "72498adb",
   "metadata": {},
   "source": [
    "### Solution 8"
   ]
  },
  {
   "cell_type": "code",
   "execution_count": 18,
   "id": "dd1a3d6c",
   "metadata": {},
   "outputs": [
    {
     "name": "stdout",
     "output_type": "stream",
     "text": [
      "Enter the number of elements you want to enter in the list: 4\n",
      "Enter the elements of the list: \n",
      "2\n",
      "3\n",
      "1\n",
      "6\n",
      "['2', '3', '1', '6']\n",
      "The odd numbers in the list are:\n",
      "3\n",
      "1\n"
     ]
    }
   ],
   "source": [
    "n=int(input(\"Enter the number of elements you want to enter in the list: \"))\n",
    "l=[]\n",
    "print(\"Enter the elements of the list: \")\n",
    "for i in range(n):\n",
    "    a=input()\n",
    "    l.append(a)\n",
    "print(l) \n",
    "print(\"The odd numbers in the list are:\")\n",
    "for i in range(0,n):\n",
    "    if int(l[i])%2!=0:\n",
    "        print(l[i])"
   ]
  },
  {
   "cell_type": "markdown",
   "id": "15242cc9",
   "metadata": {},
   "source": [
    "### Solution 9"
   ]
  },
  {
   "cell_type": "code",
   "execution_count": 37,
   "id": "7909432c",
   "metadata": {},
   "outputs": [
    {
     "name": "stdout",
     "output_type": "stream",
     "text": [
      "The list without empty lists: \n",
      "[1, 6, 9, 3, 5]\n"
     ]
    }
   ],
   "source": [
    "list=[1,6,[],9,3,[],5]\n",
    "l2=[]\n",
    "for i in list:\n",
    "    if i!=[]:\n",
    "        l2.append(i)\n",
    "print(\"The list without empty lists: \")\n",
    "print(l2)"
   ]
  },
  {
   "cell_type": "markdown",
   "id": "c6884319",
   "metadata": {},
   "source": [
    "### Solution 10"
   ]
  },
  {
   "cell_type": "code",
   "execution_count": 52,
   "id": "58574692",
   "metadata": {},
   "outputs": [
    {
     "name": "stdout",
     "output_type": "stream",
     "text": [
      "The original list is  [4, 8, 2, 10, 15, 18]\n",
      "The cloned list is  [4, 8, 2, 10, 15, 18]\n"
     ]
    }
   ],
   "source": [
    "l1 = [4, 8, 2, 10, 15, 18]\n",
    "l2 = l1.copy()\n",
    "print(\"The original list is \",l1)\n",
    "print(\"The cloned list is \",l2)"
   ]
  },
  {
   "cell_type": "markdown",
   "id": "08be3535",
   "metadata": {},
   "source": [
    "### Solution 11"
   ]
  },
  {
   "cell_type": "code",
   "execution_count": 49,
   "id": "1b59939e",
   "metadata": {},
   "outputs": [
    {
     "name": "stdout",
     "output_type": "stream",
     "text": [
      "Enter the number of elements you want to enter in the list: 4\n",
      "Enter the elements of the list: \n",
      "6\n",
      "3\n",
      "5\n",
      "3\n",
      "['6', '3', '5', '3']\n",
      "The element of a list you want to find the count occurence for : 3\n",
      "3 has occured 2 times\n"
     ]
    }
   ],
   "source": [
    "n=int(input(\"Enter the number of elements you want to enter in the list: \"))\n",
    "l=[]\n",
    "print(\"Enter the elements of the list: \")\n",
    "for i in range(n):\n",
    "    a=input()\n",
    "    l.append(a)\n",
    "print(l) \n",
    "count=0\n",
    "ele=input(\"The element of a list you want to find the count occurence of: \")\n",
    "for i in range(0,n):\n",
    "    for j in range(0,i):\n",
    "        if l[j]==ele:\n",
    "            count=count+1\n",
    "print(\"{0} has occured {1} times\".format(ele,count))\n"
   ]
  },
  {
   "cell_type": "code",
   "execution_count": null,
   "id": "ede2a4fb",
   "metadata": {},
   "outputs": [],
   "source": []
  }
 ],
 "metadata": {
  "kernelspec": {
   "display_name": "Python 3",
   "language": "python",
   "name": "python3"
  },
  "language_info": {
   "codemirror_mode": {
    "name": "ipython",
    "version": 3
   },
   "file_extension": ".py",
   "mimetype": "text/x-python",
   "name": "python",
   "nbconvert_exporter": "python",
   "pygments_lexer": "ipython3",
   "version": "3.8.8"
  }
 },
 "nbformat": 4,
 "nbformat_minor": 5
}
