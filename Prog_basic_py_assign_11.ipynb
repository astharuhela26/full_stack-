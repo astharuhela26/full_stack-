{
 "cells": [
  {
   "cell_type": "markdown",
   "id": "91f3fd5f",
   "metadata": {},
   "source": [
    "### Solution 1 "
   ]
  },
  {
   "cell_type": "code",
   "execution_count": 8,
   "id": "0f4e0ddf",
   "metadata": {},
   "outputs": [
    {
     "name": "stdout",
     "output_type": "stream",
     "text": [
      "Enter the numer of elements you want to enter in the list 5\n",
      "sudhanshu\n",
      "amit\n",
      "barkha \n",
      "priyansh \n",
      "john\n",
      "\n",
      " ['sudhanshu', 'amit', 'barkha ', 'priyansh ', 'john']\n",
      "\n",
      "Enter the length 4\n",
      "sudhanshu\n",
      "barkha \n",
      "priyansh \n"
     ]
    }
   ],
   "source": [
    "n=input(\"Enter the numer of elements you want to enter in the list \")\n",
    "l=[]\n",
    "for i in range(int(n)):\n",
    "    a=input()\n",
    "    l.append(a)\n",
    "print(\"\\n\",l)\n",
    "k=int(input(\"\\nEnter the length \"))\n",
    "for i in l:\n",
    "    if len(i)>k:\n",
    "        print(i)\n",
    "        "
   ]
  },
  {
   "cell_type": "markdown",
   "id": "f155d21d",
   "metadata": {},
   "source": [
    "### Solution 2"
   ]
  },
  {
   "cell_type": "code",
   "execution_count": 12,
   "id": "9006ca1d",
   "metadata": {},
   "outputs": [
    {
     "name": "stdout",
     "output_type": "stream",
     "text": [
      "Enter the stringsudhanshu\n",
      "Enter the position5\n",
      "sudhashu\n"
     ]
    }
   ],
   "source": [
    "s=input(\"Enter the string\")\n",
    "n=int(input(\"Enter the position\"))\n",
    "new_str= s[:n]+s[n+1:]\n",
    "print(new_str)\n",
    "    \n"
   ]
  },
  {
   "cell_type": "markdown",
   "id": "9123fc4e",
   "metadata": {},
   "source": [
    "### Solution 3"
   ]
  },
  {
   "cell_type": "code",
   "execution_count": 25,
   "id": "ad5293b6",
   "metadata": {},
   "outputs": [
    {
     "name": "stdout",
     "output_type": "stream",
     "text": [
      "\n",
      " ['I', 'have', 'one', 'year', 'of', 'experience']\n",
      "\n",
      " I-have-one-year-of-experience\n"
     ]
    }
   ],
   "source": [
    "s=\"I have one year of experience\"\n",
    "new_s=s.split(\" \")\n",
    "print(\"\\n\",new_s)\n",
    "new2=\"-\".join(new_s)\n",
    "print(\"\\n\",new2)"
   ]
  },
  {
   "cell_type": "markdown",
   "id": "2cddab67",
   "metadata": {},
   "source": [
    "### Solution 4"
   ]
  },
  {
   "cell_type": "code",
   "execution_count": 44,
   "id": "a8fa82de",
   "metadata": {},
   "outputs": [
    {
     "name": "stdout",
     "output_type": "stream",
     "text": [
      "Enter the string : 101110100\n",
      "\n",
      "The string 101110100 is a binary string\n"
     ]
    }
   ],
   "source": [
    "s=input(\"Enter the string : \")\n",
    "c={\"0\",\"1\"}\n",
    "st=set(s)\n",
    "if st==c or st=={\"0\"} or st=={1}:\n",
    "    print(\"\\nThe string {0} is a binary string\".format(s))\n",
    "else:\n",
    "    print(\"\\nThe string {0} is not a binary string\".format(s))"
   ]
  },
  {
   "cell_type": "markdown",
   "id": "8bbb7ffb",
   "metadata": {},
   "source": [
    "### Solution 5 "
   ]
  },
  {
   "cell_type": "code",
   "execution_count": 61,
   "id": "b5e94f73",
   "metadata": {},
   "outputs": [
    {
     "data": {
      "text/plain": [
       "' The things are stolen by Did you catch the'"
      ]
     },
     "execution_count": 61,
     "metadata": {},
     "output_type": "execute_result"
    }
   ],
   "source": [
    "def diffe(l1,l2):\n",
    "    l_a = l1.split()\n",
    "    l_b = l2.split()\n",
    "    l = ''\n",
    "    for i in l_a:\n",
    "        if i not in l_b:\n",
    "            l = l+\" \"+i\n",
    "    for j in l_b:\n",
    "        if j not in l_a:\n",
    "            l = l+\" \"+j\n",
    "  \n",
    "    return l\n",
    "\n",
    "a=\"The things are stolen by thief\"\n",
    "b=\"Did you catch the thief\"\n",
    "\n",
    "diffe(a,b)\n"
   ]
  },
  {
   "cell_type": "markdown",
   "id": "40f5f063",
   "metadata": {},
   "source": [
    "### Solution 6"
   ]
  },
  {
   "cell_type": "code",
   "execution_count": 4,
   "id": "7d08caa2",
   "metadata": {},
   "outputs": [
    {
     "name": "stdout",
     "output_type": "stream",
     "text": [
      "Enter a string : what is your name \n",
      "a  \n"
     ]
    }
   ],
   "source": [
    "string = input(\"Enter a string : \")\n",
    "duplicates = []\n",
    "for char in string:\n",
    "    if string.count(char) > 1:\n",
    "        if char not in duplicates:\n",
    "            duplicates.append(char)\n",
    "print(*duplicates)"
   ]
  },
  {
   "cell_type": "markdown",
   "id": "43a3c3a7",
   "metadata": {},
   "source": [
    "### Solution 7"
   ]
  },
  {
   "cell_type": "code",
   "execution_count": 1,
   "id": "22113db2",
   "metadata": {},
   "outputs": [
    {
     "name": "stdout",
     "output_type": "stream",
     "text": [
      "Enter a stringMy name is not mentioned in the list \n",
      "String does not contain any special characters.\n"
     ]
    }
   ],
   "source": [
    "import re\n",
    "st=input(\"Enter a string\")\n",
    " \n",
    "s_char = re.compile('[@_!#$%^&*()<>?/\\|}{~:]')\n",
    "\n",
    "# check string contains special characters or not\n",
    "if(s_char.search(st) == None):\n",
    "    print('String does not contain any special characters.')\n",
    "else:\n",
    "    print('The string contains special characters.')\n"
   ]
  },
  {
   "cell_type": "code",
   "execution_count": null,
   "id": "6f285a26",
   "metadata": {},
   "outputs": [],
   "source": []
  }
 ],
 "metadata": {
  "kernelspec": {
   "display_name": "Python 3",
   "language": "python",
   "name": "python3"
  },
  "language_info": {
   "codemirror_mode": {
    "name": "ipython",
    "version": 3
   },
   "file_extension": ".py",
   "mimetype": "text/x-python",
   "name": "python",
   "nbconvert_exporter": "python",
   "pygments_lexer": "ipython3",
   "version": "3.8.8"
  }
 },
 "nbformat": 4,
 "nbformat_minor": 5
}
