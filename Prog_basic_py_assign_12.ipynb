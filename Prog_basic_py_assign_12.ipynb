{
 "cells": [
  {
   "cell_type": "markdown",
   "id": "ac433cc8",
   "metadata": {},
   "source": [
    "### Solution 1 "
   ]
  },
  {
   "cell_type": "code",
   "execution_count": 56,
   "id": "dcfa7887",
   "metadata": {},
   "outputs": [
    {
     "name": "stdout",
     "output_type": "stream",
     "text": [
      "Enter no of elements you want to enter in a dictionary5\n",
      "\n",
      "Enter the values and keys of the dictionary you want to enter \n",
      "2\n",
      "3\n",
      "3\n",
      "1\n",
      "2\n",
      "\n",
      "\n",
      "a\n",
      "b\n",
      "c\n",
      "f\n",
      "i\n",
      "The dictionary is : \n",
      "\n",
      "{'a': '2', 'b': '3', 'c': '3', 'f': '1', 'i': '2'}\n",
      "\n",
      "The unique values of a dictionary are\n",
      "\n",
      " {'2', '1', '3'}\n"
     ]
    }
   ],
   "source": [
    "n=int(input(\"Enter no of elements you want to enter in a dictionary\"))\n",
    "v=[]\n",
    "k=[]\n",
    "\n",
    "print(\"\\nEnter the values and keys of the dictionary you want to enter \")\n",
    "\n",
    "for i in range(n):\n",
    "    a=input()\n",
    "    v.append(a)\n",
    "\n",
    "print(\"\\n\")\n",
    "    \n",
    "for i in range(n):\n",
    "    b=input()\n",
    "    k.append(b)\n",
    "    \n",
    "\n",
    "dict={x:y for x,y in zip(k,v)}\n",
    "print(\"The dictionary is : \\n\")\n",
    "print(dict)\n",
    "\n",
    "\n",
    "unique_values =set(val for dic in dict for val in dict.values())\n",
    "print(\"\\nThe unique values of a dictionary are\")\n",
    "print(\"\\n\",unique_values)"
   ]
  },
  {
   "cell_type": "markdown",
   "id": "2f4d170b",
   "metadata": {},
   "source": [
    "### Solution 2"
   ]
  },
  {
   "cell_type": "code",
   "execution_count": 60,
   "id": "661c50e8",
   "metadata": {},
   "outputs": [
    {
     "name": "stdout",
     "output_type": "stream",
     "text": [
      "Enter no of elements you want to enter in a dictionary5\n",
      "\n",
      "Enter the values and keys of the dictionary you want to enter \n",
      "2\n",
      "6\n",
      "3\n",
      "5\n",
      "6\n",
      "\n",
      "\n",
      "a1\n",
      "a2\n",
      "a3\n",
      "a4\n",
      "a5\n",
      "The dictionary is : \n",
      "\n",
      "{'a1': '2', 'a2': '6', 'a3': '3', 'a4': '5', 'a5': '6'}\n",
      "\n",
      " The sum of all the items is  22\n"
     ]
    }
   ],
   "source": [
    "n=int(input(\"Enter no of elements you want to enter in a dictionary\"))\n",
    "v=[]\n",
    "k=[]\n",
    "\n",
    "print(\"\\nEnter the values and keys of the dictionary you want to enter \")\n",
    "\n",
    "for i in range(n):\n",
    "    a=input()\n",
    "    v.append(a)\n",
    "\n",
    "print(\"\\n\")\n",
    "    \n",
    "for i in range(n):\n",
    "    b=input()\n",
    "    k.append(b)\n",
    "    \n",
    "\n",
    "dict={x:y for x,y in zip(k,v)}\n",
    "print(\"The dictionary is : \\n\")\n",
    "print(dict)\n",
    "\n",
    "val=list(dict.values())\n",
    "sum=0\n",
    "for i in range(len(val)):\n",
    "    sum=sum+int(val[i])\n",
    "print(\"\\n The sum of all the items is \",sum)"
   ]
  },
  {
   "cell_type": "markdown",
   "id": "9b7cbd8e",
   "metadata": {},
   "source": [
    "### Solution 3"
   ]
  },
  {
   "cell_type": "code",
   "execution_count": 65,
   "id": "d7de4eb0",
   "metadata": {},
   "outputs": [
    {
     "name": "stdout",
     "output_type": "stream",
     "text": [
      "Enter no of elements you want to enter in first dictionary5\n",
      "\n",
      "Enter the values and keys of the dictionary you want to enter for first dictionary\n",
      "2\n",
      "3\n",
      "6\n",
      "3\n",
      "2\n",
      "\n",
      "\n",
      "a1\n",
      "z2\n",
      "a3\n",
      "a4\n",
      "f5\n",
      "The first dictionary is : \n",
      "\n",
      "{'a1': '2', 'z2': '3', 'a3': '6', 'a4': '3', 'f5': '2'}\n",
      "Enter no of elements you want to enter in second dictionary6\n",
      "\n",
      "Enter the values and keys of the dictionary you want to enter for second dictionary \n",
      "9\n",
      "2\n",
      "3\n",
      "6\n",
      "2\n",
      "b1\n",
      "\n",
      "\n",
      "d3\n",
      "d4\n",
      "d5\n",
      "d5\n",
      "d6\n",
      "d8\n",
      "The second dictionary is : \n",
      "\n",
      "{'d3': '9', 'd4': '2', 'd5': '6', 'd6': '2', 'd8': 'b1'}\n",
      "\n",
      "The merged dictionary is : \n",
      "\n"
     ]
    },
    {
     "data": {
      "text/plain": [
       "{'a1': '2',\n",
       " 'z2': '3',\n",
       " 'a3': '6',\n",
       " 'a4': '3',\n",
       " 'f5': '2',\n",
       " 'd3': '9',\n",
       " 'd4': '2',\n",
       " 'd5': '6',\n",
       " 'd6': '2',\n",
       " 'd8': 'b1'}"
      ]
     },
     "execution_count": 65,
     "metadata": {},
     "output_type": "execute_result"
    }
   ],
   "source": [
    "#First Dictionary \n",
    "n1=int(input(\"Enter no of elements you want to enter in first dictionary\"))\n",
    "v1=[]\n",
    "k1=[]\n",
    "\n",
    "print(\"\\nEnter the values and keys of the dictionary you want to enter for first dictionary\")\n",
    "\n",
    "for i in range(n1):\n",
    "    a1=input()\n",
    "    v1.append(a1)\n",
    "\n",
    "print(\"\\n\")\n",
    "    \n",
    "for i in range(n1):\n",
    "    b1=input()\n",
    "    k1.append(b1)\n",
    "    \n",
    "\n",
    "dict1={x1:y1 for x1,y1 in zip(k1,v1)}\n",
    "print(\"The first dictionary is : \\n\")\n",
    "print(dict1)\n",
    "\n",
    "#Second Dictionary\n",
    "n2=int(input(\"Enter no of elements you want to enter in second dictionary\"))\n",
    "v2=[]\n",
    "k2=[]\n",
    "\n",
    "print(\"\\nEnter the values and keys of the dictionary you want to enter for second dictionary \")\n",
    "\n",
    "for i in range(n2):\n",
    "    a2=input()\n",
    "    v2.append(a2)\n",
    "\n",
    "print(\"\\n\")\n",
    "    \n",
    "for i in range(n2):\n",
    "    b2=input()\n",
    "    k2.append(b2)\n",
    "    \n",
    "\n",
    "dict2={x2:y2 for x2,y2 in zip(k2,v2)}\n",
    "print(\"The second dictionary is : \\n\")\n",
    "print(dict2)\n",
    "\n",
    "\n",
    "dict1.update(dict2)\n",
    "print(\"\\nThe merged dictionary is : \\n\")\n",
    "dict1"
   ]
  },
  {
   "cell_type": "markdown",
   "id": "50b3f1dd",
   "metadata": {},
   "source": [
    "### Solution 4"
   ]
  },
  {
   "cell_type": "code",
   "execution_count": null,
   "id": "a9c77d43",
   "metadata": {},
   "outputs": [],
   "source": [
    "n=int(input(\"Enter the number of items ypu want in a dictionary\\n\"))\n",
    "\n",
    "\n",
    "print(\"Enter the names\")\n",
    "n=[input() for i in range(n)]\n",
    "\n",
    "print(\"Enter the age\")\n",
    "A=[i for i in range(n)]\n",
    "\n",
    "print(\"\\nThe dictionary is \\n\")\n",
    "d={\"name\":n,\"age\":A}\n",
    "print(d)\n",
    "\n",
    "dict=dict(zip(n,A))\n",
    "dict1"
   ]
  },
  {
   "cell_type": "markdown",
   "id": "daaf2bd8",
   "metadata": {},
   "source": [
    "### Solution 5"
   ]
  },
  {
   "cell_type": "code",
   "execution_count": 44,
   "id": "e3aeee92",
   "metadata": {},
   "outputs": [
    {
     "name": "stdout",
     "output_type": "stream",
     "text": [
      "\n",
      " The ordered list is :\n",
      "\n",
      " OrderedDict([('a', 5), ('b', 5), ('c', 9), ('d', 7), ('e', 5), ('y', 7), ('h', 'zoo')])\n"
     ]
    }
   ],
   "source": [
    "from collections import OrderedDict\n",
    "\n",
    "dict1={\"a\": 5,\"b\":5,\"c\":9,\"d\":7,\"e\":5}\n",
    "\n",
    "dict2={\"y\":7,\"h\":\"zoo\"}\n",
    "\n",
    "ord_list=OrderedDict(list(dict1.items())+list(dict2.items()))\n",
    "\n",
    "print(\"\\n The ordered list is :\")\n",
    "print(\"\\n\",ord_list)"
   ]
  },
  {
   "cell_type": "markdown",
   "id": "f44c458e",
   "metadata": {},
   "source": [
    "### Solution 6"
   ]
  },
  {
   "cell_type": "code",
   "execution_count": 51,
   "id": "b052ba39",
   "metadata": {},
   "outputs": [
    {
     "name": "stdout",
     "output_type": "stream",
     "text": [
      "The string is \n",
      "Hi Mark\n",
      "The input pattern is \n",
      "Ma\n",
      "The order of pattern is correct\n"
     ]
    }
   ],
   "source": [
    "from collections import OrderedDict\n",
    "def check_order(my_input, my_pattern):\n",
    "   my_dict = OrderedDict.fromkeys(my_input)\n",
    "   pattern_length = 0\n",
    "   for key,value in my_dict.items():\n",
    "      if (key == my_pattern[pattern_length]):\n",
    "         pattern_length = pattern_length + 1\n",
    "\n",
    "      if (pattern_length == (len(my_pattern))):\n",
    "         return 'The order of pattern is correct'\n",
    "\n",
    "   return 'The order of pattern is incorrect'\n",
    "\n",
    "my_input = 'Hi Mark'\n",
    "input_pattern = 'Ma'\n",
    "print(\"The string is \")\n",
    "print(my_input)\n",
    "print(\"The input pattern is \")\n",
    "print(input_pattern)\n",
    "print(check_order(my_input,input_pattern))"
   ]
  },
  {
   "cell_type": "markdown",
   "id": "322ee5a1",
   "metadata": {},
   "source": [
    "### Solution 7"
   ]
  },
  {
   "cell_type": "code",
   "execution_count": 47,
   "id": "79d05e45",
   "metadata": {},
   "outputs": [
    {
     "name": "stdout",
     "output_type": "stream",
     "text": [
      "\n",
      " The sorted dictionary is : \n",
      "OrderedDict([('a', 5), ('b', 5), ('d', 7), ('f', 9), ('n', 5)])\n"
     ]
    }
   ],
   "source": [
    "from collections import OrderedDict\n",
    " \n",
    "dict={\"a\": 5,\"b\":5,\"f\":9,\"d\":7,\"n\":5}\n",
    "dict1 = OrderedDict(sorted(dict.items()))\n",
    "print(\"\\n The sorted dictionary is : \")\n",
    "print(dict1)"
   ]
  },
  {
   "cell_type": "code",
   "execution_count": null,
   "id": "cbaf5d83",
   "metadata": {},
   "outputs": [],
   "source": []
  }
 ],
 "metadata": {
  "kernelspec": {
   "display_name": "Python 3",
   "language": "python",
   "name": "python3"
  },
  "language_info": {
   "codemirror_mode": {
    "name": "ipython",
    "version": 3
   },
   "file_extension": ".py",
   "mimetype": "text/x-python",
   "name": "python",
   "nbconvert_exporter": "python",
   "pygments_lexer": "ipython3",
   "version": "3.8.8"
  }
 },
 "nbformat": 4,
 "nbformat_minor": 5
}
