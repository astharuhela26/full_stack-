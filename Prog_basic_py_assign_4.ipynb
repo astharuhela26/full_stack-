{
 "cells": [
  {
   "cell_type": "markdown",
   "id": "b2aee46f",
   "metadata": {},
   "source": [
    "### Solution1"
   ]
  },
  {
   "cell_type": "code",
   "execution_count": 9,
   "id": "25656ca6",
   "metadata": {},
   "outputs": [
    {
     "name": "stdout",
     "output_type": "stream",
     "text": [
      "enter the number7\n",
      "factorial of 7 is 5040 \n"
     ]
    }
   ],
   "source": [
    "n=int(input(\"enter the number\"))\n",
    "factorial=1\n",
    "if n==0:\n",
    "    print(\"factorial of 0 is 1\")\n",
    "else:\n",
    "    for i in range(1,n+1):\n",
    "        factorial=factorial*i\n",
    "    print(\"factorial of {0} is {1} \".format(n,factorial))\n",
    "    "
   ]
  },
  {
   "cell_type": "markdown",
   "id": "54b5b01d",
   "metadata": {},
   "source": [
    "### Solution 2"
   ]
  },
  {
   "cell_type": "code",
   "execution_count": 14,
   "id": "bd3b4ba1",
   "metadata": {},
   "outputs": [
    {
     "name": "stdout",
     "output_type": "stream",
     "text": [
      "enter the number u want to find table of 5\n",
      "5 times 1 is 5\n",
      "5 times 2 is 10\n",
      "5 times 3 is 15\n",
      "5 times 4 is 20\n",
      "5 times 5 is 25\n",
      "5 times 6 is 30\n",
      "5 times 7 is 35\n",
      "5 times 8 is 40\n",
      "5 times 9 is 45\n",
      "5 times 10 is 50\n"
     ]
    }
   ],
   "source": [
    "n=int(input(\"enter the number u want to find table of \"))\n",
    "for i in range(1,11):\n",
    "    product=n*i\n",
    "    print(\"{0} times {1} is {2}\".format(n,i,product))"
   ]
  },
  {
   "cell_type": "markdown",
   "id": "df60df97",
   "metadata": {},
   "source": [
    "### Solution 3"
   ]
  },
  {
   "cell_type": "code",
   "execution_count": 20,
   "id": "8c3845d2",
   "metadata": {},
   "outputs": [
    {
     "name": "stdout",
     "output_type": "stream",
     "text": [
      "enter the number uptil when u want to find the fibonacci series14\n",
      "0\n",
      "1\n",
      "1\n",
      "2\n",
      "3\n",
      "5\n",
      "8\n",
      "13\n",
      "21\n",
      "34\n",
      "55\n",
      "89\n",
      "144\n",
      "233\n"
     ]
    }
   ],
   "source": [
    "n=int(input(\"enter the number uptil when u want to find the fibonacci series\"))\n",
    "n1,n2=0,1\n",
    "if n==1:\n",
    "    print(n1)\n",
    "else:\n",
    "    for i in range(0,n):\n",
    "        print(n1)\n",
    "        ns=n1+n2\n",
    "        n1=n2\n",
    "        n2=ns"
   ]
  },
  {
   "cell_type": "markdown",
   "id": "7e252059",
   "metadata": {},
   "source": [
    "### Solution 4 [For 3 digits]"
   ]
  },
  {
   "cell_type": "code",
   "execution_count": 35,
   "id": "bbe59752",
   "metadata": {},
   "outputs": [
    {
     "name": "stdout",
     "output_type": "stream",
     "text": [
      "enter the number 417\n",
      "417 is not a armstrong number\n"
     ]
    }
   ],
   "source": [
    "n=int(input(\"enter the number \"))\n",
    "sum=0\n",
    "for digits in str(n):\n",
    "    d=int(digits)\n",
    "    cube=d**3\n",
    "    sum=sum+cube\n",
    "if sum==n:\n",
    "    print(\"{0} is a armstrong number\".format(n))\n",
    "else:\n",
    "    print(\"{0} is not an armstrong number\".format(n))"
   ]
  },
  {
   "cell_type": "markdown",
   "id": "83846576",
   "metadata": {},
   "source": [
    "### For n digits"
   ]
  },
  {
   "cell_type": "code",
   "execution_count": 37,
   "id": "98c8aaa1",
   "metadata": {},
   "outputs": [
    {
     "name": "stdout",
     "output_type": "stream",
     "text": [
      "enter the number 1634\n",
      "1634 is a armstrong number\n"
     ]
    }
   ],
   "source": [
    "n=int(input(\"enter the number \"))\n",
    "no_of_digits=len(str(n))\n",
    "sum=0\n",
    "for digits in str(n):\n",
    "    d=int(digits)\n",
    "    c=d**no_of_digits\n",
    "    sum=sum+c\n",
    "if sum==n:\n",
    "    print(\"{0} is a armstrong number\".format(n))\n",
    "else:\n",
    "    print(\"{0} is not a armstrong number\".format(n))"
   ]
  },
  {
   "cell_type": "markdown",
   "id": "2b9e3ff4",
   "metadata": {},
   "source": [
    "### Solution 5"
   ]
  },
  {
   "cell_type": "code",
   "execution_count": 42,
   "id": "0783d637",
   "metadata": {},
   "outputs": [
    {
     "name": "stdout",
     "output_type": "stream",
     "text": [
      "enter the lower limit of interval 100\n",
      "enter the upper limit of interval 2000\n",
      "153 is a armstrong number\n",
      "370 is a armstrong number\n",
      "371 is a armstrong number\n",
      "407 is a armstrong number\n",
      "1634 is a armstrong number\n"
     ]
    }
   ],
   "source": [
    "lower=int(input(\"enter the lower limit of interval \"))\n",
    "upper=int(input(\"enter the upper limit of interval \"))\n",
    "for i in range(lower,upper+1):\n",
    "    no_of_digits=len(str(i))\n",
    "    sum=0\n",
    "    for digits in str(i):\n",
    "        d=int(digits)\n",
    "        c=d**no_of_digits\n",
    "        sum=sum+c\n",
    "    if sum==i:\n",
    "        print(\"{0} is a armstrong number\".format(i))\n"
   ]
  },
  {
   "cell_type": "markdown",
   "id": "a0422dbc",
   "metadata": {},
   "source": [
    "### Solution 6"
   ]
  },
  {
   "cell_type": "code",
   "execution_count": 47,
   "id": "56e7e319",
   "metadata": {},
   "outputs": [
    {
     "name": "stdout",
     "output_type": "stream",
     "text": [
      "enter the number 15\n",
      "120\n"
     ]
    }
   ],
   "source": [
    "n=int(input(\"enter the number \"))\n",
    "sum=0\n",
    "for i in range(1,n+1):\n",
    "    sum=sum+i\n",
    "print(sum)"
   ]
  },
  {
   "cell_type": "code",
   "execution_count": null,
   "id": "ee465d5e",
   "metadata": {},
   "outputs": [],
   "source": []
  }
 ],
 "metadata": {
  "kernelspec": {
   "display_name": "Python 3",
   "language": "python",
   "name": "python3"
  },
  "language_info": {
   "codemirror_mode": {
    "name": "ipython",
    "version": 3
   },
   "file_extension": ".py",
   "mimetype": "text/x-python",
   "name": "python",
   "nbconvert_exporter": "python",
   "pygments_lexer": "ipython3",
   "version": "3.8.8"
  }
 },
 "nbformat": 4,
 "nbformat_minor": 5
}
