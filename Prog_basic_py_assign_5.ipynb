{
 "cells": [
  {
   "cell_type": "markdown",
   "id": "68ec5a9b",
   "metadata": {},
   "source": [
    "### Solution 1"
   ]
  },
  {
   "cell_type": "code",
   "execution_count": 1,
   "id": "693501d5",
   "metadata": {},
   "outputs": [
    {
     "name": "stdout",
     "output_type": "stream",
     "text": [
      "Enter the first number : 54\n",
      "Enter the second number : 26\n",
      "The lcm of 54 and 26 is 702\n"
     ]
    }
   ],
   "source": [
    "num1 = int(input(\"Enter the first number : \"))\n",
    "num2 = int(input(\"Enter the second number : \"))\n",
    "count=0\n",
    "if num1>num2 and num1%num2==0:\n",
    "    lcm = num1\n",
    "    print(\"The lcm of {0} and {1} is {2}\".format(num1,num2,lcm))\n",
    "elif num2>num1 and num2%num1==0:\n",
    "    lcm = num2\n",
    "    print(\"The lcm of {0} and {1} is {2}\".format(num1,num2,lcm))\n",
    "else:\n",
    "    h=num1*num2\n",
    "    for i in range(1,h+1):\n",
    "        if i%num1==0 and i%num2==0:\n",
    "            count=count+1\n",
    "            if count==1:\n",
    "                print(\"The lcm of {0} and {1} is {2}\".format(num1,num2,i))\n",
    "                break\n",
    "                    \n",
    "\n"
   ]
  },
  {
   "cell_type": "markdown",
   "id": "a27b3c51",
   "metadata": {},
   "source": [
    "### Solution 2"
   ]
  },
  {
   "cell_type": "code",
   "execution_count": 4,
   "id": "089f5e79",
   "metadata": {},
   "outputs": [
    {
     "name": "stdout",
     "output_type": "stream",
     "text": [
      "Enter the first number : 8\n",
      "Enter the second number : 4\n",
      "The hcf of 8 and 4 is 4\n"
     ]
    }
   ],
   "source": [
    "num1 = int(input(\"Enter the first number : \"))\n",
    "num2 = int(input(\"Enter the second number : \"))\n",
    "count=0\n",
    "if num1<num2 and num2%num1==0:\n",
    "    hcf = num1\n",
    "    print(\"The hcf of {0} and {1} is {2}\".format(num1,num2,hcf))\n",
    "elif num2<num1 and num1%num2==0:\n",
    "    hcf = num2\n",
    "    print(\"The hcf of {0} and {1} is {2}\".format(num1,num2,hcf))\n",
    "elif num1<num2:\n",
    "    for i in range(2,num1+1):\n",
    "        if (num1%i==0 and num2%i==0):\n",
    "            count=count+1\n",
    "            hcf= i\n",
    "    print(\"The hcf of {0} and {1} is {2}\".format(num1,num2,hcf))         \n",
    "else:\n",
    "    for i in range(2,num2+1):\n",
    "        if (num1%i==0 and num2%i==0):\n",
    "            hcf= i\n",
    "    print(\"The hcf of {0} and {1} is {2}\".format(num1,num2,hcf))\n",
    "           "
   ]
  },
  {
   "cell_type": "markdown",
   "id": "744d44e5",
   "metadata": {},
   "source": [
    "### Solution 3"
   ]
  },
  {
   "cell_type": "code",
   "execution_count": 5,
   "id": "b8df1f9c",
   "metadata": {},
   "outputs": [
    {
     "name": "stdout",
     "output_type": "stream",
     "text": [
      "Enter the number u want to convert to : 68\n",
      "The value of the entered number in binary is  0b1000100\n",
      "The value of the entered number in octal is  0o104\n",
      "The value of the entered number in hexadecimal is  0x44\n"
     ]
    }
   ],
   "source": [
    "\n",
    "n=int(input(\"Enter the number u want to convert to : \"))\n",
    "\n",
    "print(\"The value of the entered number in binary is \", bin(n))\n",
    "print(\"The value of the entered number in octal is \", oct(n))\n",
    "print(\"The value of the entered number in hexadecimal is \", hex(n))\n"
   ]
  },
  {
   "cell_type": "markdown",
   "id": "5334f861",
   "metadata": {},
   "source": [
    "### Solution 4"
   ]
  },
  {
   "cell_type": "code",
   "execution_count": 6,
   "id": "e9c325c6",
   "metadata": {},
   "outputs": [
    {
     "name": "stdout",
     "output_type": "stream",
     "text": [
      "Enter the character u want to obtain the ASCII value of : A\n",
      "The ASCII value of A is 65\n"
     ]
    }
   ],
   "source": [
    "char=(input(\"Enter the character u want to obtain the ASCII value of : \"))\n",
    "Asc_value= ord(char)\n",
    "print(\"The ASCII value of {0} is {1}\".format(char,Asc_value))"
   ]
  },
  {
   "cell_type": "markdown",
   "id": "e5e1379f",
   "metadata": {},
   "source": [
    "### Solution 5"
   ]
  },
  {
   "cell_type": "code",
   "execution_count": 7,
   "id": "75245fdd",
   "metadata": {},
   "outputs": [
    {
     "name": "stdout",
     "output_type": "stream",
     "text": [
      "Choose the basic operation u want to perform and enter a number\n",
      "Enter 1 for add, 2 for subs, 3 for multiply and 4 for divide\n",
      "Enter the number : 2\n",
      "Enter the first number : 41\n",
      "Enter the second number : 85\n",
      "The difference of two numbers is 44: \n"
     ]
    }
   ],
   "source": [
    "print(\"Choose the basic operation u want to perform and enter a number\")\n",
    "print(\"Enter 1 for add, 2 for subs, 3 for multiply and 4 for divide\")\n",
    "n= int(input(\"Enter the number : \"))\n",
    "n1=int(input(\"Enter the first number : \"))\n",
    "n2=int(input(\"Enter the second number : \"))\n",
    "if n==1:\n",
    "    sum = n1+n2\n",
    "    print(\"The sum of two numbers is {0}: \".format(sum))\n",
    "elif n==2:\n",
    "    if n1>n2:\n",
    "        diff = n1-n2\n",
    "    else: \n",
    "        diff = n2-n1\n",
    "    print(\"The difference of two numbers is {0}: \".format(diff))\n",
    "elif n==3:\n",
    "    prod=n1*n2\n",
    "    print(\"The product of two numbers is {0}:\".format(prod))\n",
    "else:\n",
    "    if n1>n2:\n",
    "        div = n1/n2\n",
    "    else: \n",
    "        div = n2/n1\n",
    "    print(\"The division of two numbers is {0}: \".format(div))"
   ]
  },
  {
   "cell_type": "code",
   "execution_count": null,
   "id": "280a5bb8",
   "metadata": {},
   "outputs": [],
   "source": []
  }
 ],
 "metadata": {
  "kernelspec": {
   "display_name": "Python 3",
   "language": "python",
   "name": "python3"
  },
  "language_info": {
   "codemirror_mode": {
    "name": "ipython",
    "version": 3
   },
   "file_extension": ".py",
   "mimetype": "text/x-python",
   "name": "python",
   "nbconvert_exporter": "python",
   "pygments_lexer": "ipython3",
   "version": "3.8.8"
  }
 },
 "nbformat": 4,
 "nbformat_minor": 5
}
