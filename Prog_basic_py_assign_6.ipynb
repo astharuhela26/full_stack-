{
 "cells": [
  {
   "cell_type": "markdown",
   "id": "86c40bcb",
   "metadata": {},
   "source": [
    "### Solution 1"
   ]
  },
  {
   "cell_type": "code",
   "execution_count": 3,
   "id": "9976faff",
   "metadata": {},
   "outputs": [
    {
     "name": "stdout",
     "output_type": "stream",
     "text": [
      "Enter the value : 15\n",
      "Fibonacci sequence:\n",
      "0\n",
      "1\n",
      "1\n",
      "2\n",
      "3\n",
      "5\n",
      "8\n",
      "13\n",
      "21\n",
      "34\n",
      "55\n",
      "89\n",
      "144\n",
      "233\n",
      "377\n"
     ]
    }
   ],
   "source": [
    "def fibo(n):\n",
    "    if n <= 1:\n",
    "       return n\n",
    "    else:\n",
    "       return(fibo(n-1) + fibo(n-2))\n",
    "\n",
    "n_terms = int(input(\"Enter the value : \" ))\n",
    "if n_terms <= 0:\n",
    "   print(\"Please enter a positive integer\")\n",
    "else:\n",
    "   print(\"Fibonacci sequence:\")\n",
    "   for i in range(n_terms):\n",
    "       print(fibo(i))"
   ]
  },
  {
   "cell_type": "markdown",
   "id": "9fb39c9f",
   "metadata": {},
   "source": [
    "### Solution 2"
   ]
  },
  {
   "cell_type": "code",
   "execution_count": 17,
   "id": "8413a3df",
   "metadata": {},
   "outputs": [
    {
     "name": "stdout",
     "output_type": "stream",
     "text": [
      "Enter a number : 3\n"
     ]
    },
    {
     "data": {
      "text/plain": [
       "6"
      ]
     },
     "execution_count": 17,
     "metadata": {},
     "output_type": "execute_result"
    }
   ],
   "source": [
    "def fact(n):\n",
    "    if n==1:\n",
    "        return 1\n",
    "    else:\n",
    "        factorial= n*fact(n-1)\n",
    "        return factorial\n",
    "    \n",
    "n=int(input(\"Enter a number : \"))\n",
    "\n",
    "fact(n)"
   ]
  },
  {
   "cell_type": "markdown",
   "id": "6c44b20b",
   "metadata": {},
   "source": [
    "### Solution 3"
   ]
  },
  {
   "cell_type": "code",
   "execution_count": 31,
   "id": "484c85a8",
   "metadata": {},
   "outputs": [
    {
     "name": "stdout",
     "output_type": "stream",
     "text": [
      "Enter the height of a person in metres : \n",
      "1.6459\n",
      "Enter the weight of a person in kilograms : \n",
      "47.5\n",
      "\n",
      " The body mass index of a person is 17.534230814508838 \n",
      "\n",
      "The person is underweight\n"
     ]
    }
   ],
   "source": [
    "ht=float(input(\"Enter the height of a person in metres : \\n\"))\n",
    "wt = float(input(\"Enter the weight of a person in kilograms : \\n\"))\n",
    "bmi = wt/(ht*ht)\n",
    "print(\"\\nThe body mass index of a person is {0} \\n\".format(bmi))\n",
    "if bmi <=18.5:\n",
    "    print(\"The person is underweight\")\n",
    "elif 18.5<bmi<24.9:\n",
    "    print(\"The person is of ideal weight\")\n",
    "else:\n",
    "    print(\"The person is overweight\")"
   ]
  },
  {
   "cell_type": "markdown",
   "id": "88c5efe6",
   "metadata": {},
   "source": [
    "### Solution 4"
   ]
  },
  {
   "cell_type": "code",
   "execution_count": 36,
   "id": "374d039a",
   "metadata": {},
   "outputs": [
    {
     "name": "stdout",
     "output_type": "stream",
     "text": [
      "Enter the number u want to calculate the natural log of : \n",
      "5\n",
      "\n",
      "The naturat log of 5 is 1.6094379124341003 :\n"
     ]
    }
   ],
   "source": [
    "import math\n",
    "number=int(input(\"Enter the number you want to calculate the natural log of : \\n\"))\n",
    "l = math.log(number)\n",
    "print(\"\\nThe naturat log of {0} is {1} :\".format(number, l))"
   ]
  },
  {
   "cell_type": "markdown",
   "id": "3e56c839",
   "metadata": {},
   "source": [
    "### Solution 5"
   ]
  },
  {
   "cell_type": "code",
   "execution_count": 49,
   "id": "fe375fed",
   "metadata": {},
   "outputs": [
    {
     "name": "stdout",
     "output_type": "stream",
     "text": [
      "Enter the number : 5\n",
      "The cube sum of 5 natural number is 225\n"
     ]
    }
   ],
   "source": [
    "number=int(input(\"Enter the number : \"))\n",
    "sum=0\n",
    "for i in range(1,number+1):\n",
    "    sum= sum+ (i**3)\n",
    "print(\"The cube sum of {0} natural number is {1}\".format(number,sum))"
   ]
  },
  {
   "cell_type": "code",
   "execution_count": 46,
   "id": "92bc2a28",
   "metadata": {},
   "outputs": [],
   "source": [
    "a=0"
   ]
  },
  {
   "cell_type": "code",
   "execution_count": null,
   "id": "c107d6b8",
   "metadata": {},
   "outputs": [],
   "source": []
  }
 ],
 "metadata": {
  "kernelspec": {
   "display_name": "Python 3",
   "language": "python",
   "name": "python3"
  },
  "language_info": {
   "codemirror_mode": {
    "name": "ipython",
    "version": 3
   },
   "file_extension": ".py",
   "mimetype": "text/x-python",
   "name": "python",
   "nbconvert_exporter": "python",
   "pygments_lexer": "ipython3",
   "version": "3.8.8"
  }
 },
 "nbformat": 4,
 "nbformat_minor": 5
}
