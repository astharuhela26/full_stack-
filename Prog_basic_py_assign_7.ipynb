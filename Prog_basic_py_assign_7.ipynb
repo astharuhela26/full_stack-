{
 "cells": [
  {
   "cell_type": "markdown",
   "id": "aa1afe33",
   "metadata": {},
   "source": [
    "### Solution 1"
   ]
  },
  {
   "cell_type": "code",
   "execution_count": 16,
   "id": "c1b571ec",
   "metadata": {},
   "outputs": [
    {
     "name": "stdout",
     "output_type": "stream",
     "text": [
      "Enter number of elements you want to enter in an array 3\n",
      "2\n",
      "5\n",
      "9\n",
      "[2.0, 5.0, 9.0]\n",
      "\n",
      "The sum of array is 16.0 \n"
     ]
    }
   ],
   "source": [
    "#Sum of array \n",
    "no_of_element=int(input(\"Enter number of elements you want to enter in an array \"))\n",
    "array =[]\n",
    "for i in range(0,no_of_element):\n",
    "    a=float(input())\n",
    "    array.append(a)\n",
    "sum=0\n",
    "for i in array:\n",
    "    sum=sum+i\n",
    "print(array)\n",
    "print(\"\\nThe sum of array is {0} \".format(sum))"
   ]
  },
  {
   "cell_type": "markdown",
   "id": "7cddac35",
   "metadata": {},
   "source": [
    "### Solution 2"
   ]
  },
  {
   "cell_type": "code",
   "execution_count": 17,
   "id": "7fe47bfe",
   "metadata": {},
   "outputs": [
    {
     "name": "stdout",
     "output_type": "stream",
     "text": [
      "Enter number of elements you want to enter in an array 5\n",
      "2\n",
      "3\n",
      "8\n",
      "15\n",
      "2\n",
      "[2.0, 3.0, 8.0, 15.0, 2.0]\n",
      "\n",
      "The maximum value of an array is 15.0\n"
     ]
    }
   ],
   "source": [
    "#maximum element of an array\n",
    "no_of_element=int(input(\"Enter number of elements you want to enter in the array \"))\n",
    "array =[]\n",
    "for i in range(0,no_of_element):\n",
    "    a=float(input())\n",
    "    array.append(a)\n",
    "max=1\n",
    "for i in array:\n",
    "    if i>max:\n",
    "        max=i\n",
    "print(array)\n",
    "print(\"\\nThe maximum value of the array is {0}\".format(max))\n"
   ]
  },
  {
   "cell_type": "markdown",
   "id": "b94c2a7a",
   "metadata": {},
   "source": [
    "### Solution 3"
   ]
  },
  {
   "cell_type": "code",
   "execution_count": 65,
   "id": "9c7e8391",
   "metadata": {},
   "outputs": [
    {
     "name": "stdout",
     "output_type": "stream",
     "text": [
      "Enter number of elements you want to enter in the array 6\n",
      "2\n",
      "5\n",
      "6\n",
      "8\n",
      "7\n",
      "9\n",
      "The entered array is :\n",
      "\n",
      "[2.0, 5.0, 6.0, 8.0, 7.0, 9.0]\n",
      "enter the position you want to shift the array: 2\n",
      "Enter 1 for left rotation or 2 for right rotation2\n",
      "[7.0, 9.0, 2.0, 5.0, 6.0, 8.0]\n"
     ]
    }
   ],
   "source": [
    "#Array rotation (left or right)\n",
    "\n",
    "n=int(input(\"Enter number of elements you want to enter in the array \"))\n",
    "array =[]\n",
    "for i in range(0,n):\n",
    "    a=float(input())\n",
    "    array.append(a)\n",
    "print(\"The entered array is :\\n\")\n",
    "print(array)\n",
    "p=int(input(\"\\nenter the position you want to shift the array: \"))\n",
    "choice=int(input(\"\\nEnter 1 for left rotation or 2 for right rotation\"))\n",
    "if choice==1:\n",
    "    for j in range(0,p):\n",
    "        fst_elm=array[0]\n",
    "        for i in range(0,n-1):\n",
    "            array[i]=array[i+1]\n",
    "        array[n-1]=fst_elm\n",
    "    print(\"\\nThe resulting array is\", array)\n",
    "else:\n",
    "    for j in range(0,p):\n",
    "        last_elm=array[n-1]\n",
    "        for i in range(n-1,0,-1):\n",
    "            array[i]=array[i-1]\n",
    "        array[0]=last_elm\n",
    "print(array)"
   ]
  },
  {
   "cell_type": "markdown",
   "id": "84b18585",
   "metadata": {},
   "source": [
    "### Solution 4"
   ]
  },
  {
   "cell_type": "code",
   "execution_count": 12,
   "id": "ed06fbf5",
   "metadata": {},
   "outputs": [
    {
     "name": "stdout",
     "output_type": "stream",
     "text": [
      "Enter number of elements you want to enter in the array 6\n",
      "2\n",
      "5\n",
      "5.6\n",
      "13\n",
      "25\n",
      "251\n",
      "The entered array is :\n",
      "\n",
      "[2.0, 5.0, 5.6, 13.0, 25.0, 251.0]\n",
      "\n",
      "Enter the position you want to split the array: 3\n",
      "[13.0, 25.0, 251.0, 2.0, 5.0, 5.6]\n"
     ]
    }
   ],
   "source": [
    "n=int(input(\"Enter number of elements you want to enter in the array \"))\n",
    "array =[]\n",
    "a=[]\n",
    "b=[]\n",
    "for i in range(0,n):\n",
    "    a=float(input())\n",
    "    array.append(a)\n",
    "print(\"The entered array is :\\n\")\n",
    "print(array)\n",
    "p=int(input(\"\\nEnter the position you want to split the array: \"))\n",
    "a=array[:p]\n",
    "b=array[p::]\n",
    "new_array=b+a\n",
    "print(new_array)\n",
    "    "
   ]
  },
  {
   "cell_type": "markdown",
   "id": "d251270c",
   "metadata": {},
   "source": [
    "### Solution 5"
   ]
  },
  {
   "cell_type": "code",
   "execution_count": 14,
   "id": "d87d91bc",
   "metadata": {},
   "outputs": [
    {
     "name": "stdout",
     "output_type": "stream",
     "text": [
      "Enter number of elements you want to enter in the array 6\n",
      "1\n",
      "3\n",
      "5\n",
      "12\n",
      "19\n",
      "20\n",
      "True\n"
     ]
    }
   ],
   "source": [
    "def isMonotonic(A):\n",
    "   return (all(A[i] <= A[i + 1] for i in range(len(A) - 1)) or all(A[i] >= A[i + 1] for i in range(len(A) - 1)))\n",
    "n=int(input(\"Enter number of elements you want to enter in the array \"))\n",
    "array =[]\n",
    "for i in range(0,n):\n",
    "    a=float(input())\n",
    "    array.append(a)\n",
    "print(isMonotonic(array))"
   ]
  },
  {
   "cell_type": "code",
   "execution_count": null,
   "id": "bf34a935",
   "metadata": {},
   "outputs": [],
   "source": []
  }
 ],
 "metadata": {
  "kernelspec": {
   "display_name": "Python 3",
   "language": "python",
   "name": "python3"
  },
  "language_info": {
   "codemirror_mode": {
    "name": "ipython",
    "version": 3
   },
   "file_extension": ".py",
   "mimetype": "text/x-python",
   "name": "python",
   "nbconvert_exporter": "python",
   "pygments_lexer": "ipython3",
   "version": "3.8.8"
  }
 },
 "nbformat": 4,
 "nbformat_minor": 5
}
