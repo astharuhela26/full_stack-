{
 "cells": [
  {
   "cell_type": "markdown",
   "id": "0963772b",
   "metadata": {},
   "source": [
    "### Sol 1"
   ]
  },
  {
   "cell_type": "code",
   "execution_count": 3,
   "id": "18cead72",
   "metadata": {},
   "outputs": [
    {
     "name": "stdout",
     "output_type": "stream",
     "text": [
      "Enter the number : 30\n",
      "The numbers which are divisible by 7 are: \n",
      "0\n",
      "7\n",
      "14\n",
      "21\n",
      "28\n"
     ]
    }
   ],
   "source": [
    "class gen(object):\n",
    "    def __init__(self,n):\n",
    "        self.n = n\n",
    "    \n",
    "    def div_func(self):\n",
    "        for i in range(0,self.n):\n",
    "            if(i%7==0):\n",
    "                yield(i)\n",
    "\n",
    "n = int(input(\"Enter the number : \"))\n",
    "\n",
    "print(\"The numbers which are divisible by 7 are: \")\n",
    "\n",
    "for i in gen(n).div_func():\n",
    "    print(i)"
   ]
  },
  {
   "cell_type": "markdown",
   "id": "252cab23",
   "metadata": {},
   "source": [
    "### Sol 2"
   ]
  },
  {
   "cell_type": "code",
   "execution_count": 24,
   "id": "bd9fb655",
   "metadata": {},
   "outputs": [
    {
     "name": "stdout",
     "output_type": "stream",
     "text": [
      "Enter the sentence : New to Python or choosing between Python 2 and Python 3? Read Python 2 or Python 3.\n",
      "\n",
      " The sorted list is: \n",
      "\n",
      " ['2', '2', '3.', '3?', 'New', 'Python', 'Python', 'Python', 'Python', 'Python', 'Read', 'and', 'between', 'choosing', 'or', 'or', 'to'] \n",
      "\n",
      "The frequency of elements is : \n",
      "\n",
      "2 : 2\n",
      "3. : 1\n",
      "3? : 1\n",
      "New : 1\n",
      "Python : 5\n",
      "Read : 1\n",
      "and : 1\n",
      "between : 1\n",
      "choosing : 1\n",
      "or : 2\n",
      "to : 1\n"
     ]
    }
   ],
   "source": [
    "sentence = input(\"Enter the sentence : \")\n",
    "\n",
    "lt=sentence.split(\" \")\n",
    "lt.sort()\n",
    "new={}\n",
    "\n",
    "print(\"\\n The sorted list is: \")\n",
    "print(\"\\n\",lt,\"\\n\")\n",
    "\n",
    "for i in lt:\n",
    "    if (i in new):\n",
    "        new[i] += 1\n",
    "    else:\n",
    "        new[i] = 1\n",
    "\n",
    "print(\"The frequency of elements is : \\n\")\n",
    "for key, value in new.items():\n",
    "    print (key, \":\" ,value)\n",
    "            "
   ]
  },
  {
   "cell_type": "markdown",
   "id": "67b55fd1",
   "metadata": {},
   "source": [
    "### Sol 3"
   ]
  },
  {
   "cell_type": "code",
   "execution_count": 5,
   "id": "8057434c",
   "metadata": {},
   "outputs": [
    {
     "name": "stdout",
     "output_type": "stream",
     "text": [
      "Male\n",
      "Female\n"
     ]
    }
   ],
   "source": [
    "class Person(object):\n",
    "    def __init__(self,gender=\"Unknown\"):\n",
    "        self.gender = \"Unknown\"\n",
    "    def getGender( self ):\n",
    "        return self.gender\n",
    "\n",
    "class Male( Person ):\n",
    "    def __init__(self):\n",
    "        self.gender = \"Male\"\n",
    "    \n",
    "    def getGender( self ):\n",
    "        return self.gender\n",
    "\n",
    "class Female( Person ):\n",
    "    def __init__(self):\n",
    "        self.gender = \"Female\"\n",
    "    \n",
    "    def getGender( self ):\n",
    "        return self.gender\n",
    "\n",
    "male = Male()\n",
    "female = Female()\n",
    "print(male.getGender())\n",
    "print(female.getGender())"
   ]
  },
  {
   "cell_type": "markdown",
   "id": "e4737a62",
   "metadata": {},
   "source": [
    "### Sol 4"
   ]
  },
  {
   "cell_type": "code",
   "execution_count": 7,
   "id": "faa8a4bc",
   "metadata": {},
   "outputs": [
    {
     "name": "stdout",
     "output_type": "stream",
     "text": [
      "I Play Hockey\n",
      "I Play Football\n",
      "I Love Hockey\n",
      "I Love Football\n",
      "You Play Hockey\n",
      "You Play Football\n",
      "You Love Hockey\n",
      "You Love Football\n"
     ]
    }
   ],
   "source": [
    "sub=[\"I\",\"You\"]\n",
    "verb=[\"Play\",\"Love\"]\n",
    "ob=[\"Hockey\",\"Football\"]\n",
    "for i in sub:\n",
    "    for j in verb:\n",
    "        for z in ob:\n",
    "            print(i + \" \" + j + \" \" + z)"
   ]
  },
  {
   "cell_type": "markdown",
   "id": "7951b74e",
   "metadata": {},
   "source": [
    "### Sol 5"
   ]
  },
  {
   "cell_type": "code",
   "execution_count": 10,
   "id": "574205c6",
   "metadata": {},
   "outputs": [
    {
     "name": "stdout",
     "output_type": "stream",
     "text": [
      "b'x\\x9c\\xcbH\\xcd\\xc9\\xc9W(\\xcf/\\xcaIQ\\xcc \\x82\\r\\x00\\xbd[\\x11\\xf5'\n",
      "\n",
      "\n",
      "b'hello world!hello world!hello world!hello world!'\n"
     ]
    }
   ],
   "source": [
    "import zlib\n",
    "\n",
    "s = 'hello world!hello world!hello world!hello world!'\n",
    "\n",
    "co = zlib.compress(bytes(s,'utf-8'))\n",
    "print(co)\n",
    "\n",
    "print(\"\\n\")\n",
    "\n",
    "print(zlib.decompress(co))"
   ]
  },
  {
   "cell_type": "markdown",
   "id": "8adeb6d2",
   "metadata": {},
   "source": [
    "### Sol 6"
   ]
  },
  {
   "cell_type": "code",
   "execution_count": 14,
   "id": "748ea68a",
   "metadata": {},
   "outputs": [
    {
     "name": "stdout",
     "output_type": "stream",
     "text": [
      "Enter a string \n",
      "5\n",
      "Enter the elements of list : vidushi\n",
      "Enter the elements of list : daisy\n",
      "Enter the elements of list : shah\n",
      "Enter the elements of list : payal\n",
      "Enter the elements of list : sameer\n",
      "\n",
      "\n",
      "['daisy', 'payal', 'sameer', 'shah', 'vidushi']\n",
      "\n",
      "Enter the element to be searched \n",
      "shah\n",
      "\n",
      "The index of the searched element is :  3\n"
     ]
    }
   ],
   "source": [
    "n=int(input(\"Enter a string \\n\"))\n",
    "l=[]\n",
    "for i in range(n):\n",
    "    l.append(input(\"Enter the elements of list : \"))\n",
    "\n",
    "l.sort()\n",
    "print(\"\\n\")\n",
    "print(l)\n",
    "    \n",
    "search_st=input(\"\\nEnter the element to be searched \\n\")\n",
    "\n",
    "\n",
    "for i in range(n):\n",
    "    if l[i]==search_st:\n",
    "        print(\"\\nThe index of the searched element is : \", i) "
   ]
  },
  {
   "cell_type": "code",
   "execution_count": null,
   "id": "e79ce62c",
   "metadata": {},
   "outputs": [],
   "source": []
  }
 ],
 "metadata": {
  "kernelspec": {
   "display_name": "Python 3",
   "language": "python",
   "name": "python3"
  },
  "language_info": {
   "codemirror_mode": {
    "name": "ipython",
    "version": 3
   },
   "file_extension": ".py",
   "mimetype": "text/x-python",
   "name": "python",
   "nbconvert_exporter": "python",
   "pygments_lexer": "ipython3",
   "version": "3.8.8"
  }
 },
 "nbformat": 4,
 "nbformat_minor": 5
}
