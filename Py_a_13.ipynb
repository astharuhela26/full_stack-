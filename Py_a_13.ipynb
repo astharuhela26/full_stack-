{
 "cells": [
  {
   "cell_type": "markdown",
   "id": "814c7bd8",
   "metadata": {},
   "source": [
    "### Sol 1"
   ]
  },
  {
   "cell_type": "code",
   "execution_count": 21,
   "id": "d9d9c43e",
   "metadata": {},
   "outputs": [
    {
     "name": "stdout",
     "output_type": "stream",
     "text": [
      "Enter the number \n",
      "100\n",
      "Enter the number \n",
      "150\n",
      "Enter the number \n",
      "180\n",
      "['100', '150', '180']\n",
      "\n",
      "\n",
      "18 ,22 ,24\n"
     ]
    }
   ],
   "source": [
    "import math\n",
    "\n",
    "c=50\n",
    "h=30\n",
    "d=[]\n",
    "list=[]\n",
    "\n",
    "for i in range(3):\n",
    "    d.append(input(\"Enter the number \\n\"))\n",
    "print(d)\n",
    "\n",
    "print(\"\\n\")\n",
    "\n",
    "for i in range(3):\n",
    "    Q=math.sqrt((2*c*int(d[i])/h))\n",
    "    list.append(int(round(Q,0)))\n",
    "    \n",
    "ls= ' ,'.join([str(elem) for elem in list])\n",
    "\n",
    "print(ls)"
   ]
  },
  {
   "cell_type": "markdown",
   "id": "a9d75647",
   "metadata": {},
   "source": [
    "### Sol 2"
   ]
  },
  {
   "cell_type": "code",
   "execution_count": 40,
   "id": "4825da23",
   "metadata": {},
   "outputs": [
    {
     "name": "stdout",
     "output_type": "stream",
     "text": [
      "Enter value of X : 3\n",
      "Enter value of Y : 5\n",
      "[[0, 0, 0, 0, 0], [0, 1, 2, 3, 4], [0, 2, 4, 6, 8]]\n"
     ]
    }
   ],
   "source": [
    "X=int(input(\"Enter value of X : \"))\n",
    "\n",
    "Y=int(input(\"Enter value of Y : \"))\n",
    "\n",
    "a=[[i*j for i in range(Y)] for j in range(X)]\n",
    "print(a)"
   ]
  },
  {
   "cell_type": "markdown",
   "id": "18735842",
   "metadata": {},
   "source": [
    "### Sol 3"
   ]
  },
  {
   "cell_type": "code",
   "execution_count": 3,
   "id": "a9d7ad86",
   "metadata": {},
   "outputs": [
    {
     "name": "stdout",
     "output_type": "stream",
     "text": [
      "Enter the words in comma seperated form : without,hello,bag,world\n",
      "bag,hello,without,world\n"
     ]
    }
   ],
   "source": [
    "word=input(\"Enter the words in comma seperated form : \")\n",
    "w=word.split(\",\")\n",
    "w.sort()\n",
    "print((\",\").join(w))\n"
   ]
  },
  {
   "cell_type": "markdown",
   "id": "f6af77fa",
   "metadata": {},
   "source": [
    "### Sol 4"
   ]
  },
  {
   "cell_type": "code",
   "execution_count": 6,
   "id": "0f360e8d",
   "metadata": {},
   "outputs": [
    {
     "name": "stdout",
     "output_type": "stream",
     "text": [
      "Enter words separated by white space : hello world and practice makes perfect and hello world again\n",
      "\n",
      "\n",
      "perfect and makes practice again world hello\n"
     ]
    }
   ],
   "source": [
    "sentence = input(\"Enter words separated by white space : \")  \n",
    "\n",
    "wl=sentence.split(\" \")\n",
    "wl.sort()\n",
    "\n",
    "final_list=set(wl)\n",
    "\n",
    "print(\"\\n\")\n",
    "\n",
    "print(\" \".join(final_list))\n"
   ]
  },
  {
   "cell_type": "markdown",
   "id": "e4686efc",
   "metadata": {},
   "source": [
    "### Sol 5"
   ]
  },
  {
   "cell_type": "code",
   "execution_count": 7,
   "id": "4b456d10",
   "metadata": {},
   "outputs": [
    {
     "name": "stdout",
     "output_type": "stream",
     "text": [
      "Enter words separated by white space : hello world! 123\n",
      "\n",
      "The number of letter in the sentence are :  13\n",
      "\n",
      "The number of digit in the sentence are :  3\n"
     ]
    }
   ],
   "source": [
    "sentence = input(\"Enter words separated by white space : \") \n",
    "char=0\n",
    "digit=0\n",
    "\n",
    "for i in sentence:\n",
    "    \n",
    "    if i.isdigit()==True:\n",
    "        digit=digit+1\n",
    "    else:\n",
    "        char=char+1\n",
    "        \n",
    "print(\"\\nThe number of letter in the sentence are : \", char)\n",
    "\n",
    "print(\"\\nThe number of digit in the sentence are : \", digit)"
   ]
  },
  {
   "cell_type": "markdown",
   "id": "c4e96cdd",
   "metadata": {},
   "source": [
    "### Sol 6"
   ]
  },
  {
   "cell_type": "code",
   "execution_count": 13,
   "id": "b4edc307",
   "metadata": {},
   "outputs": [
    {
     "name": "stdout",
     "output_type": "stream",
     "text": [
      "Input your password : ABd1234@1,a F1#,2w3E*,2We3345\n",
      "ABd1234@1\n"
     ]
    }
   ],
   "source": [
    "import re\n",
    "\n",
    "p= input(\"Input your password : \")\n",
    "pl=p.split(\",\")\n",
    "\n",
    "pwd=[]\n",
    "\n",
    "for i in pl:\n",
    "    \n",
    "    if (len(i)<6 or len(i)>12):\n",
    "        continue\n",
    "    elif not re.search(\"[a-z]\",i):\n",
    "        continue\n",
    "    elif not re.search(\"[0-9]\",i):\n",
    "        continue\n",
    "    elif not re.search(\"[A-Z]\",i):\n",
    "        continue\n",
    "    elif not re.search(\"[$#@]\",i):\n",
    "        continue\n",
    "    elif re.search(\"\\s\",i):\n",
    "        continue\n",
    "    else:\n",
    "        pwd.append(i)\n",
    "\n",
    "print((\" \").join(pwd))\n",
    "\n"
   ]
  },
  {
   "cell_type": "code",
   "execution_count": null,
   "id": "9279e412",
   "metadata": {},
   "outputs": [],
   "source": []
  }
 ],
 "metadata": {
  "kernelspec": {
   "display_name": "Python 3",
   "language": "python",
   "name": "python3"
  },
  "language_info": {
   "codemirror_mode": {
    "name": "ipython",
    "version": 3
   },
   "file_extension": ".py",
   "mimetype": "text/x-python",
   "name": "python",
   "nbconvert_exporter": "python",
   "pygments_lexer": "ipython3",
   "version": "3.8.8"
  }
 },
 "nbformat": 4,
 "nbformat_minor": 5
}
