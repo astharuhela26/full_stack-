{
 "cells": [
  {
   "cell_type": "markdown",
   "id": "de42efd6",
   "metadata": {},
   "source": [
    "### Sol 1"
   ]
  },
  {
   "cell_type": "code",
   "execution_count": 28,
   "id": "9abf8a36",
   "metadata": {},
   "outputs": [
    {
     "name": "stdout",
     "output_type": "stream",
     "text": [
      "Enter the value of a : 1\n",
      "Enter the value of b : 10\n",
      "Enter the value of c : 2\n",
      "+2+4+6+8+10 = 30\n"
     ]
    }
   ],
   "source": [
    "a= int(input(\"Enter the value of a : \"))\n",
    "b=int(input(\"Enter the value of b : \"))\n",
    "c=int(input(\"Enter the value of c : \"))\n",
    "\n",
    "def evenly_divisible(a,b,c):\n",
    "    l=[]\n",
    "    s=0\n",
    "    st=\"\"\n",
    "    for i in range(a,b+1):\n",
    "        if i%c==0:\n",
    "            s=s+i\n",
    "            l.append(i)\n",
    "    \n",
    "    if (sum(l)!=0):\n",
    "        for i in l:\n",
    "            st=st+\"+\"+str(i)\n",
    "        print(st,\"=\",s)\n",
    "    else:\n",
    "        print(\"No number between {0} and {1} can be evenly divided by {2}\".foramt(a,b,c))\n",
    "\n",
    "evenly_divisible(a,b,c)"
   ]
  },
  {
   "cell_type": "markdown",
   "id": "edf4d85e",
   "metadata": {},
   "source": [
    "### Sol 2"
   ]
  },
  {
   "cell_type": "code",
   "execution_count": 50,
   "id": "5ad2df85",
   "metadata": {},
   "outputs": [
    {
     "data": {
      "text/plain": [
       "True"
      ]
     },
     "execution_count": 50,
     "metadata": {},
     "output_type": "execute_result"
    }
   ],
   "source": [
    "def correct_signs(ex):\n",
    "    \n",
    "    return(bool(ex))\n",
    "\n",
    "correct_signs(3>2)"
   ]
  },
  {
   "cell_type": "markdown",
   "id": "a67b57a7",
   "metadata": {},
   "source": [
    "### Sol 3"
   ]
  },
  {
   "cell_type": "code",
   "execution_count": 52,
   "id": "1d953fd0",
   "metadata": {},
   "outputs": [
    {
     "name": "stdout",
     "output_type": "stream",
     "text": [
      "Enter a string : the aardwark\n"
     ]
    },
    {
     "data": {
      "text/plain": [
       "'the ##rdw#rk'"
      ]
     },
     "execution_count": 52,
     "metadata": {},
     "output_type": "execute_result"
    }
   ],
   "source": [
    "def replace_vowels(s):\n",
    "    for i in s:\n",
    "        if i==\"a\" or i==\"e\" or i==\"o\" or i==\"i\" or i==\"u\":\n",
    "            re=s.replace(i,\"#\")\n",
    "    return(re)\n",
    "\n",
    "st=input(\"Enter a string : \")\n",
    "replace_vowels(st)"
   ]
  },
  {
   "cell_type": "markdown",
   "id": "39e9c2e7",
   "metadata": {},
   "source": [
    "### Sol4 "
   ]
  },
  {
   "cell_type": "code",
   "execution_count": 53,
   "id": "9acc9a59",
   "metadata": {},
   "outputs": [
    {
     "name": "stdout",
     "output_type": "stream",
     "text": [
      "Enter a number: 5\n",
      "The factorial of 5 is 120\n"
     ]
    }
   ],
   "source": [
    "def recur_factorial(n):  \n",
    "    if n == 1:  \n",
    "        return n  \n",
    "    else:  \n",
    "        return n*recur_factorial(n-1)  \n",
    "\n",
    "num = int(input(\"Enter a number: \"))  \n",
    "\n",
    "if num < 0:  \n",
    "    print(\"Sorry, factorial does not exist for negative numbers\")  \n",
    "elif num == 0:  \n",
    "    print(\"The factorial of 0 is 1\")  \n",
    "else:  \n",
    "    print(\"The factorial of\",num,\"is\",recur_factorial(num))  "
   ]
  },
  {
   "cell_type": "markdown",
   "id": "db4f8d81",
   "metadata": {},
   "source": [
    "### Sol 5"
   ]
  },
  {
   "cell_type": "code",
   "execution_count": 55,
   "id": "5ea505ea",
   "metadata": {},
   "outputs": [
    {
     "name": "stdout",
     "output_type": "stream",
     "text": [
      "Enter string 1 : strong\n",
      "Enter string 2 : strung\n"
     ]
    },
    {
     "data": {
      "text/plain": [
       "1"
      ]
     },
     "execution_count": 55,
     "metadata": {},
     "output_type": "execute_result"
    }
   ],
   "source": [
    "def hamming_distance(s1,s2):\n",
    "    d=0\n",
    "    for i in range(len(s1)):\n",
    "        if s1[i]!=s2[i]:\n",
    "            d+=1\n",
    "    return(d)\n",
    "    \n",
    "st1=input(\"Enter string 1 : \")\n",
    "st2=input(\"Enter string 2 : \")\n",
    "\n",
    "hamming_distance(st1,st2)"
   ]
  },
  {
   "cell_type": "code",
   "execution_count": null,
   "id": "5659b6ce",
   "metadata": {},
   "outputs": [],
   "source": []
  }
 ],
 "metadata": {
  "kernelspec": {
   "display_name": "Python 3",
   "language": "python",
   "name": "python3"
  },
  "language_info": {
   "codemirror_mode": {
    "name": "ipython",
    "version": 3
   },
   "file_extension": ".py",
   "mimetype": "text/x-python",
   "name": "python",
   "nbconvert_exporter": "python",
   "pygments_lexer": "ipython3",
   "version": "3.8.8"
  }
 },
 "nbformat": 4,
 "nbformat_minor": 5
}
