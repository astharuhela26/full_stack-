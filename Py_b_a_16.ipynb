{
 "cells": [
  {
   "cell_type": "markdown",
   "id": "14d51937",
   "metadata": {},
   "source": [
    "### Sol 1"
   ]
  },
  {
   "cell_type": "code",
   "execution_count": 37,
   "id": "787cf172",
   "metadata": {},
   "outputs": [
    {
     "data": {
      "text/plain": [
       "'en... en... enthusiastic?'"
      ]
     },
     "execution_count": 37,
     "metadata": {},
     "output_type": "execute_result"
    }
   ],
   "source": [
    "def shutter(n):\n",
    "    s=n[:2]\n",
    "    word=s+\"... \"+s+\"... \"+n+\"?\"\n",
    "    return(word)\n",
    "\n",
    "shutter(\"enthusiastic\")"
   ]
  },
  {
   "cell_type": "markdown",
   "id": "580d58d2",
   "metadata": {},
   "source": [
    "### Sol 2"
   ]
  },
  {
   "cell_type": "code",
   "execution_count": 17,
   "id": "5a6f672a",
   "metadata": {},
   "outputs": [
    {
     "data": {
      "text/plain": [
       "2864.8"
      ]
     },
     "execution_count": 17,
     "metadata": {},
     "output_type": "execute_result"
    }
   ],
   "source": [
    "def angle(a):\n",
    "    import math\n",
    "    a_degree=180/math.pi*a\n",
    "    return(round((a_degree),1))\n",
    "angle(50)"
   ]
  },
  {
   "cell_type": "markdown",
   "id": "1bf8a2ed",
   "metadata": {},
   "source": [
    "### Sol 3"
   ]
  },
  {
   "cell_type": "code",
   "execution_count": 33,
   "id": "0eca7c5a",
   "metadata": {},
   "outputs": [
    {
     "name": "stdout",
     "output_type": "stream",
     "text": [
      "Enter a number : 10\n"
     ]
    },
    {
     "data": {
      "text/plain": [
       "False"
      ]
     },
     "execution_count": 33,
     "metadata": {},
     "output_type": "execute_result"
    }
   ],
   "source": [
    "def is_curzon(n):\n",
    "    a=2**n+1\n",
    "    b=2*n+1\n",
    "    if (a%b==0):\n",
    "        return(True)\n",
    "    else:\n",
    "        return(False)\n",
    "n=int(input(\"Enter a number : \"))\n",
    "is_curzon(n)"
   ]
  },
  {
   "cell_type": "markdown",
   "id": "84c75323",
   "metadata": {},
   "source": [
    "### Sol 4"
   ]
  },
  {
   "cell_type": "code",
   "execution_count": 35,
   "id": "b60c3fb1",
   "metadata": {},
   "outputs": [
    {
     "data": {
      "text/plain": [
       "23.4"
      ]
     },
     "execution_count": 35,
     "metadata": {},
     "output_type": "execute_result"
    }
   ],
   "source": [
    "def area_of_hexagon(s):\n",
    "    import math\n",
    "    a=(3*math.sqrt(3)*(s**2))/2\n",
    "    return(round((a),1))\n",
    "area_of_hexagon(3)"
   ]
  },
  {
   "cell_type": "markdown",
   "id": "f098127d",
   "metadata": {},
   "source": [
    "### Sol 5"
   ]
  },
  {
   "cell_type": "code",
   "execution_count": 36,
   "id": "dc7136c1",
   "metadata": {},
   "outputs": [
    {
     "name": "stdout",
     "output_type": "stream",
     "text": [
      "Enter the number:10\n"
     ]
    },
    {
     "data": {
      "text/plain": [
       "1010"
      ]
     },
     "execution_count": 36,
     "metadata": {},
     "output_type": "execute_result"
    }
   ],
   "source": [
    "def bi(num):\n",
    "    return int(bin(num)[2:])\n",
    "\n",
    "n = int(input(\"Enter the number:\"))\n",
    "\n",
    "bi(n)"
   ]
  },
  {
   "cell_type": "code",
   "execution_count": null,
   "id": "9e7d40c3",
   "metadata": {},
   "outputs": [],
   "source": []
  }
 ],
 "metadata": {
  "kernelspec": {
   "display_name": "Python 3",
   "language": "python",
   "name": "python3"
  },
  "language_info": {
   "codemirror_mode": {
    "name": "ipython",
    "version": 3
   },
   "file_extension": ".py",
   "mimetype": "text/x-python",
   "name": "python",
   "nbconvert_exporter": "python",
   "pygments_lexer": "ipython3",
   "version": "3.8.8"
  }
 },
 "nbformat": 4,
 "nbformat_minor": 5
}
