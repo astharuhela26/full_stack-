{
 "cells": [
  {
   "cell_type": "markdown",
   "id": "c665db6d",
   "metadata": {},
   "source": [
    "### Sol 1"
   ]
  },
  {
   "cell_type": "code",
   "execution_count": 6,
   "id": "72351803",
   "metadata": {},
   "outputs": [
    {
     "data": {
      "text/plain": [
       "[1, 6, 6]"
      ]
     },
     "execution_count": 6,
     "metadata": {},
     "output_type": "execute_result"
    }
   ],
   "source": [
    "def filter_list(l):\n",
    "\n",
    "    il=[]\n",
    "    \n",
    "    for i in l:\n",
    "        \n",
    "        if type(i)==str:\n",
    "            \n",
    "            continue\n",
    "        else:\n",
    "            il.append(i)\n",
    "            \n",
    "    return(il)\n",
    "\n",
    "l=[1,6,\"sddd\",6,\"sdsd\",\"yjh\"]\n",
    "\n",
    "filter_list(l)\n"
   ]
  },
  {
   "cell_type": "markdown",
   "id": "38869b33",
   "metadata": {},
   "source": [
    "### Sol 2"
   ]
  },
  {
   "cell_type": "code",
   "execution_count": 16,
   "id": "f1ba6460",
   "metadata": {},
   "outputs": [
    {
     "name": "stdout",
     "output_type": "stream",
     "text": [
      "Enter a string : Hello World\n"
     ]
    },
    {
     "data": {
      "text/plain": [
       "'DLROw OLLEh'"
      ]
     },
     "execution_count": 16,
     "metadata": {},
     "output_type": "execute_result"
    }
   ],
   "source": [
    "def reverse(s):\n",
    "    \n",
    "    new_s=s.swapcase()\n",
    "    ns=\"\"\n",
    "    \n",
    "    for i in new_s:\n",
    "        \n",
    "        ns=i+ns\n",
    "        \n",
    "    return(ns) \n",
    "\n",
    "string=input(\"Enter a string : \")\n",
    "\n",
    "reverse(string)"
   ]
  },
  {
   "cell_type": "markdown",
   "id": "e403a6e5",
   "metadata": {},
   "source": [
    "### Sol 3"
   ]
  },
  {
   "cell_type": "code",
   "execution_count": 21,
   "id": "4facc54f",
   "metadata": {},
   "outputs": [
    {
     "name": "stdout",
     "output_type": "stream",
     "text": [
      "Enter the number of you want to enter in a list\n",
      "5\n",
      "Enter the elements : 3\n",
      "Enter the elements : 6\n",
      "Enter the elements : 2\n",
      "Enter the elements : 1\n",
      "Enter the elements : 3\n",
      "Enter the elements : 4\n",
      "\n",
      "The Entered list is : \n",
      "\n",
      "['3', '6', '2', '1', '3', '4']\n",
      "\n",
      "The first,middle and the last part of the list are : \n",
      "\n",
      " 3 \n",
      "\n",
      "['6', '2', '1', '3'] \n",
      "\n",
      "4 \n",
      "\n"
     ]
    }
   ],
   "source": [
    "n=int(input(\"Enter the number of you want to enter in a list\\n\"))\n",
    "l=[]\n",
    "\n",
    "for i in range(0,n+1):\n",
    "    \n",
    "    l.append(input(\"Enter the elements : \"))\n",
    "    \n",
    "print(\"\\nThe Entered list is : \\n\")\n",
    "\n",
    "print(l)\n",
    "    \n",
    "first=l[0]\n",
    "middle=l[1:-1]\n",
    "last=l[-1]\n",
    "\n",
    "print(\"\\nThe first,middle and the last part of the list are : \")\n",
    "print(\"\\n\",first,\"\\n\")\n",
    "print(middle,\"\\n\")\n",
    "print(last,\"\\n\")\n",
    "    "
   ]
  },
  {
   "cell_type": "markdown",
   "id": "54b3a3ae",
   "metadata": {},
   "source": [
    "### Sol 4\n"
   ]
  },
  {
   "cell_type": "code",
   "execution_count": 25,
   "id": "cfbf964d",
   "metadata": {},
   "outputs": [
    {
     "name": "stdout",
     "output_type": "stream",
     "text": [
      "Enter the number : \n",
      "5\n",
      "The factorial of 5 is 120\n"
     ]
    }
   ],
   "source": [
    "def recur_factorial(n):\n",
    "    if n == 1:\n",
    "        return n\n",
    "    else:\n",
    "        return n*recur_factorial(n-1)\n",
    "\n",
    "num = int(input(\"Enter the number : \\n\"))\n",
    "\n",
    "\n",
    "if num < 0:\n",
    "    print(\"Sorry, factorial does not exist for negative numbers\")\n",
    "elif num == 0:\n",
    "    print(\"The factorial of 0 is 1\")\n",
    "else:\n",
    "    print(\"The factorial of\", num, \"is\", recur_factorial(num))"
   ]
  },
  {
   "cell_type": "markdown",
   "id": "9620a6d5",
   "metadata": {},
   "source": [
    "### Sol 5"
   ]
  },
  {
   "cell_type": "code",
   "execution_count": 36,
   "id": "6a0a3cec",
   "metadata": {},
   "outputs": [
    {
     "name": "stdout",
     "output_type": "stream",
     "text": [
      "Enter the number of you want to enter in a list\n",
      "5\n",
      "Enter the number of you want to enter in a list\n",
      "3\n",
      "Enter the elements : 2\n",
      "Enter the elements : 3\n",
      "Enter the elements : 3\n",
      "Enter the elements : 6\n",
      "Enter the elements : 9\n",
      "Enter the elements : 3\n",
      "\n",
      "The Entered list is : \n",
      "\n",
      "['2', '3', '3', '6', '9', '3']\n"
     ]
    },
    {
     "data": {
      "text/plain": [
       "['2', '6', '9', '3', '3', '3']"
      ]
     },
     "execution_count": 36,
     "metadata": {},
     "output_type": "execute_result"
    }
   ],
   "source": [
    "def move_to_end(l,n):\n",
    "\n",
    "    new_l=[]\n",
    "    n_l=[]\n",
    "    for i in l:\n",
    "        if i==str(n):\n",
    "            new_l.append(i)\n",
    "            l.remove(i)\n",
    "        else:\n",
    "            pass\n",
    "  \n",
    "\n",
    "    return(l+new_l)   \n",
    "    \n",
    "    \n",
    "n=int(input(\"Enter the number of you want to enter in a list\\n\"))\n",
    "num=int(input(\"Enter the number of you want to enter in a list\\n\"))\n",
    "\n",
    "li=[]\n",
    "\n",
    "for i in range(0,n+1):\n",
    "\n",
    "    li.append(input(\"Enter the elements : \"))\n",
    "\n",
    "print(\"\\nThe Entered list is : \\n\")\n",
    "\n",
    "print(li)\n",
    "\n",
    "move_to_end(li,num)"
   ]
  },
  {
   "cell_type": "code",
   "execution_count": null,
   "id": "b99f2198",
   "metadata": {},
   "outputs": [],
   "source": []
  }
 ],
 "metadata": {
  "kernelspec": {
   "display_name": "Python 3",
   "language": "python",
   "name": "python3"
  },
  "language_info": {
   "codemirror_mode": {
    "name": "ipython",
    "version": 3
   },
   "file_extension": ".py",
   "mimetype": "text/x-python",
   "name": "python",
   "nbconvert_exporter": "python",
   "pygments_lexer": "ipython3",
   "version": "3.8.8"
  }
 },
 "nbformat": 4,
 "nbformat_minor": 5
}
